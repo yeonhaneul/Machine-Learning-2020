{
 "metadata": {
  "language_info": {
   "codemirror_mode": {
    "name": "ipython",
    "version": 3
   },
   "file_extension": ".py",
   "mimetype": "text/x-python",
   "name": "python",
   "nbconvert_exporter": "python",
   "pygments_lexer": "ipython3",
   "version": "3.8.3-final"
  },
  "orig_nbformat": 2,
  "kernelspec": {
   "name": "python3",
   "display_name": "Python 3",
   "language": "python"
  }
 },
 "nbformat": 4,
 "nbformat_minor": 2,
 "cells": [
  {
   "source": [
    "# 랜덤 포레스트(Random Forest)"
   ],
   "cell_type": "markdown",
   "metadata": {}
  },
  {
   "cell_type": "code",
   "execution_count": 1,
   "metadata": {},
   "outputs": [],
   "source": [
    "import pandas as pd \n",
    "feature_name_df = pd.read_csv('../00.data/UCI_HAR_Dataset/features.txt', sep='\\s+',\n",
    "                                header=None, names=['col_index','col_name'])"
   ]
  },
  {
   "cell_type": "code",
   "execution_count": 2,
   "metadata": {},
   "outputs": [],
   "source": [
    "def get_new_feature_name_df(old_df):\n",
    "    dup_df = pd.DataFrame({'dup_cnt':feature_name_df.groupby('col_name').cumcount()})\n",
    "    new_df = pd.merge(old_df.reset_index(), dup_df.reset_index())\n",
    "    new_df['col_name'] = new_df[['col_name', 'dup_cnt']].\\\n",
    "        apply(lambda x: x[0]+'_'+str(x[1]) if x[1] > 0 else x[0], axis=1)\n",
    "    new_df = new_df.drop(['index'], axis=1)\n",
    "    return new_df"
   ]
  },
  {
   "cell_type": "code",
   "execution_count": 3,
   "metadata": {},
   "outputs": [],
   "source": [
    "new_feature_df = get_new_feature_name_df(feature_name_df)\n",
    "feature_list = list(new_feature_df.col_name.values)"
   ]
  },
  {
   "cell_type": "code",
   "execution_count": 4,
   "metadata": {},
   "outputs": [],
   "source": [
    "# 실질적으로 분석해야 하는 데이터들을 첫번째 함수에서 제작한 칼럼명을 가진 Data Frame으로 만들어 주는것\n",
    "X_train = pd.read_csv('../00.data/UCI_HAR_Dataset/train/X_train.txt', \n",
    "                      header=None, sep='\\s+', names=feature_list)\n",
    "X_test = pd.read_csv('../00.data/UCI_HAR_Dataset/test/X_test.txt', \n",
    "                     header=None, sep='\\s+', names=feature_list)\n",
    "y_train = pd.read_csv('../00.data/UCI_HAR_Dataset/train/y_train.txt', \n",
    "                      header=None, sep='\\s+', names=['action'])\n",
    "y_test = pd.read_csv('../00.data/UCI_HAR_Dataset/test/y_test.txt', \n",
    "                     header=None, sep='\\s+', names=['action'])"
   ]
  },
  {
   "source": [
    "### 랜덤 포레스트 모델 생성/학습/예측/평가"
   ],
   "cell_type": "markdown",
   "metadata": {}
  },
  {
   "cell_type": "code",
   "execution_count": 10,
   "metadata": {},
   "outputs": [
    {
     "output_type": "stream",
     "name": "stdout",
     "text": [
      "랜덤 포레스트 정확도: 0.9237\n"
     ]
    }
   ],
   "source": [
    "from sklearn.ensemble import RandomForestClassifier\n",
    "from sklearn.metrics import accuracy_score\n",
    "\n",
    "rf_clf =RandomForestClassifier(random_state=156)\n",
    "rf_clf.fit(X_train, y_train)\n",
    "pred = rf_clf.predict(X_test)\n",
    "acc = accuracy_score(y_test, pred)\n",
    "print(f'랜덤 포레스트 정확도: {acc:.4f}')"
   ]
  },
  {
   "source": [
    "### 최적 파라미터 찾기"
   ],
   "cell_type": "markdown",
   "metadata": {}
  },
  {
   "cell_type": "code",
   "execution_count": 6,
   "metadata": {},
   "outputs": [],
   "source": [
    "from sklearn.model_selection import GridSearchCV\n",
    "\n",
    "params = {\n",
    "    'n_estimators': [10,30,50],\n",
    "    'max_depth': [8,12,16],\n",
    "    'min_samples_split': [12,16,20]\n",
    "}"
   ]
  },
  {
   "cell_type": "code",
   "execution_count": 7,
   "metadata": {},
   "outputs": [
    {
     "output_type": "stream",
     "name": "stdout",
     "text": [
      "최고 평균 정확도: 0.9146\n최적 파라미터: {'max_depth': 8, 'min_samples_split': 12, 'n_estimators': 50}\n"
     ]
    }
   ],
   "source": [
    "rf_clf = RandomForestClassifier(random_state=156, n_jobs=-1)\n",
    "grid_cv = GridSearchCV(rf_clf, param_grid=params, cv=3, n_jobs=-1)\n",
    "grid_cv.fit(X_train, y_train)\n",
    "print(f'최고 평균 정확도: {grid_cv.best_score_:.4f}')\n",
    "print('최적 파라미터:', grid_cv.best_params_)"
   ]
  },
  {
   "cell_type": "code",
   "execution_count": 14,
   "metadata": {},
   "outputs": [
    {
     "output_type": "execute_result",
     "data": {
      "text/plain": [
       "   param_n_estimators param_max_depth param_min_samples_split  mean_test_score\n",
       "0                  10               8                      12         0.897850\n",
       "1                  30               8                      12         0.908324\n",
       "2                  50               8                      12         0.914581\n",
       "3                  10               8                      16         0.897443\n",
       "4                  30               8                      16         0.903155\n",
       "5                  50               8                      16         0.907781\n",
       "6                  10               8                      20         0.898532\n",
       "7                  30               8                      20         0.906829\n",
       "8                  50               8                      20         0.911317\n",
       "9                  10              12                      12         0.891459\n",
       "10                 30              12                      12         0.899076\n",
       "11                 50              12                      12         0.904789\n",
       "12                 10              12                      16         0.900572\n",
       "13                 30              12                      16         0.906693\n",
       "14                 50              12                      16         0.909685\n",
       "15                 10              12                      20         0.896900\n",
       "16                 30              12                      20         0.900301\n",
       "17                 50              12                      20         0.906421\n",
       "18                 10              16                      12         0.892956\n",
       "19                 30              16                      12         0.902884\n",
       "20                 50              16                      12         0.906149\n",
       "21                 10              16                      16         0.893499\n",
       "22                 30              16                      16         0.900980\n",
       "23                 50              16                      16         0.905605\n",
       "24                 10              16                      20         0.891187\n",
       "25                 30              16                      20         0.902069\n",
       "26                 50              16                      20         0.905334"
      ],
      "text/html": "<div>\n<style scoped>\n    .dataframe tbody tr th:only-of-type {\n        vertical-align: middle;\n    }\n\n    .dataframe tbody tr th {\n        vertical-align: top;\n    }\n\n    .dataframe thead th {\n        text-align: right;\n    }\n</style>\n<table border=\"1\" class=\"dataframe\">\n  <thead>\n    <tr style=\"text-align: right;\">\n      <th></th>\n      <th>param_n_estimators</th>\n      <th>param_max_depth</th>\n      <th>param_min_samples_split</th>\n      <th>mean_test_score</th>\n    </tr>\n  </thead>\n  <tbody>\n    <tr>\n      <th>0</th>\n      <td>10</td>\n      <td>8</td>\n      <td>12</td>\n      <td>0.897850</td>\n    </tr>\n    <tr>\n      <th>1</th>\n      <td>30</td>\n      <td>8</td>\n      <td>12</td>\n      <td>0.908324</td>\n    </tr>\n    <tr>\n      <th>2</th>\n      <td>50</td>\n      <td>8</td>\n      <td>12</td>\n      <td>0.914581</td>\n    </tr>\n    <tr>\n      <th>3</th>\n      <td>10</td>\n      <td>8</td>\n      <td>16</td>\n      <td>0.897443</td>\n    </tr>\n    <tr>\n      <th>4</th>\n      <td>30</td>\n      <td>8</td>\n      <td>16</td>\n      <td>0.903155</td>\n    </tr>\n    <tr>\n      <th>5</th>\n      <td>50</td>\n      <td>8</td>\n      <td>16</td>\n      <td>0.907781</td>\n    </tr>\n    <tr>\n      <th>6</th>\n      <td>10</td>\n      <td>8</td>\n      <td>20</td>\n      <td>0.898532</td>\n    </tr>\n    <tr>\n      <th>7</th>\n      <td>30</td>\n      <td>8</td>\n      <td>20</td>\n      <td>0.906829</td>\n    </tr>\n    <tr>\n      <th>8</th>\n      <td>50</td>\n      <td>8</td>\n      <td>20</td>\n      <td>0.911317</td>\n    </tr>\n    <tr>\n      <th>9</th>\n      <td>10</td>\n      <td>12</td>\n      <td>12</td>\n      <td>0.891459</td>\n    </tr>\n    <tr>\n      <th>10</th>\n      <td>30</td>\n      <td>12</td>\n      <td>12</td>\n      <td>0.899076</td>\n    </tr>\n    <tr>\n      <th>11</th>\n      <td>50</td>\n      <td>12</td>\n      <td>12</td>\n      <td>0.904789</td>\n    </tr>\n    <tr>\n      <th>12</th>\n      <td>10</td>\n      <td>12</td>\n      <td>16</td>\n      <td>0.900572</td>\n    </tr>\n    <tr>\n      <th>13</th>\n      <td>30</td>\n      <td>12</td>\n      <td>16</td>\n      <td>0.906693</td>\n    </tr>\n    <tr>\n      <th>14</th>\n      <td>50</td>\n      <td>12</td>\n      <td>16</td>\n      <td>0.909685</td>\n    </tr>\n    <tr>\n      <th>15</th>\n      <td>10</td>\n      <td>12</td>\n      <td>20</td>\n      <td>0.896900</td>\n    </tr>\n    <tr>\n      <th>16</th>\n      <td>30</td>\n      <td>12</td>\n      <td>20</td>\n      <td>0.900301</td>\n    </tr>\n    <tr>\n      <th>17</th>\n      <td>50</td>\n      <td>12</td>\n      <td>20</td>\n      <td>0.906421</td>\n    </tr>\n    <tr>\n      <th>18</th>\n      <td>10</td>\n      <td>16</td>\n      <td>12</td>\n      <td>0.892956</td>\n    </tr>\n    <tr>\n      <th>19</th>\n      <td>30</td>\n      <td>16</td>\n      <td>12</td>\n      <td>0.902884</td>\n    </tr>\n    <tr>\n      <th>20</th>\n      <td>50</td>\n      <td>16</td>\n      <td>12</td>\n      <td>0.906149</td>\n    </tr>\n    <tr>\n      <th>21</th>\n      <td>10</td>\n      <td>16</td>\n      <td>16</td>\n      <td>0.893499</td>\n    </tr>\n    <tr>\n      <th>22</th>\n      <td>30</td>\n      <td>16</td>\n      <td>16</td>\n      <td>0.900980</td>\n    </tr>\n    <tr>\n      <th>23</th>\n      <td>50</td>\n      <td>16</td>\n      <td>16</td>\n      <td>0.905605</td>\n    </tr>\n    <tr>\n      <th>24</th>\n      <td>10</td>\n      <td>16</td>\n      <td>20</td>\n      <td>0.891187</td>\n    </tr>\n    <tr>\n      <th>25</th>\n      <td>30</td>\n      <td>16</td>\n      <td>20</td>\n      <td>0.902069</td>\n    </tr>\n    <tr>\n      <th>26</th>\n      <td>50</td>\n      <td>16</td>\n      <td>20</td>\n      <td>0.905334</td>\n    </tr>\n  </tbody>\n</table>\n</div>"
     },
     "metadata": {},
     "execution_count": 14
    }
   ],
   "source": [
    "df = pd.DataFrame(grid_cv.cv_results_)\n",
    "df = df[['param_n_estimators', 'param_max_depth', 'param_min_samples_split', 'mean_test_score']]\n",
    "df"
   ]
  },
  {
   "source": [
    "- 튜닝된 파라미터로 재평가"
   ],
   "cell_type": "markdown",
   "metadata": {}
  },
  {
   "cell_type": "code",
   "execution_count": 15,
   "metadata": {},
   "outputs": [
    {
     "output_type": "stream",
     "name": "stdout",
     "text": [
      "최적 파라미터 랜덤 포레스트 정확도: 0.9141\n"
     ]
    }
   ],
   "source": [
    "best_clf = grid_cv.best_estimator_\n",
    "pred = best_clf.predict(X_test)\n",
    "acc = accuracy_score(y_test, pred)\n",
    "print(f'최적 파라미터 랜덤 포레스트 정확도: {acc:.4f}')"
   ]
  },
  {
   "source": [
    "### 재탐색"
   ],
   "cell_type": "markdown",
   "metadata": {}
  },
  {
   "cell_type": "code",
   "execution_count": 17,
   "metadata": {},
   "outputs": [
    {
     "output_type": "stream",
     "name": "stdout",
     "text": [
      "최고 평균 정확도: 0.9085\n최적 파라미터: {'n_estimators': 50}\n"
     ]
    }
   ],
   "source": [
    "params = {\n",
    "    'n_estimators' : [10,50,100]\n",
    "}\n",
    "rf_clf = RandomForestClassifier(random_state=156, n_jobs=-1)\n",
    "grid_cv = GridSearchCV(rf_clf, param_grid=params, cv=3, n_jobs=-1)\n",
    "grid_cv.fit(X_train, y_train)\n",
    "print(f'최고 평균 정확도: {grid_cv.best_score_:.4f}')\n",
    "print('최적 파라미터:', grid_cv.best_params_)"
   ]
  },
  {
   "cell_type": "code",
   "execution_count": 18,
   "metadata": {},
   "outputs": [
    {
     "output_type": "stream",
     "name": "stdout",
     "text": [
      "최적 파라미터 랜덤 포레스트 정확도: 0.9247\n"
     ]
    }
   ],
   "source": [
    "best_clf = grid_cv.best_estimator_\n",
    "pred = best_clf.predict(X_test)\n",
    "acc = accuracy_score(y_test, pred)\n",
    "print(f'최적 파라미터 랜덤 포레스트 정확도: {acc:.4f}')"
   ]
  },
  {
   "source": [
    "### K 최근접 이웃(K-Nearest Neighbor)"
   ],
   "cell_type": "markdown",
   "metadata": {}
  },
  {
   "cell_type": "code",
   "execution_count": 11,
   "metadata": {},
   "outputs": [
    {
     "output_type": "execute_result",
     "data": {
      "text/plain": [
       "{'algorithm': 'auto',\n",
       " 'leaf_size': 30,\n",
       " 'metric': 'minkowski',\n",
       " 'metric_params': None,\n",
       " 'n_jobs': None,\n",
       " 'n_neighbors': 5,\n",
       " 'p': 2,\n",
       " 'weights': 'uniform'}"
      ]
     },
     "metadata": {},
     "execution_count": 11
    }
   ],
   "source": [
    "from sklearn.neighbors import KNeighborsClassifier\n",
    "knn = KNeighborsClassifier()\n",
    "knn.get_params()"
   ]
  },
  {
   "cell_type": "code",
   "execution_count": 13,
   "metadata": {},
   "outputs": [
    {
     "output_type": "execute_result",
     "data": {
      "text/plain": [
       "0.9015948422124194"
      ]
     },
     "metadata": {},
     "execution_count": 13
    }
   ],
   "source": [
    "knn.fit(X_train, y_train)\n",
    "pred = knn.predict(X_test)\n",
    "accuracy_score(y_test, pred)"
   ]
  },
  {
   "cell_type": "code",
   "execution_count": null,
   "metadata": {},
   "outputs": [],
   "source": []
  }
 ]
}