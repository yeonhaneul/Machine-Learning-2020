{
 "metadata": {
  "language_info": {
   "codemirror_mode": {
    "name": "ipython",
    "version": 3
   },
   "file_extension": ".py",
   "mimetype": "text/x-python",
   "name": "python",
   "nbconvert_exporter": "python",
   "pygments_lexer": "ipython3",
   "version": "3.8.3-final"
  },
  "orig_nbformat": 2,
  "kernelspec": {
   "name": "python3",
   "display_name": "Python 3",
   "language": "python"
  }
 },
 "nbformat": 4,
 "nbformat_minor": 2,
 "cells": [
  {
   "source": [
    "## Human Activity Recognition"
   ],
   "cell_type": "markdown",
   "metadata": {}
  },
  {
   "source": [
    "데이터 탐색"
   ],
   "cell_type": "markdown",
   "metadata": {}
  },
  {
   "cell_type": "code",
   "execution_count": 1,
   "metadata": {},
   "outputs": [],
   "source": [
    "import pandas as pd \n",
    "import matplotlib.pyplot as plt \n",
    "%matplotlib inline"
   ]
  },
  {
   "cell_type": "code",
   "execution_count": 3,
   "metadata": {},
   "outputs": [
    {
     "output_type": "execute_result",
     "data": {
      "text/plain": [
       "   col_index           col_name\n",
       "0          1  tBodyAcc-mean()-X\n",
       "1          2  tBodyAcc-mean()-Y\n",
       "2          3  tBodyAcc-mean()-Z\n",
       "3          4   tBodyAcc-std()-X\n",
       "4          5   tBodyAcc-std()-Y"
      ],
      "text/html": "<div>\n<style scoped>\n    .dataframe tbody tr th:only-of-type {\n        vertical-align: middle;\n    }\n\n    .dataframe tbody tr th {\n        vertical-align: top;\n    }\n\n    .dataframe thead th {\n        text-align: right;\n    }\n</style>\n<table border=\"1\" class=\"dataframe\">\n  <thead>\n    <tr style=\"text-align: right;\">\n      <th></th>\n      <th>col_index</th>\n      <th>col_name</th>\n    </tr>\n  </thead>\n  <tbody>\n    <tr>\n      <th>0</th>\n      <td>1</td>\n      <td>tBodyAcc-mean()-X</td>\n    </tr>\n    <tr>\n      <th>1</th>\n      <td>2</td>\n      <td>tBodyAcc-mean()-Y</td>\n    </tr>\n    <tr>\n      <th>2</th>\n      <td>3</td>\n      <td>tBodyAcc-mean()-Z</td>\n    </tr>\n    <tr>\n      <th>3</th>\n      <td>4</td>\n      <td>tBodyAcc-std()-X</td>\n    </tr>\n    <tr>\n      <th>4</th>\n      <td>5</td>\n      <td>tBodyAcc-std()-Y</td>\n    </tr>\n  </tbody>\n</table>\n</div>"
     },
     "metadata": {},
     "execution_count": 3
    }
   ],
   "source": [
    "feature_name_df = pd.read_csv('../00.data/UCI_HAR_Dataset/features.txt', sep='\\s+',\n",
    "                                header=None, names=['col_index','col_name'])\n",
    "feature_name_df.head()"
   ]
  },
  {
   "cell_type": "code",
   "execution_count": 4,
   "metadata": {},
   "outputs": [
    {
     "output_type": "execute_result",
     "data": {
      "text/plain": [
       "                                      col_index\n",
       "col_name                                       \n",
       "angle(X,gravityMean)                          1\n",
       "angle(Y,gravityMean)                          1\n",
       "angle(Z,gravityMean)                          1\n",
       "angle(tBodyAccJerkMean),gravityMean)          1\n",
       "angle(tBodyAccMean,gravity)                   1"
      ],
      "text/html": "<div>\n<style scoped>\n    .dataframe tbody tr th:only-of-type {\n        vertical-align: middle;\n    }\n\n    .dataframe tbody tr th {\n        vertical-align: top;\n    }\n\n    .dataframe thead th {\n        text-align: right;\n    }\n</style>\n<table border=\"1\" class=\"dataframe\">\n  <thead>\n    <tr style=\"text-align: right;\">\n      <th></th>\n      <th>col_index</th>\n    </tr>\n    <tr>\n      <th>col_name</th>\n      <th></th>\n    </tr>\n  </thead>\n  <tbody>\n    <tr>\n      <th>angle(X,gravityMean)</th>\n      <td>1</td>\n    </tr>\n    <tr>\n      <th>angle(Y,gravityMean)</th>\n      <td>1</td>\n    </tr>\n    <tr>\n      <th>angle(Z,gravityMean)</th>\n      <td>1</td>\n    </tr>\n    <tr>\n      <th>angle(tBodyAccJerkMean),gravityMean)</th>\n      <td>1</td>\n    </tr>\n    <tr>\n      <th>angle(tBodyAccMean,gravity)</th>\n      <td>1</td>\n    </tr>\n  </tbody>\n</table>\n</div>"
     },
     "metadata": {},
     "execution_count": 4
    }
   ],
   "source": [
    "feature_dup_df = feature_name_df.groupby('col_name').count()\n",
    "feature_dup_df.head()"
   ]
  },
  {
   "cell_type": "code",
   "execution_count": 5,
   "metadata": {},
   "outputs": [
    {
     "output_type": "execute_result",
     "data": {
      "text/plain": [
       "col_index    42\n",
       "dtype: int64"
      ]
     },
     "metadata": {},
     "execution_count": 5
    }
   ],
   "source": [
    "feature_dup_df[feature_dup_df['col_index'] > 1].count()"
   ]
  },
  {
   "cell_type": "code",
   "execution_count": 6,
   "metadata": {},
   "outputs": [
    {
     "output_type": "execute_result",
     "data": {
      "text/plain": [
       "                              col_index\n",
       "col_name                               \n",
       "fBodyAcc-bandsEnergy()-1,16           3\n",
       "fBodyAcc-bandsEnergy()-1,24           3\n",
       "fBodyAcc-bandsEnergy()-1,8            3\n",
       "fBodyAcc-bandsEnergy()-17,24          3\n",
       "fBodyAcc-bandsEnergy()-17,32          3"
      ],
      "text/html": "<div>\n<style scoped>\n    .dataframe tbody tr th:only-of-type {\n        vertical-align: middle;\n    }\n\n    .dataframe tbody tr th {\n        vertical-align: top;\n    }\n\n    .dataframe thead th {\n        text-align: right;\n    }\n</style>\n<table border=\"1\" class=\"dataframe\">\n  <thead>\n    <tr style=\"text-align: right;\">\n      <th></th>\n      <th>col_index</th>\n    </tr>\n    <tr>\n      <th>col_name</th>\n      <th></th>\n    </tr>\n  </thead>\n  <tbody>\n    <tr>\n      <th>fBodyAcc-bandsEnergy()-1,16</th>\n      <td>3</td>\n    </tr>\n    <tr>\n      <th>fBodyAcc-bandsEnergy()-1,24</th>\n      <td>3</td>\n    </tr>\n    <tr>\n      <th>fBodyAcc-bandsEnergy()-1,8</th>\n      <td>3</td>\n    </tr>\n    <tr>\n      <th>fBodyAcc-bandsEnergy()-17,24</th>\n      <td>3</td>\n    </tr>\n    <tr>\n      <th>fBodyAcc-bandsEnergy()-17,32</th>\n      <td>3</td>\n    </tr>\n  </tbody>\n</table>\n</div>"
     },
     "metadata": {},
     "execution_count": 6
    }
   ],
   "source": [
    "feature_dup_df[feature_dup_df['col_index'] > 1].head()"
   ]
  },
  {
   "cell_type": "code",
   "execution_count": 7,
   "metadata": {},
   "outputs": [
    {
     "output_type": "execute_result",
     "data": {
      "text/plain": [
       "   index  dup_cnt\n",
       "0      0        0\n",
       "1      1        0\n",
       "2      2        0\n",
       "3      3        0\n",
       "4      4        0"
      ],
      "text/html": "<div>\n<style scoped>\n    .dataframe tbody tr th:only-of-type {\n        vertical-align: middle;\n    }\n\n    .dataframe tbody tr th {\n        vertical-align: top;\n    }\n\n    .dataframe thead th {\n        text-align: right;\n    }\n</style>\n<table border=\"1\" class=\"dataframe\">\n  <thead>\n    <tr style=\"text-align: right;\">\n      <th></th>\n      <th>index</th>\n      <th>dup_cnt</th>\n    </tr>\n  </thead>\n  <tbody>\n    <tr>\n      <th>0</th>\n      <td>0</td>\n      <td>0</td>\n    </tr>\n    <tr>\n      <th>1</th>\n      <td>1</td>\n      <td>0</td>\n    </tr>\n    <tr>\n      <th>2</th>\n      <td>2</td>\n      <td>0</td>\n    </tr>\n    <tr>\n      <th>3</th>\n      <td>3</td>\n      <td>0</td>\n    </tr>\n    <tr>\n      <th>4</th>\n      <td>4</td>\n      <td>0</td>\n    </tr>\n  </tbody>\n</table>\n</div>"
     },
     "metadata": {},
     "execution_count": 7
    }
   ],
   "source": [
    "feature_cum_df = pd.DataFrame({'dup_cnt':feature_name_df.groupby('col_name').cumcount()})\n",
    "feature_cum_df.reset_index(inplace=True)\n",
    "feature_cum_df.head()"
   ]
  },
  {
   "cell_type": "code",
   "execution_count": 8,
   "metadata": {},
   "outputs": [
    {
     "output_type": "execute_result",
     "data": {
      "text/plain": [
       "   col_index           col_name\n",
       "0          1  tBodyAcc-mean()-X\n",
       "1          2  tBodyAcc-mean()-Y\n",
       "2          3  tBodyAcc-mean()-Z\n",
       "3          4   tBodyAcc-std()-X\n",
       "4          5   tBodyAcc-std()-Y"
      ],
      "text/html": "<div>\n<style scoped>\n    .dataframe tbody tr th:only-of-type {\n        vertical-align: middle;\n    }\n\n    .dataframe tbody tr th {\n        vertical-align: top;\n    }\n\n    .dataframe thead th {\n        text-align: right;\n    }\n</style>\n<table border=\"1\" class=\"dataframe\">\n  <thead>\n    <tr style=\"text-align: right;\">\n      <th></th>\n      <th>col_index</th>\n      <th>col_name</th>\n    </tr>\n  </thead>\n  <tbody>\n    <tr>\n      <th>0</th>\n      <td>1</td>\n      <td>tBodyAcc-mean()-X</td>\n    </tr>\n    <tr>\n      <th>1</th>\n      <td>2</td>\n      <td>tBodyAcc-mean()-Y</td>\n    </tr>\n    <tr>\n      <th>2</th>\n      <td>3</td>\n      <td>tBodyAcc-mean()-Z</td>\n    </tr>\n    <tr>\n      <th>3</th>\n      <td>4</td>\n      <td>tBodyAcc-std()-X</td>\n    </tr>\n    <tr>\n      <th>4</th>\n      <td>5</td>\n      <td>tBodyAcc-std()-Y</td>\n    </tr>\n  </tbody>\n</table>\n</div>"
     },
     "metadata": {},
     "execution_count": 8
    }
   ],
   "source": [
    "feature_name_df.head()"
   ]
  },
  {
   "cell_type": "code",
   "execution_count": 9,
   "metadata": {},
   "outputs": [
    {
     "output_type": "execute_result",
     "data": {
      "text/plain": [
       "   index  col_index           col_name  dup_cnt\n",
       "0      0          1  tBodyAcc-mean()-X        0\n",
       "1      1          2  tBodyAcc-mean()-Y        0\n",
       "2      2          3  tBodyAcc-mean()-Z        0\n",
       "3      3          4   tBodyAcc-std()-X        0\n",
       "4      4          5   tBodyAcc-std()-Y        0"
      ],
      "text/html": "<div>\n<style scoped>\n    .dataframe tbody tr th:only-of-type {\n        vertical-align: middle;\n    }\n\n    .dataframe tbody tr th {\n        vertical-align: top;\n    }\n\n    .dataframe thead th {\n        text-align: right;\n    }\n</style>\n<table border=\"1\" class=\"dataframe\">\n  <thead>\n    <tr style=\"text-align: right;\">\n      <th></th>\n      <th>index</th>\n      <th>col_index</th>\n      <th>col_name</th>\n      <th>dup_cnt</th>\n    </tr>\n  </thead>\n  <tbody>\n    <tr>\n      <th>0</th>\n      <td>0</td>\n      <td>1</td>\n      <td>tBodyAcc-mean()-X</td>\n      <td>0</td>\n    </tr>\n    <tr>\n      <th>1</th>\n      <td>1</td>\n      <td>2</td>\n      <td>tBodyAcc-mean()-Y</td>\n      <td>0</td>\n    </tr>\n    <tr>\n      <th>2</th>\n      <td>2</td>\n      <td>3</td>\n      <td>tBodyAcc-mean()-Z</td>\n      <td>0</td>\n    </tr>\n    <tr>\n      <th>3</th>\n      <td>3</td>\n      <td>4</td>\n      <td>tBodyAcc-std()-X</td>\n      <td>0</td>\n    </tr>\n    <tr>\n      <th>4</th>\n      <td>4</td>\n      <td>5</td>\n      <td>tBodyAcc-std()-Y</td>\n      <td>0</td>\n    </tr>\n  </tbody>\n</table>\n</div>"
     },
     "metadata": {},
     "execution_count": 9
    }
   ],
   "source": [
    "new_df = pd.merge(feature_name_df.reset_index(), feature_cum_df)\n",
    "new_df.head()"
   ]
  },
  {
   "cell_type": "code",
   "execution_count": 10,
   "metadata": {},
   "outputs": [
    {
     "output_type": "execute_result",
     "data": {
      "text/plain": [
       "   index  col_index           col_name  dup_cnt\n",
       "0      0          1  tBodyAcc-mean()-X        0\n",
       "1      1          2  tBodyAcc-mean()-Y        0\n",
       "2      2          3  tBodyAcc-mean()-Z        0\n",
       "3      3          4   tBodyAcc-std()-X        0\n",
       "4      4          5   tBodyAcc-std()-Y        0"
      ],
      "text/html": "<div>\n<style scoped>\n    .dataframe tbody tr th:only-of-type {\n        vertical-align: middle;\n    }\n\n    .dataframe tbody tr th {\n        vertical-align: top;\n    }\n\n    .dataframe thead th {\n        text-align: right;\n    }\n</style>\n<table border=\"1\" class=\"dataframe\">\n  <thead>\n    <tr style=\"text-align: right;\">\n      <th></th>\n      <th>index</th>\n      <th>col_index</th>\n      <th>col_name</th>\n      <th>dup_cnt</th>\n    </tr>\n  </thead>\n  <tbody>\n    <tr>\n      <th>0</th>\n      <td>0</td>\n      <td>1</td>\n      <td>tBodyAcc-mean()-X</td>\n      <td>0</td>\n    </tr>\n    <tr>\n      <th>1</th>\n      <td>1</td>\n      <td>2</td>\n      <td>tBodyAcc-mean()-Y</td>\n      <td>0</td>\n    </tr>\n    <tr>\n      <th>2</th>\n      <td>2</td>\n      <td>3</td>\n      <td>tBodyAcc-mean()-Z</td>\n      <td>0</td>\n    </tr>\n    <tr>\n      <th>3</th>\n      <td>3</td>\n      <td>4</td>\n      <td>tBodyAcc-std()-X</td>\n      <td>0</td>\n    </tr>\n    <tr>\n      <th>4</th>\n      <td>4</td>\n      <td>5</td>\n      <td>tBodyAcc-std()-Y</td>\n      <td>0</td>\n    </tr>\n  </tbody>\n</table>\n</div>"
     },
     "metadata": {},
     "execution_count": 10
    }
   ],
   "source": [
    "new_df['col_name'] = new_df[['col_name', 'dup_cnt']].\\\n",
    "    apply(lambda x: x[0]+'_'+str(x[1]) if x[1] > 0 else x[0], axis=1)\n",
    "new_df.head()"
   ]
  },
  {
   "cell_type": "code",
   "execution_count": 11,
   "metadata": {},
   "outputs": [
    {
     "output_type": "execute_result",
     "data": {
      "text/plain": [
       "   col_index           col_name  dup_cnt\n",
       "0          1  tBodyAcc-mean()-X        0\n",
       "1          2  tBodyAcc-mean()-Y        0\n",
       "2          3  tBodyAcc-mean()-Z        0\n",
       "3          4   tBodyAcc-std()-X        0\n",
       "4          5   tBodyAcc-std()-Y        0"
      ],
      "text/html": "<div>\n<style scoped>\n    .dataframe tbody tr th:only-of-type {\n        vertical-align: middle;\n    }\n\n    .dataframe tbody tr th {\n        vertical-align: top;\n    }\n\n    .dataframe thead th {\n        text-align: right;\n    }\n</style>\n<table border=\"1\" class=\"dataframe\">\n  <thead>\n    <tr style=\"text-align: right;\">\n      <th></th>\n      <th>col_index</th>\n      <th>col_name</th>\n      <th>dup_cnt</th>\n    </tr>\n  </thead>\n  <tbody>\n    <tr>\n      <th>0</th>\n      <td>1</td>\n      <td>tBodyAcc-mean()-X</td>\n      <td>0</td>\n    </tr>\n    <tr>\n      <th>1</th>\n      <td>2</td>\n      <td>tBodyAcc-mean()-Y</td>\n      <td>0</td>\n    </tr>\n    <tr>\n      <th>2</th>\n      <td>3</td>\n      <td>tBodyAcc-mean()-Z</td>\n      <td>0</td>\n    </tr>\n    <tr>\n      <th>3</th>\n      <td>4</td>\n      <td>tBodyAcc-std()-X</td>\n      <td>0</td>\n    </tr>\n    <tr>\n      <th>4</th>\n      <td>5</td>\n      <td>tBodyAcc-std()-Y</td>\n      <td>0</td>\n    </tr>\n  </tbody>\n</table>\n</div>"
     },
     "metadata": {},
     "execution_count": 11
    }
   ],
   "source": [
    "new_df = new_df.drop(['index'], axis=1)\n",
    "new_df.head()"
   ]
  },
  {
   "cell_type": "code",
   "execution_count": 12,
   "metadata": {},
   "outputs": [],
   "source": [
    "def get_new_feature_name_df(old_df):\n",
    "    dup_df = pd.DataFrame({'dup_cnt':feature_name_df.groupby('col_name').cumcount()})\n",
    "    new_df = pd.merge(old_df.reset_index(), dup_df.reset_index())\n",
    "    new_df['col_name'] = new_df[['col_name', 'dup_cnt']].\\\n",
    "        apply(lambda x: x[0]+'_'+str(x[1]) if x[1] > 0 else x[0], axis=1)\n",
    "    new_df = new_df.drop(['index'], axis=1)\n",
    "    return new_df"
   ]
  },
  {
   "cell_type": "code",
   "execution_count": 13,
   "metadata": {},
   "outputs": [
    {
     "output_type": "execute_result",
     "data": {
      "text/plain": [
       "   col_index           col_name  dup_cnt\n",
       "0          1  tBodyAcc-mean()-X        0\n",
       "1          2  tBodyAcc-mean()-Y        0\n",
       "2          3  tBodyAcc-mean()-Z        0\n",
       "3          4   tBodyAcc-std()-X        0\n",
       "4          5   tBodyAcc-std()-Y        0"
      ],
      "text/html": "<div>\n<style scoped>\n    .dataframe tbody tr th:only-of-type {\n        vertical-align: middle;\n    }\n\n    .dataframe tbody tr th {\n        vertical-align: top;\n    }\n\n    .dataframe thead th {\n        text-align: right;\n    }\n</style>\n<table border=\"1\" class=\"dataframe\">\n  <thead>\n    <tr style=\"text-align: right;\">\n      <th></th>\n      <th>col_index</th>\n      <th>col_name</th>\n      <th>dup_cnt</th>\n    </tr>\n  </thead>\n  <tbody>\n    <tr>\n      <th>0</th>\n      <td>1</td>\n      <td>tBodyAcc-mean()-X</td>\n      <td>0</td>\n    </tr>\n    <tr>\n      <th>1</th>\n      <td>2</td>\n      <td>tBodyAcc-mean()-Y</td>\n      <td>0</td>\n    </tr>\n    <tr>\n      <th>2</th>\n      <td>3</td>\n      <td>tBodyAcc-mean()-Z</td>\n      <td>0</td>\n    </tr>\n    <tr>\n      <th>3</th>\n      <td>4</td>\n      <td>tBodyAcc-std()-X</td>\n      <td>0</td>\n    </tr>\n    <tr>\n      <th>4</th>\n      <td>5</td>\n      <td>tBodyAcc-std()-Y</td>\n      <td>0</td>\n    </tr>\n  </tbody>\n</table>\n</div>"
     },
     "metadata": {},
     "execution_count": 13
    }
   ],
   "source": [
    "new_feature_df = get_new_feature_name_df(feature_name_df)\n",
    "new_feature_df.head()"
   ]
  },
  {
   "cell_type": "code",
   "execution_count": 14,
   "metadata": {},
   "outputs": [
    {
     "output_type": "execute_result",
     "data": {
      "text/plain": [
       "['tBodyAcc-mean()-X',\n",
       " 'tBodyAcc-mean()-Y',\n",
       " 'tBodyAcc-mean()-Z',\n",
       " 'tBodyAcc-std()-X',\n",
       " 'tBodyAcc-std()-Y',\n",
       " 'tBodyAcc-std()-Z',\n",
       " 'tBodyAcc-mad()-X',\n",
       " 'tBodyAcc-mad()-Y',\n",
       " 'tBodyAcc-mad()-Z',\n",
       " 'tBodyAcc-max()-X']"
      ]
     },
     "metadata": {},
     "execution_count": 14
    }
   ],
   "source": [
    "feature_list = list(new_feature_df.col_name.values)\n",
    "feature_list[:10]"
   ]
  },
  {
   "cell_type": "code",
   "execution_count": 15,
   "metadata": {},
   "outputs": [],
   "source": [
    "X_train = pd.read_csv('../00.data/UCI_HAR_Dataset/train/X_train.txt', \n",
    "                      header=None, sep='\\s+', names=feature_list)\n",
    "X_test = pd.read_csv('../00.data/UCI_HAR_Dataset/test/X_test.txt', \n",
    "                     header=None, sep='\\s+', names=feature_list)\n",
    "y_train = pd.read_csv('../00.data/UCI_HAR_Dataset/train/y_train.txt', \n",
    "                      header=None, sep='\\s+', names=['action'])\n",
    "y_test = pd.read_csv('../00.data/UCI_HAR_Dataset/test/y_test.txt', \n",
    "                     header=None, sep='\\s+', names=['action'])"
   ]
  },
  {
   "cell_type": "code",
   "execution_count": 16,
   "metadata": {},
   "outputs": [
    {
     "output_type": "execute_result",
     "data": {
      "text/plain": [
       "((7352, 561), (2947, 561), (7352, 1), (2947, 1))"
      ]
     },
     "metadata": {},
     "execution_count": 16
    }
   ],
   "source": [
    "X_train.shape, X_test.shape, y_train.shape, y_test.shape"
   ]
  },
  {
   "cell_type": "code",
   "execution_count": 17,
   "metadata": {},
   "outputs": [],
   "source": [
    "from sklearn.tree import DecisionTreeClassifier\n",
    "from sklearn.metrics import accuracy_score"
   ]
  },
  {
   "cell_type": "code",
   "execution_count": 18,
   "metadata": {},
   "outputs": [
    {
     "output_type": "stream",
     "name": "stdout",
     "text": [
      "결정 트리 예측 정확도: 0.8548\n"
     ]
    }
   ],
   "source": [
    "dt_clf = DecisionTreeClassifier(random_state=156)\n",
    "dt_clf.fit(X_train, y_train)\n",
    "pred = dt_clf.predict(X_test)\n",
    "acc = accuracy_score(y_test, pred)\n",
    "print(f'결정 트리 예측 정확도: {acc:.4f}')"
   ]
  },
  {
   "cell_type": "code",
   "execution_count": 19,
   "metadata": {},
   "outputs": [
    {
     "output_type": "execute_result",
     "data": {
      "text/plain": [
       "{'ccp_alpha': 0.0,\n",
       " 'class_weight': None,\n",
       " 'criterion': 'gini',\n",
       " 'max_depth': None,\n",
       " 'max_features': None,\n",
       " 'max_leaf_nodes': None,\n",
       " 'min_impurity_decrease': 0.0,\n",
       " 'min_impurity_split': None,\n",
       " 'min_samples_leaf': 1,\n",
       " 'min_samples_split': 2,\n",
       " 'min_weight_fraction_leaf': 0.0,\n",
       " 'presort': 'deprecated',\n",
       " 'random_state': 156,\n",
       " 'splitter': 'best'}"
      ]
     },
     "metadata": {},
     "execution_count": 19
    }
   ],
   "source": [
    "# DecisionTreeClassifier의 하이퍼 파라미터\n",
    "dt_clf.get_params()"
   ]
  },
  {
   "source": [
    "GridSearchCV로 최적의 하이퍼 파라미터 도출"
   ],
   "cell_type": "markdown",
   "metadata": {}
  },
  {
   "cell_type": "code",
   "execution_count": 20,
   "metadata": {},
   "outputs": [],
   "source": [
    "from sklearn.model_selection import GridSearchCV"
   ]
  },
  {
   "cell_type": "code",
   "execution_count": 21,
   "metadata": {},
   "outputs": [
    {
     "output_type": "stream",
     "name": "stdout",
     "text": [
      "Fitting 5 folds for each of 6 candidates, totalling 30 fits\n",
      "[Parallel(n_jobs=1)]: Using backend SequentialBackend with 1 concurrent workers.\n",
      "[Parallel(n_jobs=1)]: Done  30 out of  30 | elapsed:  1.2min finished\n",
      "최고 평균 정확도: 0.8513\n",
      "최적 파라미터: {'max_depth': 16}\n"
     ]
    }
   ],
   "source": [
    "params = {\n",
    "    'max_depth': [6, 8, 10, 12, 16, 20]\n",
    "}\n",
    "grid_cv = GridSearchCV(dt_clf, param_grid=params, scoring='accuracy', cv=5, verbose=1)\n",
    "grid_cv.fit(X_train, y_train)\n",
    "print(f'최고 평균 정확도: {grid_cv.best_score_:.4f}')\n",
    "print('최적 파라미터:', grid_cv.best_params_)"
   ]
  },
  {
   "cell_type": "code",
   "execution_count": 22,
   "metadata": {},
   "outputs": [
    {
     "output_type": "execute_result",
     "data": {
      "text/plain": [
       "  param_max_depth  mean_test_score\n",
       "0               6         0.850791\n",
       "1               8         0.851069\n",
       "2              10         0.851209\n",
       "3              12         0.844135\n",
       "4              16         0.851344\n",
       "5              20         0.850800"
      ],
      "text/html": "<div>\n<style scoped>\n    .dataframe tbody tr th:only-of-type {\n        vertical-align: middle;\n    }\n\n    .dataframe tbody tr th {\n        vertical-align: top;\n    }\n\n    .dataframe thead th {\n        text-align: right;\n    }\n</style>\n<table border=\"1\" class=\"dataframe\">\n  <thead>\n    <tr style=\"text-align: right;\">\n      <th></th>\n      <th>param_max_depth</th>\n      <th>mean_test_score</th>\n    </tr>\n  </thead>\n  <tbody>\n    <tr>\n      <th>0</th>\n      <td>6</td>\n      <td>0.850791</td>\n    </tr>\n    <tr>\n      <th>1</th>\n      <td>8</td>\n      <td>0.851069</td>\n    </tr>\n    <tr>\n      <th>2</th>\n      <td>10</td>\n      <td>0.851209</td>\n    </tr>\n    <tr>\n      <th>3</th>\n      <td>12</td>\n      <td>0.844135</td>\n    </tr>\n    <tr>\n      <th>4</th>\n      <td>16</td>\n      <td>0.851344</td>\n    </tr>\n    <tr>\n      <th>5</th>\n      <td>20</td>\n      <td>0.850800</td>\n    </tr>\n  </tbody>\n</table>\n</div>"
     },
     "metadata": {},
     "execution_count": 22
    }
   ],
   "source": [
    "df = pd.DataFrame(grid_cv.cv_results_)\n",
    "df = df[['param_max_depth', 'mean_test_score']]\n",
    "df"
   ]
  },
  {
   "cell_type": "code",
   "execution_count": 23,
   "metadata": {},
   "outputs": [
    {
     "output_type": "stream",
     "name": "stdout",
     "text": [
      "Fitting 5 folds for each of 3 candidates, totalling 15 fits\n",
      "[Parallel(n_jobs=1)]: Using backend SequentialBackend with 1 concurrent workers.\n",
      "[Parallel(n_jobs=1)]: Done  15 out of  15 | elapsed:   46.1s finished\n",
      "최고 평균 정확도: 0.8513\n",
      "최적 파라미터: {'max_depth': 16}\n"
     ]
    }
   ],
   "source": [
    "params = {\n",
    "    'max_depth': [14, 16, 18]\n",
    "}\n",
    "grid_cv = GridSearchCV(dt_clf, param_grid=params, scoring='accuracy', cv=5, verbose=1)\n",
    "grid_cv.fit(X_train, y_train)\n",
    "print(f'최고 평균 정확도: {grid_cv.best_score_:.4f}')\n",
    "print('최적 파라미터:', grid_cv.best_params_)"
   ]
  },
  {
   "cell_type": "code",
   "execution_count": 24,
   "metadata": {},
   "outputs": [
    {
     "output_type": "execute_result",
     "data": {
      "text/plain": [
       "  param_max_depth  mean_test_score\n",
       "0              14         0.847808\n",
       "1              16         0.851344\n",
       "2              18         0.851072"
      ],
      "text/html": "<div>\n<style scoped>\n    .dataframe tbody tr th:only-of-type {\n        vertical-align: middle;\n    }\n\n    .dataframe tbody tr th {\n        vertical-align: top;\n    }\n\n    .dataframe thead th {\n        text-align: right;\n    }\n</style>\n<table border=\"1\" class=\"dataframe\">\n  <thead>\n    <tr style=\"text-align: right;\">\n      <th></th>\n      <th>param_max_depth</th>\n      <th>mean_test_score</th>\n    </tr>\n  </thead>\n  <tbody>\n    <tr>\n      <th>0</th>\n      <td>14</td>\n      <td>0.847808</td>\n    </tr>\n    <tr>\n      <th>1</th>\n      <td>16</td>\n      <td>0.851344</td>\n    </tr>\n    <tr>\n      <th>2</th>\n      <td>18</td>\n      <td>0.851072</td>\n    </tr>\n  </tbody>\n</table>\n</div>"
     },
     "metadata": {},
     "execution_count": 24
    }
   ],
   "source": [
    "df = pd.DataFrame(grid_cv.cv_results_)\n",
    "df = df[['param_max_depth', 'mean_test_score']]\n",
    "df"
   ]
  },
  {
   "source": [
    "- min_samples_split 도출"
   ],
   "cell_type": "markdown",
   "metadata": {}
  },
  {
   "cell_type": "code",
   "execution_count": 25,
   "metadata": {},
   "outputs": [
    {
     "output_type": "stream",
     "name": "stdout",
     "text": [
      "Fitting 5 folds for each of 16 candidates, totalling 80 fits\n",
      "[Parallel(n_jobs=1)]: Using backend SequentialBackend with 1 concurrent workers.\n",
      "[Parallel(n_jobs=1)]: Done  80 out of  80 | elapsed:  3.5min finished\n",
      "최고 평균 정확도: 0.8549\n",
      "최적 파라미터: {'max_depth': 8, 'min_samples_split': 16}\n"
     ]
    }
   ],
   "source": [
    "params = {\n",
    "    'max_depth': [8, 12, 16, 18],\n",
    "    'min_samples_split': [12, 16, 20, 24]\n",
    "}\n",
    "grid_cv = GridSearchCV(dt_clf, param_grid=params, scoring='accuracy', cv=5, verbose=1)\n",
    "grid_cv.fit(X_train, y_train)\n",
    "print(f'최고 평균 정확도: {grid_cv.best_score_:.4f}')\n",
    "print('최적 파라미터:', grid_cv.best_params_)"
   ]
  },
  {
   "cell_type": "code",
   "execution_count": 27,
   "metadata": {},
   "outputs": [
    {
     "output_type": "execute_result",
     "data": {
      "text/plain": [
       "   param_max_depth param_min_samples_split  mean_test_score\n",
       "0                8                      12         0.852566\n",
       "1                8                      16         0.854879\n",
       "2                8                      20         0.852567\n",
       "3                8                      24         0.851342\n",
       "4               12                      12         0.848623\n",
       "5               12                      16         0.845768\n",
       "6               12                      20         0.846175\n",
       "7               12                      24         0.846175\n",
       "8               16                      12         0.844543\n",
       "9               16                      16         0.847127\n",
       "10              16                      20         0.846038\n",
       "11              16                      24         0.849439\n",
       "12              18                      12         0.844407\n",
       "13              18                      16         0.848488\n",
       "14              18                      20         0.846989\n",
       "15              18                      24         0.848759"
      ],
      "text/html": "<div>\n<style scoped>\n    .dataframe tbody tr th:only-of-type {\n        vertical-align: middle;\n    }\n\n    .dataframe tbody tr th {\n        vertical-align: top;\n    }\n\n    .dataframe thead th {\n        text-align: right;\n    }\n</style>\n<table border=\"1\" class=\"dataframe\">\n  <thead>\n    <tr style=\"text-align: right;\">\n      <th></th>\n      <th>param_max_depth</th>\n      <th>param_min_samples_split</th>\n      <th>mean_test_score</th>\n    </tr>\n  </thead>\n  <tbody>\n    <tr>\n      <th>0</th>\n      <td>8</td>\n      <td>12</td>\n      <td>0.852566</td>\n    </tr>\n    <tr>\n      <th>1</th>\n      <td>8</td>\n      <td>16</td>\n      <td>0.854879</td>\n    </tr>\n    <tr>\n      <th>2</th>\n      <td>8</td>\n      <td>20</td>\n      <td>0.852567</td>\n    </tr>\n    <tr>\n      <th>3</th>\n      <td>8</td>\n      <td>24</td>\n      <td>0.851342</td>\n    </tr>\n    <tr>\n      <th>4</th>\n      <td>12</td>\n      <td>12</td>\n      <td>0.848623</td>\n    </tr>\n    <tr>\n      <th>5</th>\n      <td>12</td>\n      <td>16</td>\n      <td>0.845768</td>\n    </tr>\n    <tr>\n      <th>6</th>\n      <td>12</td>\n      <td>20</td>\n      <td>0.846175</td>\n    </tr>\n    <tr>\n      <th>7</th>\n      <td>12</td>\n      <td>24</td>\n      <td>0.846175</td>\n    </tr>\n    <tr>\n      <th>8</th>\n      <td>16</td>\n      <td>12</td>\n      <td>0.844543</td>\n    </tr>\n    <tr>\n      <th>9</th>\n      <td>16</td>\n      <td>16</td>\n      <td>0.847127</td>\n    </tr>\n    <tr>\n      <th>10</th>\n      <td>16</td>\n      <td>20</td>\n      <td>0.846038</td>\n    </tr>\n    <tr>\n      <th>11</th>\n      <td>16</td>\n      <td>24</td>\n      <td>0.849439</td>\n    </tr>\n    <tr>\n      <th>12</th>\n      <td>18</td>\n      <td>12</td>\n      <td>0.844407</td>\n    </tr>\n    <tr>\n      <th>13</th>\n      <td>18</td>\n      <td>16</td>\n      <td>0.848488</td>\n    </tr>\n    <tr>\n      <th>14</th>\n      <td>18</td>\n      <td>20</td>\n      <td>0.846989</td>\n    </tr>\n    <tr>\n      <th>15</th>\n      <td>18</td>\n      <td>24</td>\n      <td>0.848759</td>\n    </tr>\n  </tbody>\n</table>\n</div>"
     },
     "metadata": {},
     "execution_count": 27
    }
   ],
   "source": [
    "df = pd.DataFrame(grid_cv.cv_results_)\n",
    "df = df[['param_max_depth', 'param_min_samples_split', 'mean_test_score']]\n",
    "df"
   ]
  },
  {
   "source": [
    "최적 모델"
   ],
   "cell_type": "markdown",
   "metadata": {}
  },
  {
   "cell_type": "code",
   "execution_count": 28,
   "metadata": {},
   "outputs": [
    {
     "output_type": "stream",
     "name": "stdout",
     "text": [
      "테스트 셋에 대한 정확도: 0.8717\n"
     ]
    }
   ],
   "source": [
    "best_dt_clf = grid_cv.best_estimator_\n",
    "pred = best_dt_clf.predict(X_test)\n",
    "acc = accuracy_score(y_test, pred)\n",
    "print(f'테스트 셋에 대한 정확도: {acc:.4f}')"
   ]
  },
  {
   "source": [
    "중요도가 높은 Feature 시각화"
   ],
   "cell_type": "markdown",
   "metadata": {}
  },
  {
   "cell_type": "code",
   "execution_count": 29,
   "metadata": {},
   "outputs": [
    {
     "output_type": "display_data",
     "data": {
      "text/plain": "<Figure size 864x720 with 1 Axes>",
      "image/svg+xml": "<?xml version=\"1.0\" encoding=\"utf-8\" standalone=\"no\"?>\r\n<!DOCTYPE svg PUBLIC \"-//W3C//DTD SVG 1.1//EN\"\r\n  \"http://www.w3.org/Graphics/SVG/1.1/DTD/svg11.dtd\">\r\n<!-- Created with matplotlib (https://matplotlib.org/) -->\r\n<svg height=\"589.79625pt\" version=\"1.1\" viewBox=\"0 0 859.103125 589.79625\" width=\"859.103125pt\" xmlns=\"http://www.w3.org/2000/svg\" xmlns:xlink=\"http://www.w3.org/1999/xlink\">\r\n <defs>\r\n  <style type=\"text/css\">\r\n*{stroke-linecap:butt;stroke-linejoin:round;}\r\n  </style>\r\n </defs>\r\n <g id=\"figure_1\">\r\n  <g id=\"patch_1\">\r\n   <path d=\"M 0 589.79625 \r\nL 859.103125 589.79625 \r\nL 859.103125 0 \r\nL 0 0 \r\nz\r\n\" style=\"fill:none;\"/>\r\n  </g>\r\n  <g id=\"axes_1\">\r\n   <g id=\"patch_2\">\r\n    <path d=\"M 182.303125 565.918125 \r\nL 851.903125 565.918125 \r\nL 851.903125 22.318125 \r\nL 182.303125 22.318125 \r\nz\r\n\" style=\"fill:#ffffff;\"/>\r\n   </g>\r\n   <g id=\"patch_3\">\r\n    <path clip-path=\"url(#p56644a9e37)\" d=\"M 182.303125 25.036125 \r\nL 820.017411 25.036125 \r\nL 820.017411 46.780125 \r\nL 182.303125 46.780125 \r\nz\r\n\" style=\"fill:#ea96a3;\"/>\r\n   </g>\r\n   <g id=\"patch_4\">\r\n    <path clip-path=\"url(#p56644a9e37)\" d=\"M 182.303125 52.216125 \r\nL 717.393668 52.216125 \r\nL 717.393668 73.960125 \r\nL 182.303125 73.960125 \r\nz\r\n\" style=\"fill:#e79683;\"/>\r\n   </g>\r\n   <g id=\"patch_5\">\r\n    <path clip-path=\"url(#p56644a9e37)\" d=\"M 182.303125 79.396125 \r\nL 532.1793 79.396125 \r\nL 532.1793 101.140125 \r\nL 182.303125 101.140125 \r\nz\r\n\" style=\"fill:#d7944e;\"/>\r\n   </g>\r\n   <g id=\"patch_6\">\r\n    <path clip-path=\"url(#p56644a9e37)\" d=\"M 182.303125 106.576125 \r\nL 472.972086 106.576125 \r\nL 472.972086 128.320125 \r\nL 182.303125 128.320125 \r\nz\r\n\" style=\"fill:#bf9a4a;\"/>\r\n   </g>\r\n   <g id=\"patch_7\">\r\n    <path clip-path=\"url(#p56644a9e37)\" d=\"M 182.303125 133.756125 \r\nL 438.757204 133.756125 \r\nL 438.757204 155.500125 \r\nL 182.303125 155.500125 \r\nz\r\n\" style=\"fill:#ab9e47;\"/>\r\n   </g>\r\n   <g id=\"patch_8\">\r\n    <path clip-path=\"url(#p56644a9e37)\" d=\"M 182.303125 160.936125 \r\nL 242.63984 160.936125 \r\nL 242.63984 182.680125 \r\nL 182.303125 182.680125 \r\nz\r\n\" style=\"fill:#98a246;\"/>\r\n   </g>\r\n   <g id=\"patch_9\">\r\n    <path clip-path=\"url(#p56644a9e37)\" d=\"M 182.303125 188.116125 \r\nL 233.828057 188.116125 \r\nL 233.828057 209.860125 \r\nL 182.303125 209.860125 \r\nz\r\n\" style=\"fill:#7fa946;\"/>\r\n   </g>\r\n   <g id=\"patch_10\">\r\n    <path clip-path=\"url(#p56644a9e37)\" d=\"M 182.303125 215.296125 \r\nL 223.868847 215.296125 \r\nL 223.868847 237.040125 \r\nL 182.303125 237.040125 \r\nz\r\n\" style=\"fill:#48b052;\"/>\r\n   </g>\r\n   <g id=\"patch_11\">\r\n    <path clip-path=\"url(#p56644a9e37)\" d=\"M 182.303125 242.476125 \r\nL 221.925109 242.476125 \r\nL 221.925109 264.220125 \r\nL 182.303125 264.220125 \r\nz\r\n\" style=\"fill:#49ae83;\"/>\r\n   </g>\r\n   <g id=\"patch_12\">\r\n    <path clip-path=\"url(#p56644a9e37)\" d=\"M 182.303125 269.656125 \r\nL 207.402323 269.656125 \r\nL 207.402323 291.400125 \r\nL 182.303125 291.400125 \r\nz\r\n\" style=\"fill:#4aad96;\"/>\r\n   </g>\r\n   <g id=\"patch_13\">\r\n    <path clip-path=\"url(#p56644a9e37)\" d=\"M 182.303125 296.836125 \r\nL 204.515282 296.836125 \r\nL 204.515282 318.580125 \r\nL 182.303125 318.580125 \r\nz\r\n\" style=\"fill:#4baba4;\"/>\r\n   </g>\r\n   <g id=\"patch_14\">\r\n    <path clip-path=\"url(#p56644a9e37)\" d=\"M 182.303125 324.016125 \r\nL 203.823262 324.016125 \r\nL 203.823262 345.760125 \r\nL 182.303125 345.760125 \r\nz\r\n\" style=\"fill:#4dabb2;\"/>\r\n   </g>\r\n   <g id=\"patch_15\">\r\n    <path clip-path=\"url(#p56644a9e37)\" d=\"M 182.303125 351.196125 \r\nL 198.136409 351.196125 \r\nL 198.136409 372.940125 \r\nL 182.303125 372.940125 \r\nz\r\n\" style=\"fill:#50acc3;\"/>\r\n   </g>\r\n   <g id=\"patch_16\">\r\n    <path clip-path=\"url(#p56644a9e37)\" d=\"M 182.303125 378.376125 \r\nL 195.509666 378.376125 \r\nL 195.509666 400.120125 \r\nL 182.303125 400.120125 \r\nz\r\n\" style=\"fill:#56addb;\"/>\r\n   </g>\r\n   <g id=\"patch_17\">\r\n    <path clip-path=\"url(#p56644a9e37)\" d=\"M 182.303125 405.556125 \r\nL 193.309995 405.556125 \r\nL 193.309995 427.300125 \r\nL 182.303125 427.300125 \r\nz\r\n\" style=\"fill:#94aee8;\"/>\r\n   </g>\r\n   <g id=\"patch_18\">\r\n    <path clip-path=\"url(#p56644a9e37)\" d=\"M 182.303125 432.736125 \r\nL 192.287735 432.736125 \r\nL 192.287735 454.480125 \r\nL 182.303125 454.480125 \r\nz\r\n\" style=\"fill:#b6a8eb;\"/>\r\n   </g>\r\n   <g id=\"patch_19\">\r\n    <path clip-path=\"url(#p56644a9e37)\" d=\"M 182.303125 459.916125 \r\nL 191.040186 459.916125 \r\nL 191.040186 481.660125 \r\nL 182.303125 481.660125 \r\nz\r\n\" style=\"fill:#ce9be9;\"/>\r\n   </g>\r\n   <g id=\"patch_20\">\r\n    <path clip-path=\"url(#p56644a9e37)\" d=\"M 182.303125 487.096125 \r\nL 189.916145 487.096125 \r\nL 189.916145 508.840125 \r\nL 182.303125 508.840125 \r\nz\r\n\" style=\"fill:#e689e4;\"/>\r\n   </g>\r\n   <g id=\"patch_21\">\r\n    <path clip-path=\"url(#p56644a9e37)\" d=\"M 182.303125 514.276125 \r\nL 189.820719 514.276125 \r\nL 189.820719 536.020125 \r\nL 182.303125 536.020125 \r\nz\r\n\" style=\"fill:#e88fcc;\"/>\r\n   </g>\r\n   <g id=\"patch_22\">\r\n    <path clip-path=\"url(#p56644a9e37)\" d=\"M 182.303125 541.456125 \r\nL 189.633645 541.456125 \r\nL 189.633645 563.200125 \r\nL 182.303125 563.200125 \r\nz\r\n\" style=\"fill:#e993b9;\"/>\r\n   </g>\r\n   <g id=\"matplotlib.axis_1\">\r\n    <g id=\"xtick_1\">\r\n     <g id=\"line2d_1\">\r\n      <defs>\r\n       <path d=\"M 0 0 \r\nL 0 3.5 \r\n\" id=\"md490d63762\" style=\"stroke:#000000;stroke-width:0.8;\"/>\r\n      </defs>\r\n      <g>\r\n       <use style=\"stroke:#000000;stroke-width:0.8;\" x=\"182.303125\" xlink:href=\"#md490d63762\" y=\"565.918125\"/>\r\n      </g>\r\n     </g>\r\n     <g id=\"text_1\">\r\n      <!-- 0.00 -->\r\n      <defs>\r\n       <path d=\"M 31.78125 66.40625 \r\nQ 24.171875 66.40625 20.328125 58.90625 \r\nQ 16.5 51.421875 16.5 36.375 \r\nQ 16.5 21.390625 20.328125 13.890625 \r\nQ 24.171875 6.390625 31.78125 6.390625 \r\nQ 39.453125 6.390625 43.28125 13.890625 \r\nQ 47.125 21.390625 47.125 36.375 \r\nQ 47.125 51.421875 43.28125 58.90625 \r\nQ 39.453125 66.40625 31.78125 66.40625 \r\nz\r\nM 31.78125 74.21875 \r\nQ 44.046875 74.21875 50.515625 64.515625 \r\nQ 56.984375 54.828125 56.984375 36.375 \r\nQ 56.984375 17.96875 50.515625 8.265625 \r\nQ 44.046875 -1.421875 31.78125 -1.421875 \r\nQ 19.53125 -1.421875 13.0625 8.265625 \r\nQ 6.59375 17.96875 6.59375 36.375 \r\nQ 6.59375 54.828125 13.0625 64.515625 \r\nQ 19.53125 74.21875 31.78125 74.21875 \r\nz\r\n\" id=\"DejaVuSans-48\"/>\r\n       <path d=\"M 10.6875 12.40625 \r\nL 21 12.40625 \r\nL 21 0 \r\nL 10.6875 0 \r\nz\r\n\" id=\"DejaVuSans-46\"/>\r\n      </defs>\r\n      <g transform=\"translate(171.170313 580.516562)scale(0.1 -0.1)\">\r\n       <use xlink:href=\"#DejaVuSans-48\"/>\r\n       <use x=\"63.623047\" xlink:href=\"#DejaVuSans-46\"/>\r\n       <use x=\"95.410156\" xlink:href=\"#DejaVuSans-48\"/>\r\n       <use x=\"159.033203\" xlink:href=\"#DejaVuSans-48\"/>\r\n      </g>\r\n     </g>\r\n    </g>\r\n    <g id=\"xtick_2\">\r\n     <g id=\"line2d_2\">\r\n      <g>\r\n       <use style=\"stroke:#000000;stroke-width:0.8;\" x=\"308.15732\" xlink:href=\"#md490d63762\" y=\"565.918125\"/>\r\n      </g>\r\n     </g>\r\n     <g id=\"text_2\">\r\n      <!-- 0.05 -->\r\n      <defs>\r\n       <path d=\"M 10.796875 72.90625 \r\nL 49.515625 72.90625 \r\nL 49.515625 64.59375 \r\nL 19.828125 64.59375 \r\nL 19.828125 46.734375 \r\nQ 21.96875 47.46875 24.109375 47.828125 \r\nQ 26.265625 48.1875 28.421875 48.1875 \r\nQ 40.625 48.1875 47.75 41.5 \r\nQ 54.890625 34.8125 54.890625 23.390625 \r\nQ 54.890625 11.625 47.5625 5.09375 \r\nQ 40.234375 -1.421875 26.90625 -1.421875 \r\nQ 22.3125 -1.421875 17.546875 -0.640625 \r\nQ 12.796875 0.140625 7.71875 1.703125 \r\nL 7.71875 11.625 \r\nQ 12.109375 9.234375 16.796875 8.0625 \r\nQ 21.484375 6.890625 26.703125 6.890625 \r\nQ 35.15625 6.890625 40.078125 11.328125 \r\nQ 45.015625 15.765625 45.015625 23.390625 \r\nQ 45.015625 31 40.078125 35.4375 \r\nQ 35.15625 39.890625 26.703125 39.890625 \r\nQ 22.75 39.890625 18.8125 39.015625 \r\nQ 14.890625 38.140625 10.796875 36.28125 \r\nz\r\n\" id=\"DejaVuSans-53\"/>\r\n      </defs>\r\n      <g transform=\"translate(297.024507 580.516562)scale(0.1 -0.1)\">\r\n       <use xlink:href=\"#DejaVuSans-48\"/>\r\n       <use x=\"63.623047\" xlink:href=\"#DejaVuSans-46\"/>\r\n       <use x=\"95.410156\" xlink:href=\"#DejaVuSans-48\"/>\r\n       <use x=\"159.033203\" xlink:href=\"#DejaVuSans-53\"/>\r\n      </g>\r\n     </g>\r\n    </g>\r\n    <g id=\"xtick_3\">\r\n     <g id=\"line2d_3\">\r\n      <g>\r\n       <use style=\"stroke:#000000;stroke-width:0.8;\" x=\"434.011515\" xlink:href=\"#md490d63762\" y=\"565.918125\"/>\r\n      </g>\r\n     </g>\r\n     <g id=\"text_3\">\r\n      <!-- 0.10 -->\r\n      <defs>\r\n       <path d=\"M 12.40625 8.296875 \r\nL 28.515625 8.296875 \r\nL 28.515625 63.921875 \r\nL 10.984375 60.40625 \r\nL 10.984375 69.390625 \r\nL 28.421875 72.90625 \r\nL 38.28125 72.90625 \r\nL 38.28125 8.296875 \r\nL 54.390625 8.296875 \r\nL 54.390625 0 \r\nL 12.40625 0 \r\nz\r\n\" id=\"DejaVuSans-49\"/>\r\n      </defs>\r\n      <g transform=\"translate(422.878702 580.516562)scale(0.1 -0.1)\">\r\n       <use xlink:href=\"#DejaVuSans-48\"/>\r\n       <use x=\"63.623047\" xlink:href=\"#DejaVuSans-46\"/>\r\n       <use x=\"95.410156\" xlink:href=\"#DejaVuSans-49\"/>\r\n       <use x=\"159.033203\" xlink:href=\"#DejaVuSans-48\"/>\r\n      </g>\r\n     </g>\r\n    </g>\r\n    <g id=\"xtick_4\">\r\n     <g id=\"line2d_4\">\r\n      <g>\r\n       <use style=\"stroke:#000000;stroke-width:0.8;\" x=\"559.86571\" xlink:href=\"#md490d63762\" y=\"565.918125\"/>\r\n      </g>\r\n     </g>\r\n     <g id=\"text_4\">\r\n      <!-- 0.15 -->\r\n      <g transform=\"translate(548.732897 580.516562)scale(0.1 -0.1)\">\r\n       <use xlink:href=\"#DejaVuSans-48\"/>\r\n       <use x=\"63.623047\" xlink:href=\"#DejaVuSans-46\"/>\r\n       <use x=\"95.410156\" xlink:href=\"#DejaVuSans-49\"/>\r\n       <use x=\"159.033203\" xlink:href=\"#DejaVuSans-53\"/>\r\n      </g>\r\n     </g>\r\n    </g>\r\n    <g id=\"xtick_5\">\r\n     <g id=\"line2d_5\">\r\n      <g>\r\n       <use style=\"stroke:#000000;stroke-width:0.8;\" x=\"685.719905\" xlink:href=\"#md490d63762\" y=\"565.918125\"/>\r\n      </g>\r\n     </g>\r\n     <g id=\"text_5\">\r\n      <!-- 0.20 -->\r\n      <defs>\r\n       <path d=\"M 19.1875 8.296875 \r\nL 53.609375 8.296875 \r\nL 53.609375 0 \r\nL 7.328125 0 \r\nL 7.328125 8.296875 \r\nQ 12.9375 14.109375 22.625 23.890625 \r\nQ 32.328125 33.6875 34.8125 36.53125 \r\nQ 39.546875 41.84375 41.421875 45.53125 \r\nQ 43.3125 49.21875 43.3125 52.78125 \r\nQ 43.3125 58.59375 39.234375 62.25 \r\nQ 35.15625 65.921875 28.609375 65.921875 \r\nQ 23.96875 65.921875 18.8125 64.3125 \r\nQ 13.671875 62.703125 7.8125 59.421875 \r\nL 7.8125 69.390625 \r\nQ 13.765625 71.78125 18.9375 73 \r\nQ 24.125 74.21875 28.421875 74.21875 \r\nQ 39.75 74.21875 46.484375 68.546875 \r\nQ 53.21875 62.890625 53.21875 53.421875 \r\nQ 53.21875 48.921875 51.53125 44.890625 \r\nQ 49.859375 40.875 45.40625 35.40625 \r\nQ 44.1875 33.984375 37.640625 27.21875 \r\nQ 31.109375 20.453125 19.1875 8.296875 \r\nz\r\n\" id=\"DejaVuSans-50\"/>\r\n      </defs>\r\n      <g transform=\"translate(674.587092 580.516562)scale(0.1 -0.1)\">\r\n       <use xlink:href=\"#DejaVuSans-48\"/>\r\n       <use x=\"63.623047\" xlink:href=\"#DejaVuSans-46\"/>\r\n       <use x=\"95.410156\" xlink:href=\"#DejaVuSans-50\"/>\r\n       <use x=\"159.033203\" xlink:href=\"#DejaVuSans-48\"/>\r\n      </g>\r\n     </g>\r\n    </g>\r\n    <g id=\"xtick_6\">\r\n     <g id=\"line2d_6\">\r\n      <g>\r\n       <use style=\"stroke:#000000;stroke-width:0.8;\" x=\"811.5741\" xlink:href=\"#md490d63762\" y=\"565.918125\"/>\r\n      </g>\r\n     </g>\r\n     <g id=\"text_6\">\r\n      <!-- 0.25 -->\r\n      <g transform=\"translate(800.441287 580.516562)scale(0.1 -0.1)\">\r\n       <use xlink:href=\"#DejaVuSans-48\"/>\r\n       <use x=\"63.623047\" xlink:href=\"#DejaVuSans-46\"/>\r\n       <use x=\"95.410156\" xlink:href=\"#DejaVuSans-50\"/>\r\n       <use x=\"159.033203\" xlink:href=\"#DejaVuSans-53\"/>\r\n      </g>\r\n     </g>\r\n    </g>\r\n   </g>\r\n   <g id=\"matplotlib.axis_2\">\r\n    <g id=\"ytick_1\">\r\n     <g id=\"line2d_7\">\r\n      <defs>\r\n       <path d=\"M 0 0 \r\nL -3.5 0 \r\n\" id=\"m50468946f4\" style=\"stroke:#000000;stroke-width:0.8;\"/>\r\n      </defs>\r\n      <g>\r\n       <use style=\"stroke:#000000;stroke-width:0.8;\" x=\"182.303125\" xlink:href=\"#m50468946f4\" y=\"35.908125\"/>\r\n      </g>\r\n     </g>\r\n     <g id=\"text_7\">\r\n      <!-- tGravityAcc-min()-X -->\r\n      <defs>\r\n       <path d=\"M 18.3125 70.21875 \r\nL 18.3125 54.6875 \r\nL 36.8125 54.6875 \r\nL 36.8125 47.703125 \r\nL 18.3125 47.703125 \r\nL 18.3125 18.015625 \r\nQ 18.3125 11.328125 20.140625 9.421875 \r\nQ 21.96875 7.515625 27.59375 7.515625 \r\nL 36.8125 7.515625 \r\nL 36.8125 0 \r\nL 27.59375 0 \r\nQ 17.1875 0 13.234375 3.875 \r\nQ 9.28125 7.765625 9.28125 18.015625 \r\nL 9.28125 47.703125 \r\nL 2.6875 47.703125 \r\nL 2.6875 54.6875 \r\nL 9.28125 54.6875 \r\nL 9.28125 70.21875 \r\nz\r\n\" id=\"DejaVuSans-116\"/>\r\n       <path d=\"M 59.515625 10.40625 \r\nL 59.515625 29.984375 \r\nL 43.40625 29.984375 \r\nL 43.40625 38.09375 \r\nL 69.28125 38.09375 \r\nL 69.28125 6.78125 \r\nQ 63.578125 2.734375 56.6875 0.65625 \r\nQ 49.8125 -1.421875 42 -1.421875 \r\nQ 24.90625 -1.421875 15.25 8.5625 \r\nQ 5.609375 18.5625 5.609375 36.375 \r\nQ 5.609375 54.25 15.25 64.234375 \r\nQ 24.90625 74.21875 42 74.21875 \r\nQ 49.125 74.21875 55.546875 72.453125 \r\nQ 61.96875 70.703125 67.390625 67.28125 \r\nL 67.390625 56.78125 \r\nQ 61.921875 61.421875 55.765625 63.765625 \r\nQ 49.609375 66.109375 42.828125 66.109375 \r\nQ 29.4375 66.109375 22.71875 58.640625 \r\nQ 16.015625 51.171875 16.015625 36.375 \r\nQ 16.015625 21.625 22.71875 14.15625 \r\nQ 29.4375 6.6875 42.828125 6.6875 \r\nQ 48.046875 6.6875 52.140625 7.59375 \r\nQ 56.25 8.5 59.515625 10.40625 \r\nz\r\n\" id=\"DejaVuSans-71\"/>\r\n       <path d=\"M 41.109375 46.296875 \r\nQ 39.59375 47.171875 37.8125 47.578125 \r\nQ 36.03125 48 33.890625 48 \r\nQ 26.265625 48 22.1875 43.046875 \r\nQ 18.109375 38.09375 18.109375 28.8125 \r\nL 18.109375 0 \r\nL 9.078125 0 \r\nL 9.078125 54.6875 \r\nL 18.109375 54.6875 \r\nL 18.109375 46.1875 \r\nQ 20.953125 51.171875 25.484375 53.578125 \r\nQ 30.03125 56 36.53125 56 \r\nQ 37.453125 56 38.578125 55.875 \r\nQ 39.703125 55.765625 41.0625 55.515625 \r\nz\r\n\" id=\"DejaVuSans-114\"/>\r\n       <path d=\"M 34.28125 27.484375 \r\nQ 23.390625 27.484375 19.1875 25 \r\nQ 14.984375 22.515625 14.984375 16.5 \r\nQ 14.984375 11.71875 18.140625 8.90625 \r\nQ 21.296875 6.109375 26.703125 6.109375 \r\nQ 34.1875 6.109375 38.703125 11.40625 \r\nQ 43.21875 16.703125 43.21875 25.484375 \r\nL 43.21875 27.484375 \r\nz\r\nM 52.203125 31.203125 \r\nL 52.203125 0 \r\nL 43.21875 0 \r\nL 43.21875 8.296875 \r\nQ 40.140625 3.328125 35.546875 0.953125 \r\nQ 30.953125 -1.421875 24.3125 -1.421875 \r\nQ 15.921875 -1.421875 10.953125 3.296875 \r\nQ 6 8.015625 6 15.921875 \r\nQ 6 25.140625 12.171875 29.828125 \r\nQ 18.359375 34.515625 30.609375 34.515625 \r\nL 43.21875 34.515625 \r\nL 43.21875 35.40625 \r\nQ 43.21875 41.609375 39.140625 45 \r\nQ 35.0625 48.390625 27.6875 48.390625 \r\nQ 23 48.390625 18.546875 47.265625 \r\nQ 14.109375 46.140625 10.015625 43.890625 \r\nL 10.015625 52.203125 \r\nQ 14.9375 54.109375 19.578125 55.046875 \r\nQ 24.21875 56 28.609375 56 \r\nQ 40.484375 56 46.34375 49.84375 \r\nQ 52.203125 43.703125 52.203125 31.203125 \r\nz\r\n\" id=\"DejaVuSans-97\"/>\r\n       <path d=\"M 2.984375 54.6875 \r\nL 12.5 54.6875 \r\nL 29.59375 8.796875 \r\nL 46.6875 54.6875 \r\nL 56.203125 54.6875 \r\nL 35.6875 0 \r\nL 23.484375 0 \r\nz\r\n\" id=\"DejaVuSans-118\"/>\r\n       <path d=\"M 9.421875 54.6875 \r\nL 18.40625 54.6875 \r\nL 18.40625 0 \r\nL 9.421875 0 \r\nz\r\nM 9.421875 75.984375 \r\nL 18.40625 75.984375 \r\nL 18.40625 64.59375 \r\nL 9.421875 64.59375 \r\nz\r\n\" id=\"DejaVuSans-105\"/>\r\n       <path d=\"M 32.171875 -5.078125 \r\nQ 28.375 -14.84375 24.75 -17.8125 \r\nQ 21.140625 -20.796875 15.09375 -20.796875 \r\nL 7.90625 -20.796875 \r\nL 7.90625 -13.28125 \r\nL 13.1875 -13.28125 \r\nQ 16.890625 -13.28125 18.9375 -11.515625 \r\nQ 21 -9.765625 23.484375 -3.21875 \r\nL 25.09375 0.875 \r\nL 2.984375 54.6875 \r\nL 12.5 54.6875 \r\nL 29.59375 11.921875 \r\nL 46.6875 54.6875 \r\nL 56.203125 54.6875 \r\nz\r\n\" id=\"DejaVuSans-121\"/>\r\n       <path d=\"M 34.1875 63.1875 \r\nL 20.796875 26.90625 \r\nL 47.609375 26.90625 \r\nz\r\nM 28.609375 72.90625 \r\nL 39.796875 72.90625 \r\nL 67.578125 0 \r\nL 57.328125 0 \r\nL 50.6875 18.703125 \r\nL 17.828125 18.703125 \r\nL 11.1875 0 \r\nL 0.78125 0 \r\nz\r\n\" id=\"DejaVuSans-65\"/>\r\n       <path d=\"M 48.78125 52.59375 \r\nL 48.78125 44.1875 \r\nQ 44.96875 46.296875 41.140625 47.34375 \r\nQ 37.3125 48.390625 33.40625 48.390625 \r\nQ 24.65625 48.390625 19.8125 42.84375 \r\nQ 14.984375 37.3125 14.984375 27.296875 \r\nQ 14.984375 17.28125 19.8125 11.734375 \r\nQ 24.65625 6.203125 33.40625 6.203125 \r\nQ 37.3125 6.203125 41.140625 7.25 \r\nQ 44.96875 8.296875 48.78125 10.40625 \r\nL 48.78125 2.09375 \r\nQ 45.015625 0.34375 40.984375 -0.53125 \r\nQ 36.96875 -1.421875 32.421875 -1.421875 \r\nQ 20.0625 -1.421875 12.78125 6.34375 \r\nQ 5.515625 14.109375 5.515625 27.296875 \r\nQ 5.515625 40.671875 12.859375 48.328125 \r\nQ 20.21875 56 33.015625 56 \r\nQ 37.15625 56 41.109375 55.140625 \r\nQ 45.0625 54.296875 48.78125 52.59375 \r\nz\r\n\" id=\"DejaVuSans-99\"/>\r\n       <path d=\"M 4.890625 31.390625 \r\nL 31.203125 31.390625 \r\nL 31.203125 23.390625 \r\nL 4.890625 23.390625 \r\nz\r\n\" id=\"DejaVuSans-45\"/>\r\n       <path d=\"M 52 44.1875 \r\nQ 55.375 50.25 60.0625 53.125 \r\nQ 64.75 56 71.09375 56 \r\nQ 79.640625 56 84.28125 50.015625 \r\nQ 88.921875 44.046875 88.921875 33.015625 \r\nL 88.921875 0 \r\nL 79.890625 0 \r\nL 79.890625 32.71875 \r\nQ 79.890625 40.578125 77.09375 44.375 \r\nQ 74.3125 48.1875 68.609375 48.1875 \r\nQ 61.625 48.1875 57.5625 43.546875 \r\nQ 53.515625 38.921875 53.515625 30.90625 \r\nL 53.515625 0 \r\nL 44.484375 0 \r\nL 44.484375 32.71875 \r\nQ 44.484375 40.625 41.703125 44.40625 \r\nQ 38.921875 48.1875 33.109375 48.1875 \r\nQ 26.21875 48.1875 22.15625 43.53125 \r\nQ 18.109375 38.875 18.109375 30.90625 \r\nL 18.109375 0 \r\nL 9.078125 0 \r\nL 9.078125 54.6875 \r\nL 18.109375 54.6875 \r\nL 18.109375 46.1875 \r\nQ 21.1875 51.21875 25.484375 53.609375 \r\nQ 29.78125 56 35.6875 56 \r\nQ 41.65625 56 45.828125 52.96875 \r\nQ 50 49.953125 52 44.1875 \r\nz\r\n\" id=\"DejaVuSans-109\"/>\r\n       <path d=\"M 54.890625 33.015625 \r\nL 54.890625 0 \r\nL 45.90625 0 \r\nL 45.90625 32.71875 \r\nQ 45.90625 40.484375 42.875 44.328125 \r\nQ 39.84375 48.1875 33.796875 48.1875 \r\nQ 26.515625 48.1875 22.3125 43.546875 \r\nQ 18.109375 38.921875 18.109375 30.90625 \r\nL 18.109375 0 \r\nL 9.078125 0 \r\nL 9.078125 54.6875 \r\nL 18.109375 54.6875 \r\nL 18.109375 46.1875 \r\nQ 21.34375 51.125 25.703125 53.5625 \r\nQ 30.078125 56 35.796875 56 \r\nQ 45.21875 56 50.046875 50.171875 \r\nQ 54.890625 44.34375 54.890625 33.015625 \r\nz\r\n\" id=\"DejaVuSans-110\"/>\r\n       <path d=\"M 31 75.875 \r\nQ 24.46875 64.65625 21.28125 53.65625 \r\nQ 18.109375 42.671875 18.109375 31.390625 \r\nQ 18.109375 20.125 21.3125 9.0625 \r\nQ 24.515625 -2 31 -13.1875 \r\nL 23.1875 -13.1875 \r\nQ 15.875 -1.703125 12.234375 9.375 \r\nQ 8.59375 20.453125 8.59375 31.390625 \r\nQ 8.59375 42.28125 12.203125 53.3125 \r\nQ 15.828125 64.359375 23.1875 75.875 \r\nz\r\n\" id=\"DejaVuSans-40\"/>\r\n       <path d=\"M 8.015625 75.875 \r\nL 15.828125 75.875 \r\nQ 23.140625 64.359375 26.78125 53.3125 \r\nQ 30.421875 42.28125 30.421875 31.390625 \r\nQ 30.421875 20.453125 26.78125 9.375 \r\nQ 23.140625 -1.703125 15.828125 -13.1875 \r\nL 8.015625 -13.1875 \r\nQ 14.5 -2 17.703125 9.0625 \r\nQ 20.90625 20.125 20.90625 31.390625 \r\nQ 20.90625 42.671875 17.703125 53.65625 \r\nQ 14.5 64.65625 8.015625 75.875 \r\nz\r\n\" id=\"DejaVuSans-41\"/>\r\n       <path d=\"M 6.296875 72.90625 \r\nL 16.890625 72.90625 \r\nL 35.015625 45.796875 \r\nL 53.21875 72.90625 \r\nL 63.8125 72.90625 \r\nL 40.375 37.890625 \r\nL 65.375 0 \r\nL 54.78125 0 \r\nL 34.28125 31 \r\nL 13.625 0 \r\nL 2.984375 0 \r\nL 29 38.921875 \r\nz\r\n\" id=\"DejaVuSans-88\"/>\r\n      </defs>\r\n      <g transform=\"translate(76.971875 39.707344)scale(0.1 -0.1)\">\r\n       <use xlink:href=\"#DejaVuSans-116\"/>\r\n       <use x=\"39.208984\" xlink:href=\"#DejaVuSans-71\"/>\r\n       <use x=\"116.699219\" xlink:href=\"#DejaVuSans-114\"/>\r\n       <use x=\"157.8125\" xlink:href=\"#DejaVuSans-97\"/>\r\n       <use x=\"219.091797\" xlink:href=\"#DejaVuSans-118\"/>\r\n       <use x=\"278.271484\" xlink:href=\"#DejaVuSans-105\"/>\r\n       <use x=\"306.054688\" xlink:href=\"#DejaVuSans-116\"/>\r\n       <use x=\"345.263672\" xlink:href=\"#DejaVuSans-121\"/>\r\n       <use x=\"404.443359\" xlink:href=\"#DejaVuSans-65\"/>\r\n       <use x=\"471.101562\" xlink:href=\"#DejaVuSans-99\"/>\r\n       <use x=\"526.082031\" xlink:href=\"#DejaVuSans-99\"/>\r\n       <use x=\"581.0625\" xlink:href=\"#DejaVuSans-45\"/>\r\n       <use x=\"617.146484\" xlink:href=\"#DejaVuSans-109\"/>\r\n       <use x=\"714.558594\" xlink:href=\"#DejaVuSans-105\"/>\r\n       <use x=\"742.341797\" xlink:href=\"#DejaVuSans-110\"/>\r\n       <use x=\"805.720703\" xlink:href=\"#DejaVuSans-40\"/>\r\n       <use x=\"844.734375\" xlink:href=\"#DejaVuSans-41\"/>\r\n       <use x=\"883.748047\" xlink:href=\"#DejaVuSans-45\"/>\r\n       <use x=\"914.832031\" xlink:href=\"#DejaVuSans-88\"/>\r\n      </g>\r\n     </g>\r\n    </g>\r\n    <g id=\"ytick_2\">\r\n     <g id=\"line2d_8\">\r\n      <g>\r\n       <use style=\"stroke:#000000;stroke-width:0.8;\" x=\"182.303125\" xlink:href=\"#m50468946f4\" y=\"63.088125\"/>\r\n      </g>\r\n     </g>\r\n     <g id=\"text_8\">\r\n      <!-- fBodyAccJerk-bandsEnergy()-1,16 -->\r\n      <defs>\r\n       <path d=\"M 37.109375 75.984375 \r\nL 37.109375 68.5 \r\nL 28.515625 68.5 \r\nQ 23.6875 68.5 21.796875 66.546875 \r\nQ 19.921875 64.59375 19.921875 59.515625 \r\nL 19.921875 54.6875 \r\nL 34.71875 54.6875 \r\nL 34.71875 47.703125 \r\nL 19.921875 47.703125 \r\nL 19.921875 0 \r\nL 10.890625 0 \r\nL 10.890625 47.703125 \r\nL 2.296875 47.703125 \r\nL 2.296875 54.6875 \r\nL 10.890625 54.6875 \r\nL 10.890625 58.5 \r\nQ 10.890625 67.625 15.140625 71.796875 \r\nQ 19.390625 75.984375 28.609375 75.984375 \r\nz\r\n\" id=\"DejaVuSans-102\"/>\r\n       <path d=\"M 19.671875 34.8125 \r\nL 19.671875 8.109375 \r\nL 35.5 8.109375 \r\nQ 43.453125 8.109375 47.28125 11.40625 \r\nQ 51.125 14.703125 51.125 21.484375 \r\nQ 51.125 28.328125 47.28125 31.5625 \r\nQ 43.453125 34.8125 35.5 34.8125 \r\nz\r\nM 19.671875 64.796875 \r\nL 19.671875 42.828125 \r\nL 34.28125 42.828125 \r\nQ 41.5 42.828125 45.03125 45.53125 \r\nQ 48.578125 48.25 48.578125 53.8125 \r\nQ 48.578125 59.328125 45.03125 62.0625 \r\nQ 41.5 64.796875 34.28125 64.796875 \r\nz\r\nM 9.8125 72.90625 \r\nL 35.015625 72.90625 \r\nQ 46.296875 72.90625 52.390625 68.21875 \r\nQ 58.5 63.53125 58.5 54.890625 \r\nQ 58.5 48.1875 55.375 44.234375 \r\nQ 52.25 40.28125 46.1875 39.3125 \r\nQ 53.46875 37.75 57.5 32.78125 \r\nQ 61.53125 27.828125 61.53125 20.40625 \r\nQ 61.53125 10.640625 54.890625 5.3125 \r\nQ 48.25 0 35.984375 0 \r\nL 9.8125 0 \r\nz\r\n\" id=\"DejaVuSans-66\"/>\r\n       <path d=\"M 30.609375 48.390625 \r\nQ 23.390625 48.390625 19.1875 42.75 \r\nQ 14.984375 37.109375 14.984375 27.296875 \r\nQ 14.984375 17.484375 19.15625 11.84375 \r\nQ 23.34375 6.203125 30.609375 6.203125 \r\nQ 37.796875 6.203125 41.984375 11.859375 \r\nQ 46.1875 17.53125 46.1875 27.296875 \r\nQ 46.1875 37.015625 41.984375 42.703125 \r\nQ 37.796875 48.390625 30.609375 48.390625 \r\nz\r\nM 30.609375 56 \r\nQ 42.328125 56 49.015625 48.375 \r\nQ 55.71875 40.765625 55.71875 27.296875 \r\nQ 55.71875 13.875 49.015625 6.21875 \r\nQ 42.328125 -1.421875 30.609375 -1.421875 \r\nQ 18.84375 -1.421875 12.171875 6.21875 \r\nQ 5.515625 13.875 5.515625 27.296875 \r\nQ 5.515625 40.765625 12.171875 48.375 \r\nQ 18.84375 56 30.609375 56 \r\nz\r\n\" id=\"DejaVuSans-111\"/>\r\n       <path d=\"M 45.40625 46.390625 \r\nL 45.40625 75.984375 \r\nL 54.390625 75.984375 \r\nL 54.390625 0 \r\nL 45.40625 0 \r\nL 45.40625 8.203125 \r\nQ 42.578125 3.328125 38.25 0.953125 \r\nQ 33.9375 -1.421875 27.875 -1.421875 \r\nQ 17.96875 -1.421875 11.734375 6.484375 \r\nQ 5.515625 14.40625 5.515625 27.296875 \r\nQ 5.515625 40.1875 11.734375 48.09375 \r\nQ 17.96875 56 27.875 56 \r\nQ 33.9375 56 38.25 53.625 \r\nQ 42.578125 51.265625 45.40625 46.390625 \r\nz\r\nM 14.796875 27.296875 \r\nQ 14.796875 17.390625 18.875 11.75 \r\nQ 22.953125 6.109375 30.078125 6.109375 \r\nQ 37.203125 6.109375 41.296875 11.75 \r\nQ 45.40625 17.390625 45.40625 27.296875 \r\nQ 45.40625 37.203125 41.296875 42.84375 \r\nQ 37.203125 48.484375 30.078125 48.484375 \r\nQ 22.953125 48.484375 18.875 42.84375 \r\nQ 14.796875 37.203125 14.796875 27.296875 \r\nz\r\n\" id=\"DejaVuSans-100\"/>\r\n       <path d=\"M 9.8125 72.90625 \r\nL 19.671875 72.90625 \r\nL 19.671875 5.078125 \r\nQ 19.671875 -8.109375 14.671875 -14.0625 \r\nQ 9.671875 -20.015625 -1.421875 -20.015625 \r\nL -5.171875 -20.015625 \r\nL -5.171875 -11.71875 \r\nL -2.09375 -11.71875 \r\nQ 4.4375 -11.71875 7.125 -8.046875 \r\nQ 9.8125 -4.390625 9.8125 5.078125 \r\nz\r\n\" id=\"DejaVuSans-74\"/>\r\n       <path d=\"M 56.203125 29.59375 \r\nL 56.203125 25.203125 \r\nL 14.890625 25.203125 \r\nQ 15.484375 15.921875 20.484375 11.0625 \r\nQ 25.484375 6.203125 34.421875 6.203125 \r\nQ 39.59375 6.203125 44.453125 7.46875 \r\nQ 49.3125 8.734375 54.109375 11.28125 \r\nL 54.109375 2.78125 \r\nQ 49.265625 0.734375 44.1875 -0.34375 \r\nQ 39.109375 -1.421875 33.890625 -1.421875 \r\nQ 20.796875 -1.421875 13.15625 6.1875 \r\nQ 5.515625 13.8125 5.515625 26.8125 \r\nQ 5.515625 40.234375 12.765625 48.109375 \r\nQ 20.015625 56 32.328125 56 \r\nQ 43.359375 56 49.78125 48.890625 \r\nQ 56.203125 41.796875 56.203125 29.59375 \r\nz\r\nM 47.21875 32.234375 \r\nQ 47.125 39.59375 43.09375 43.984375 \r\nQ 39.0625 48.390625 32.421875 48.390625 \r\nQ 24.90625 48.390625 20.390625 44.140625 \r\nQ 15.875 39.890625 15.1875 32.171875 \r\nz\r\n\" id=\"DejaVuSans-101\"/>\r\n       <path d=\"M 9.078125 75.984375 \r\nL 18.109375 75.984375 \r\nL 18.109375 31.109375 \r\nL 44.921875 54.6875 \r\nL 56.390625 54.6875 \r\nL 27.390625 29.109375 \r\nL 57.625 0 \r\nL 45.90625 0 \r\nL 18.109375 26.703125 \r\nL 18.109375 0 \r\nL 9.078125 0 \r\nz\r\n\" id=\"DejaVuSans-107\"/>\r\n       <path d=\"M 48.6875 27.296875 \r\nQ 48.6875 37.203125 44.609375 42.84375 \r\nQ 40.53125 48.484375 33.40625 48.484375 \r\nQ 26.265625 48.484375 22.1875 42.84375 \r\nQ 18.109375 37.203125 18.109375 27.296875 \r\nQ 18.109375 17.390625 22.1875 11.75 \r\nQ 26.265625 6.109375 33.40625 6.109375 \r\nQ 40.53125 6.109375 44.609375 11.75 \r\nQ 48.6875 17.390625 48.6875 27.296875 \r\nz\r\nM 18.109375 46.390625 \r\nQ 20.953125 51.265625 25.265625 53.625 \r\nQ 29.59375 56 35.59375 56 \r\nQ 45.5625 56 51.78125 48.09375 \r\nQ 58.015625 40.1875 58.015625 27.296875 \r\nQ 58.015625 14.40625 51.78125 6.484375 \r\nQ 45.5625 -1.421875 35.59375 -1.421875 \r\nQ 29.59375 -1.421875 25.265625 0.953125 \r\nQ 20.953125 3.328125 18.109375 8.203125 \r\nL 18.109375 0 \r\nL 9.078125 0 \r\nL 9.078125 75.984375 \r\nL 18.109375 75.984375 \r\nz\r\n\" id=\"DejaVuSans-98\"/>\r\n       <path d=\"M 44.28125 53.078125 \r\nL 44.28125 44.578125 \r\nQ 40.484375 46.53125 36.375 47.5 \r\nQ 32.28125 48.484375 27.875 48.484375 \r\nQ 21.1875 48.484375 17.84375 46.4375 \r\nQ 14.5 44.390625 14.5 40.28125 \r\nQ 14.5 37.15625 16.890625 35.375 \r\nQ 19.28125 33.59375 26.515625 31.984375 \r\nL 29.59375 31.296875 \r\nQ 39.15625 29.25 43.1875 25.515625 \r\nQ 47.21875 21.78125 47.21875 15.09375 \r\nQ 47.21875 7.46875 41.1875 3.015625 \r\nQ 35.15625 -1.421875 24.609375 -1.421875 \r\nQ 20.21875 -1.421875 15.453125 -0.5625 \r\nQ 10.6875 0.296875 5.421875 2 \r\nL 5.421875 11.28125 \r\nQ 10.40625 8.6875 15.234375 7.390625 \r\nQ 20.0625 6.109375 24.8125 6.109375 \r\nQ 31.15625 6.109375 34.5625 8.28125 \r\nQ 37.984375 10.453125 37.984375 14.40625 \r\nQ 37.984375 18.0625 35.515625 20.015625 \r\nQ 33.0625 21.96875 24.703125 23.78125 \r\nL 21.578125 24.515625 \r\nQ 13.234375 26.265625 9.515625 29.90625 \r\nQ 5.8125 33.546875 5.8125 39.890625 \r\nQ 5.8125 47.609375 11.28125 51.796875 \r\nQ 16.75 56 26.8125 56 \r\nQ 31.78125 56 36.171875 55.265625 \r\nQ 40.578125 54.546875 44.28125 53.078125 \r\nz\r\n\" id=\"DejaVuSans-115\"/>\r\n       <path d=\"M 9.8125 72.90625 \r\nL 55.90625 72.90625 \r\nL 55.90625 64.59375 \r\nL 19.671875 64.59375 \r\nL 19.671875 43.015625 \r\nL 54.390625 43.015625 \r\nL 54.390625 34.71875 \r\nL 19.671875 34.71875 \r\nL 19.671875 8.296875 \r\nL 56.78125 8.296875 \r\nL 56.78125 0 \r\nL 9.8125 0 \r\nz\r\n\" id=\"DejaVuSans-69\"/>\r\n       <path d=\"M 45.40625 27.984375 \r\nQ 45.40625 37.75 41.375 43.109375 \r\nQ 37.359375 48.484375 30.078125 48.484375 \r\nQ 22.859375 48.484375 18.828125 43.109375 \r\nQ 14.796875 37.75 14.796875 27.984375 \r\nQ 14.796875 18.265625 18.828125 12.890625 \r\nQ 22.859375 7.515625 30.078125 7.515625 \r\nQ 37.359375 7.515625 41.375 12.890625 \r\nQ 45.40625 18.265625 45.40625 27.984375 \r\nz\r\nM 54.390625 6.78125 \r\nQ 54.390625 -7.171875 48.1875 -13.984375 \r\nQ 42 -20.796875 29.203125 -20.796875 \r\nQ 24.46875 -20.796875 20.265625 -20.09375 \r\nQ 16.0625 -19.390625 12.109375 -17.921875 \r\nL 12.109375 -9.1875 \r\nQ 16.0625 -11.328125 19.921875 -12.34375 \r\nQ 23.78125 -13.375 27.78125 -13.375 \r\nQ 36.625 -13.375 41.015625 -8.765625 \r\nQ 45.40625 -4.15625 45.40625 5.171875 \r\nL 45.40625 9.625 \r\nQ 42.625 4.78125 38.28125 2.390625 \r\nQ 33.9375 0 27.875 0 \r\nQ 17.828125 0 11.671875 7.65625 \r\nQ 5.515625 15.328125 5.515625 27.984375 \r\nQ 5.515625 40.671875 11.671875 48.328125 \r\nQ 17.828125 56 27.875 56 \r\nQ 33.9375 56 38.28125 53.609375 \r\nQ 42.625 51.21875 45.40625 46.390625 \r\nL 45.40625 54.6875 \r\nL 54.390625 54.6875 \r\nz\r\n\" id=\"DejaVuSans-103\"/>\r\n       <path d=\"M 11.71875 12.40625 \r\nL 22.015625 12.40625 \r\nL 22.015625 4 \r\nL 14.015625 -11.625 \r\nL 7.71875 -11.625 \r\nL 11.71875 4 \r\nz\r\n\" id=\"DejaVuSans-44\"/>\r\n       <path d=\"M 33.015625 40.375 \r\nQ 26.375 40.375 22.484375 35.828125 \r\nQ 18.609375 31.296875 18.609375 23.390625 \r\nQ 18.609375 15.53125 22.484375 10.953125 \r\nQ 26.375 6.390625 33.015625 6.390625 \r\nQ 39.65625 6.390625 43.53125 10.953125 \r\nQ 47.40625 15.53125 47.40625 23.390625 \r\nQ 47.40625 31.296875 43.53125 35.828125 \r\nQ 39.65625 40.375 33.015625 40.375 \r\nz\r\nM 52.59375 71.296875 \r\nL 52.59375 62.3125 \r\nQ 48.875 64.0625 45.09375 64.984375 \r\nQ 41.3125 65.921875 37.59375 65.921875 \r\nQ 27.828125 65.921875 22.671875 59.328125 \r\nQ 17.53125 52.734375 16.796875 39.40625 \r\nQ 19.671875 43.65625 24.015625 45.921875 \r\nQ 28.375 48.1875 33.59375 48.1875 \r\nQ 44.578125 48.1875 50.953125 41.515625 \r\nQ 57.328125 34.859375 57.328125 23.390625 \r\nQ 57.328125 12.15625 50.6875 5.359375 \r\nQ 44.046875 -1.421875 33.015625 -1.421875 \r\nQ 20.359375 -1.421875 13.671875 8.265625 \r\nQ 6.984375 17.96875 6.984375 36.375 \r\nQ 6.984375 53.65625 15.1875 63.9375 \r\nQ 23.390625 74.21875 37.203125 74.21875 \r\nQ 40.921875 74.21875 44.703125 73.484375 \r\nQ 48.484375 72.75 52.59375 71.296875 \r\nz\r\n\" id=\"DejaVuSans-54\"/>\r\n      </defs>\r\n      <g transform=\"translate(7.2 66.887344)scale(0.1 -0.1)\">\r\n       <use xlink:href=\"#DejaVuSans-102\"/>\r\n       <use x=\"35.205078\" xlink:href=\"#DejaVuSans-66\"/>\r\n       <use x=\"103.808594\" xlink:href=\"#DejaVuSans-111\"/>\r\n       <use x=\"164.990234\" xlink:href=\"#DejaVuSans-100\"/>\r\n       <use x=\"228.466797\" xlink:href=\"#DejaVuSans-121\"/>\r\n       <use x=\"287.646484\" xlink:href=\"#DejaVuSans-65\"/>\r\n       <use x=\"354.304688\" xlink:href=\"#DejaVuSans-99\"/>\r\n       <use x=\"409.285156\" xlink:href=\"#DejaVuSans-99\"/>\r\n       <use x=\"464.265625\" xlink:href=\"#DejaVuSans-74\"/>\r\n       <use x=\"493.757812\" xlink:href=\"#DejaVuSans-101\"/>\r\n       <use x=\"555.28125\" xlink:href=\"#DejaVuSans-114\"/>\r\n       <use x=\"596.394531\" xlink:href=\"#DejaVuSans-107\"/>\r\n       <use x=\"654.304688\" xlink:href=\"#DejaVuSans-45\"/>\r\n       <use x=\"690.388672\" xlink:href=\"#DejaVuSans-98\"/>\r\n       <use x=\"753.865234\" xlink:href=\"#DejaVuSans-97\"/>\r\n       <use x=\"815.144531\" xlink:href=\"#DejaVuSans-110\"/>\r\n       <use x=\"878.523438\" xlink:href=\"#DejaVuSans-100\"/>\r\n       <use x=\"942\" xlink:href=\"#DejaVuSans-115\"/>\r\n       <use x=\"994.099609\" xlink:href=\"#DejaVuSans-69\"/>\r\n       <use x=\"1057.283203\" xlink:href=\"#DejaVuSans-110\"/>\r\n       <use x=\"1120.662109\" xlink:href=\"#DejaVuSans-101\"/>\r\n       <use x=\"1182.185547\" xlink:href=\"#DejaVuSans-114\"/>\r\n       <use x=\"1221.548828\" xlink:href=\"#DejaVuSans-103\"/>\r\n       <use x=\"1285.025391\" xlink:href=\"#DejaVuSans-121\"/>\r\n       <use x=\"1344.205078\" xlink:href=\"#DejaVuSans-40\"/>\r\n       <use x=\"1383.21875\" xlink:href=\"#DejaVuSans-41\"/>\r\n       <use x=\"1422.232422\" xlink:href=\"#DejaVuSans-45\"/>\r\n       <use x=\"1458.316406\" xlink:href=\"#DejaVuSans-49\"/>\r\n       <use x=\"1521.939453\" xlink:href=\"#DejaVuSans-44\"/>\r\n       <use x=\"1553.726562\" xlink:href=\"#DejaVuSans-49\"/>\r\n       <use x=\"1617.349609\" xlink:href=\"#DejaVuSans-54\"/>\r\n      </g>\r\n     </g>\r\n    </g>\r\n    <g id=\"ytick_3\">\r\n     <g id=\"line2d_9\">\r\n      <g>\r\n       <use style=\"stroke:#000000;stroke-width:0.8;\" x=\"182.303125\" xlink:href=\"#m50468946f4\" y=\"90.268125\"/>\r\n      </g>\r\n     </g>\r\n     <g id=\"text_9\">\r\n      <!-- angle(Y,gravityMean) -->\r\n      <defs>\r\n       <path d=\"M 9.421875 75.984375 \r\nL 18.40625 75.984375 \r\nL 18.40625 0 \r\nL 9.421875 0 \r\nz\r\n\" id=\"DejaVuSans-108\"/>\r\n       <path d=\"M -0.203125 72.90625 \r\nL 10.40625 72.90625 \r\nL 30.609375 42.921875 \r\nL 50.6875 72.90625 \r\nL 61.28125 72.90625 \r\nL 35.5 34.71875 \r\nL 35.5 0 \r\nL 25.59375 0 \r\nL 25.59375 34.71875 \r\nz\r\n\" id=\"DejaVuSans-89\"/>\r\n       <path d=\"M 9.8125 72.90625 \r\nL 24.515625 72.90625 \r\nL 43.109375 23.296875 \r\nL 61.8125 72.90625 \r\nL 76.515625 72.90625 \r\nL 76.515625 0 \r\nL 66.890625 0 \r\nL 66.890625 64.015625 \r\nL 48.09375 14.015625 \r\nL 38.1875 14.015625 \r\nL 19.390625 64.015625 \r\nL 19.390625 0 \r\nL 9.8125 0 \r\nz\r\n\" id=\"DejaVuSans-77\"/>\r\n      </defs>\r\n      <g transform=\"translate(68.098438 94.067344)scale(0.1 -0.1)\">\r\n       <use xlink:href=\"#DejaVuSans-97\"/>\r\n       <use x=\"61.279297\" xlink:href=\"#DejaVuSans-110\"/>\r\n       <use x=\"124.658203\" xlink:href=\"#DejaVuSans-103\"/>\r\n       <use x=\"188.134766\" xlink:href=\"#DejaVuSans-108\"/>\r\n       <use x=\"215.917969\" xlink:href=\"#DejaVuSans-101\"/>\r\n       <use x=\"277.441406\" xlink:href=\"#DejaVuSans-40\"/>\r\n       <use x=\"316.455078\" xlink:href=\"#DejaVuSans-89\"/>\r\n       <use x=\"377.539062\" xlink:href=\"#DejaVuSans-44\"/>\r\n       <use x=\"409.326172\" xlink:href=\"#DejaVuSans-103\"/>\r\n       <use x=\"472.802734\" xlink:href=\"#DejaVuSans-114\"/>\r\n       <use x=\"513.916016\" xlink:href=\"#DejaVuSans-97\"/>\r\n       <use x=\"575.195312\" xlink:href=\"#DejaVuSans-118\"/>\r\n       <use x=\"634.375\" xlink:href=\"#DejaVuSans-105\"/>\r\n       <use x=\"662.158203\" xlink:href=\"#DejaVuSans-116\"/>\r\n       <use x=\"701.367188\" xlink:href=\"#DejaVuSans-121\"/>\r\n       <use x=\"760.546875\" xlink:href=\"#DejaVuSans-77\"/>\r\n       <use x=\"846.826172\" xlink:href=\"#DejaVuSans-101\"/>\r\n       <use x=\"908.349609\" xlink:href=\"#DejaVuSans-97\"/>\r\n       <use x=\"969.628906\" xlink:href=\"#DejaVuSans-110\"/>\r\n       <use x=\"1033.007812\" xlink:href=\"#DejaVuSans-41\"/>\r\n      </g>\r\n     </g>\r\n    </g>\r\n    <g id=\"ytick_4\">\r\n     <g id=\"line2d_10\">\r\n      <g>\r\n       <use style=\"stroke:#000000;stroke-width:0.8;\" x=\"182.303125\" xlink:href=\"#m50468946f4\" y=\"117.448125\"/>\r\n      </g>\r\n     </g>\r\n     <g id=\"text_10\">\r\n      <!-- fBodyAccMag-energy() -->\r\n      <g transform=\"translate(61.510938 121.247344)scale(0.1 -0.1)\">\r\n       <use xlink:href=\"#DejaVuSans-102\"/>\r\n       <use x=\"35.205078\" xlink:href=\"#DejaVuSans-66\"/>\r\n       <use x=\"103.808594\" xlink:href=\"#DejaVuSans-111\"/>\r\n       <use x=\"164.990234\" xlink:href=\"#DejaVuSans-100\"/>\r\n       <use x=\"228.466797\" xlink:href=\"#DejaVuSans-121\"/>\r\n       <use x=\"287.646484\" xlink:href=\"#DejaVuSans-65\"/>\r\n       <use x=\"354.304688\" xlink:href=\"#DejaVuSans-99\"/>\r\n       <use x=\"409.285156\" xlink:href=\"#DejaVuSans-99\"/>\r\n       <use x=\"464.265625\" xlink:href=\"#DejaVuSans-77\"/>\r\n       <use x=\"550.544922\" xlink:href=\"#DejaVuSans-97\"/>\r\n       <use x=\"611.824219\" xlink:href=\"#DejaVuSans-103\"/>\r\n       <use x=\"675.300781\" xlink:href=\"#DejaVuSans-45\"/>\r\n       <use x=\"711.384766\" xlink:href=\"#DejaVuSans-101\"/>\r\n       <use x=\"772.908203\" xlink:href=\"#DejaVuSans-110\"/>\r\n       <use x=\"836.287109\" xlink:href=\"#DejaVuSans-101\"/>\r\n       <use x=\"897.810547\" xlink:href=\"#DejaVuSans-114\"/>\r\n       <use x=\"937.173828\" xlink:href=\"#DejaVuSans-103\"/>\r\n       <use x=\"1000.650391\" xlink:href=\"#DejaVuSans-121\"/>\r\n       <use x=\"1059.830078\" xlink:href=\"#DejaVuSans-40\"/>\r\n       <use x=\"1098.84375\" xlink:href=\"#DejaVuSans-41\"/>\r\n      </g>\r\n     </g>\r\n    </g>\r\n    <g id=\"ytick_5\">\r\n     <g id=\"line2d_11\">\r\n      <g>\r\n       <use style=\"stroke:#000000;stroke-width:0.8;\" x=\"182.303125\" xlink:href=\"#m50468946f4\" y=\"144.628125\"/>\r\n      </g>\r\n     </g>\r\n     <g id=\"text_11\">\r\n      <!-- tGravityAcc-arCoeff()-Z,2 -->\r\n      <defs>\r\n       <path d=\"M 64.40625 67.28125 \r\nL 64.40625 56.890625 \r\nQ 59.421875 61.53125 53.78125 63.8125 \r\nQ 48.140625 66.109375 41.796875 66.109375 \r\nQ 29.296875 66.109375 22.65625 58.46875 \r\nQ 16.015625 50.828125 16.015625 36.375 \r\nQ 16.015625 21.96875 22.65625 14.328125 \r\nQ 29.296875 6.6875 41.796875 6.6875 \r\nQ 48.140625 6.6875 53.78125 8.984375 \r\nQ 59.421875 11.28125 64.40625 15.921875 \r\nL 64.40625 5.609375 \r\nQ 59.234375 2.09375 53.4375 0.328125 \r\nQ 47.65625 -1.421875 41.21875 -1.421875 \r\nQ 24.65625 -1.421875 15.125 8.703125 \r\nQ 5.609375 18.84375 5.609375 36.375 \r\nQ 5.609375 53.953125 15.125 64.078125 \r\nQ 24.65625 74.21875 41.21875 74.21875 \r\nQ 47.75 74.21875 53.53125 72.484375 \r\nQ 59.328125 70.75 64.40625 67.28125 \r\nz\r\n\" id=\"DejaVuSans-67\"/>\r\n       <path d=\"M 5.609375 72.90625 \r\nL 62.890625 72.90625 \r\nL 62.890625 65.375 \r\nL 16.796875 8.296875 \r\nL 64.015625 8.296875 \r\nL 64.015625 0 \r\nL 4.5 0 \r\nL 4.5 7.515625 \r\nL 50.59375 64.59375 \r\nL 5.609375 64.59375 \r\nz\r\n\" id=\"DejaVuSans-90\"/>\r\n      </defs>\r\n      <g transform=\"translate(49.253125 148.427344)scale(0.1 -0.1)\">\r\n       <use xlink:href=\"#DejaVuSans-116\"/>\r\n       <use x=\"39.208984\" xlink:href=\"#DejaVuSans-71\"/>\r\n       <use x=\"116.699219\" xlink:href=\"#DejaVuSans-114\"/>\r\n       <use x=\"157.8125\" xlink:href=\"#DejaVuSans-97\"/>\r\n       <use x=\"219.091797\" xlink:href=\"#DejaVuSans-118\"/>\r\n       <use x=\"278.271484\" xlink:href=\"#DejaVuSans-105\"/>\r\n       <use x=\"306.054688\" xlink:href=\"#DejaVuSans-116\"/>\r\n       <use x=\"345.263672\" xlink:href=\"#DejaVuSans-121\"/>\r\n       <use x=\"404.443359\" xlink:href=\"#DejaVuSans-65\"/>\r\n       <use x=\"471.101562\" xlink:href=\"#DejaVuSans-99\"/>\r\n       <use x=\"526.082031\" xlink:href=\"#DejaVuSans-99\"/>\r\n       <use x=\"581.0625\" xlink:href=\"#DejaVuSans-45\"/>\r\n       <use x=\"617.146484\" xlink:href=\"#DejaVuSans-97\"/>\r\n       <use x=\"678.425781\" xlink:href=\"#DejaVuSans-114\"/>\r\n       <use x=\"719.539062\" xlink:href=\"#DejaVuSans-67\"/>\r\n       <use x=\"789.363281\" xlink:href=\"#DejaVuSans-111\"/>\r\n       <use x=\"850.544922\" xlink:href=\"#DejaVuSans-101\"/>\r\n       <use x=\"912.068359\" xlink:href=\"#DejaVuSans-102\"/>\r\n       <use x=\"947.273438\" xlink:href=\"#DejaVuSans-102\"/>\r\n       <use x=\"982.478516\" xlink:href=\"#DejaVuSans-40\"/>\r\n       <use x=\"1021.492188\" xlink:href=\"#DejaVuSans-41\"/>\r\n       <use x=\"1060.505859\" xlink:href=\"#DejaVuSans-45\"/>\r\n       <use x=\"1096.589844\" xlink:href=\"#DejaVuSans-90\"/>\r\n       <use x=\"1165.095703\" xlink:href=\"#DejaVuSans-44\"/>\r\n       <use x=\"1196.882812\" xlink:href=\"#DejaVuSans-50\"/>\r\n      </g>\r\n     </g>\r\n    </g>\r\n    <g id=\"ytick_6\">\r\n     <g id=\"line2d_12\">\r\n      <g>\r\n       <use style=\"stroke:#000000;stroke-width:0.8;\" x=\"182.303125\" xlink:href=\"#m50468946f4\" y=\"171.808125\"/>\r\n      </g>\r\n     </g>\r\n     <g id=\"text_12\">\r\n      <!-- fBodyGyro-maxInds-X -->\r\n      <defs>\r\n       <path d=\"M 54.890625 54.6875 \r\nL 35.109375 28.078125 \r\nL 55.90625 0 \r\nL 45.3125 0 \r\nL 29.390625 21.484375 \r\nL 13.484375 0 \r\nL 2.875 0 \r\nL 24.125 28.609375 \r\nL 4.6875 54.6875 \r\nL 15.28125 54.6875 \r\nL 29.78125 35.203125 \r\nL 44.28125 54.6875 \r\nz\r\n\" id=\"DejaVuSans-120\"/>\r\n       <path d=\"M 9.8125 72.90625 \r\nL 19.671875 72.90625 \r\nL 19.671875 0 \r\nL 9.8125 0 \r\nz\r\n\" id=\"DejaVuSans-73\"/>\r\n      </defs>\r\n      <g transform=\"translate(66.478125 175.607344)scale(0.1 -0.1)\">\r\n       <use xlink:href=\"#DejaVuSans-102\"/>\r\n       <use x=\"35.205078\" xlink:href=\"#DejaVuSans-66\"/>\r\n       <use x=\"103.808594\" xlink:href=\"#DejaVuSans-111\"/>\r\n       <use x=\"164.990234\" xlink:href=\"#DejaVuSans-100\"/>\r\n       <use x=\"228.466797\" xlink:href=\"#DejaVuSans-121\"/>\r\n       <use x=\"287.646484\" xlink:href=\"#DejaVuSans-71\"/>\r\n       <use x=\"365.136719\" xlink:href=\"#DejaVuSans-121\"/>\r\n       <use x=\"424.316406\" xlink:href=\"#DejaVuSans-114\"/>\r\n       <use x=\"463.179688\" xlink:href=\"#DejaVuSans-111\"/>\r\n       <use x=\"526.236328\" xlink:href=\"#DejaVuSans-45\"/>\r\n       <use x=\"562.320312\" xlink:href=\"#DejaVuSans-109\"/>\r\n       <use x=\"659.732422\" xlink:href=\"#DejaVuSans-97\"/>\r\n       <use x=\"721.011719\" xlink:href=\"#DejaVuSans-120\"/>\r\n       <use x=\"780.191406\" xlink:href=\"#DejaVuSans-73\"/>\r\n       <use x=\"809.683594\" xlink:href=\"#DejaVuSans-110\"/>\r\n       <use x=\"873.0625\" xlink:href=\"#DejaVuSans-100\"/>\r\n       <use x=\"936.539062\" xlink:href=\"#DejaVuSans-115\"/>\r\n       <use x=\"988.638672\" xlink:href=\"#DejaVuSans-45\"/>\r\n       <use x=\"1019.722656\" xlink:href=\"#DejaVuSans-88\"/>\r\n      </g>\r\n     </g>\r\n    </g>\r\n    <g id=\"ytick_7\">\r\n     <g id=\"line2d_13\">\r\n      <g>\r\n       <use style=\"stroke:#000000;stroke-width:0.8;\" x=\"182.303125\" xlink:href=\"#m50468946f4\" y=\"198.988125\"/>\r\n      </g>\r\n     </g>\r\n     <g id=\"text_13\">\r\n      <!-- tGravityAcc-energy()-Y -->\r\n      <g transform=\"translate(62.410938 202.787344)scale(0.1 -0.1)\">\r\n       <use xlink:href=\"#DejaVuSans-116\"/>\r\n       <use x=\"39.208984\" xlink:href=\"#DejaVuSans-71\"/>\r\n       <use x=\"116.699219\" xlink:href=\"#DejaVuSans-114\"/>\r\n       <use x=\"157.8125\" xlink:href=\"#DejaVuSans-97\"/>\r\n       <use x=\"219.091797\" xlink:href=\"#DejaVuSans-118\"/>\r\n       <use x=\"278.271484\" xlink:href=\"#DejaVuSans-105\"/>\r\n       <use x=\"306.054688\" xlink:href=\"#DejaVuSans-116\"/>\r\n       <use x=\"345.263672\" xlink:href=\"#DejaVuSans-121\"/>\r\n       <use x=\"404.443359\" xlink:href=\"#DejaVuSans-65\"/>\r\n       <use x=\"471.101562\" xlink:href=\"#DejaVuSans-99\"/>\r\n       <use x=\"526.082031\" xlink:href=\"#DejaVuSans-99\"/>\r\n       <use x=\"581.0625\" xlink:href=\"#DejaVuSans-45\"/>\r\n       <use x=\"617.146484\" xlink:href=\"#DejaVuSans-101\"/>\r\n       <use x=\"678.669922\" xlink:href=\"#DejaVuSans-110\"/>\r\n       <use x=\"742.048828\" xlink:href=\"#DejaVuSans-101\"/>\r\n       <use x=\"803.572266\" xlink:href=\"#DejaVuSans-114\"/>\r\n       <use x=\"842.935547\" xlink:href=\"#DejaVuSans-103\"/>\r\n       <use x=\"906.412109\" xlink:href=\"#DejaVuSans-121\"/>\r\n       <use x=\"965.591797\" xlink:href=\"#DejaVuSans-40\"/>\r\n       <use x=\"1004.605469\" xlink:href=\"#DejaVuSans-41\"/>\r\n       <use x=\"1043.619141\" xlink:href=\"#DejaVuSans-45\"/>\r\n       <use x=\"1067.828125\" xlink:href=\"#DejaVuSans-89\"/>\r\n      </g>\r\n     </g>\r\n    </g>\r\n    <g id=\"ytick_8\">\r\n     <g id=\"line2d_14\">\r\n      <g>\r\n       <use style=\"stroke:#000000;stroke-width:0.8;\" x=\"182.303125\" xlink:href=\"#m50468946f4\" y=\"226.168125\"/>\r\n      </g>\r\n     </g>\r\n     <g id=\"text_14\">\r\n      <!-- tBodyGyro-correlation()-Y,Z -->\r\n      <g transform=\"translate(38.65625 229.967344)scale(0.1 -0.1)\">\r\n       <use xlink:href=\"#DejaVuSans-116\"/>\r\n       <use x=\"39.208984\" xlink:href=\"#DejaVuSans-66\"/>\r\n       <use x=\"107.8125\" xlink:href=\"#DejaVuSans-111\"/>\r\n       <use x=\"168.994141\" xlink:href=\"#DejaVuSans-100\"/>\r\n       <use x=\"232.470703\" xlink:href=\"#DejaVuSans-121\"/>\r\n       <use x=\"291.650391\" xlink:href=\"#DejaVuSans-71\"/>\r\n       <use x=\"369.140625\" xlink:href=\"#DejaVuSans-121\"/>\r\n       <use x=\"428.320312\" xlink:href=\"#DejaVuSans-114\"/>\r\n       <use x=\"467.183594\" xlink:href=\"#DejaVuSans-111\"/>\r\n       <use x=\"530.240234\" xlink:href=\"#DejaVuSans-45\"/>\r\n       <use x=\"566.324219\" xlink:href=\"#DejaVuSans-99\"/>\r\n       <use x=\"621.304688\" xlink:href=\"#DejaVuSans-111\"/>\r\n       <use x=\"682.486328\" xlink:href=\"#DejaVuSans-114\"/>\r\n       <use x=\"721.849609\" xlink:href=\"#DejaVuSans-114\"/>\r\n       <use x=\"760.712891\" xlink:href=\"#DejaVuSans-101\"/>\r\n       <use x=\"822.236328\" xlink:href=\"#DejaVuSans-108\"/>\r\n       <use x=\"850.019531\" xlink:href=\"#DejaVuSans-97\"/>\r\n       <use x=\"911.298828\" xlink:href=\"#DejaVuSans-116\"/>\r\n       <use x=\"950.507812\" xlink:href=\"#DejaVuSans-105\"/>\r\n       <use x=\"978.291016\" xlink:href=\"#DejaVuSans-111\"/>\r\n       <use x=\"1039.472656\" xlink:href=\"#DejaVuSans-110\"/>\r\n       <use x=\"1102.851562\" xlink:href=\"#DejaVuSans-40\"/>\r\n       <use x=\"1141.865234\" xlink:href=\"#DejaVuSans-41\"/>\r\n       <use x=\"1180.878906\" xlink:href=\"#DejaVuSans-45\"/>\r\n       <use x=\"1205.087891\" xlink:href=\"#DejaVuSans-89\"/>\r\n       <use x=\"1266.171875\" xlink:href=\"#DejaVuSans-44\"/>\r\n       <use x=\"1297.958984\" xlink:href=\"#DejaVuSans-90\"/>\r\n      </g>\r\n     </g>\r\n    </g>\r\n    <g id=\"ytick_9\">\r\n     <g id=\"line2d_15\">\r\n      <g>\r\n       <use style=\"stroke:#000000;stroke-width:0.8;\" x=\"182.303125\" xlink:href=\"#m50468946f4\" y=\"253.348125\"/>\r\n      </g>\r\n     </g>\r\n     <g id=\"text_15\">\r\n      <!-- tGravityAccMag-arCoeff()1 -->\r\n      <g transform=\"translate(41.784375 257.147344)scale(0.1 -0.1)\">\r\n       <use xlink:href=\"#DejaVuSans-116\"/>\r\n       <use x=\"39.208984\" xlink:href=\"#DejaVuSans-71\"/>\r\n       <use x=\"116.699219\" xlink:href=\"#DejaVuSans-114\"/>\r\n       <use x=\"157.8125\" xlink:href=\"#DejaVuSans-97\"/>\r\n       <use x=\"219.091797\" xlink:href=\"#DejaVuSans-118\"/>\r\n       <use x=\"278.271484\" xlink:href=\"#DejaVuSans-105\"/>\r\n       <use x=\"306.054688\" xlink:href=\"#DejaVuSans-116\"/>\r\n       <use x=\"345.263672\" xlink:href=\"#DejaVuSans-121\"/>\r\n       <use x=\"404.443359\" xlink:href=\"#DejaVuSans-65\"/>\r\n       <use x=\"471.101562\" xlink:href=\"#DejaVuSans-99\"/>\r\n       <use x=\"526.082031\" xlink:href=\"#DejaVuSans-99\"/>\r\n       <use x=\"581.0625\" xlink:href=\"#DejaVuSans-77\"/>\r\n       <use x=\"667.341797\" xlink:href=\"#DejaVuSans-97\"/>\r\n       <use x=\"728.621094\" xlink:href=\"#DejaVuSans-103\"/>\r\n       <use x=\"792.097656\" xlink:href=\"#DejaVuSans-45\"/>\r\n       <use x=\"828.181641\" xlink:href=\"#DejaVuSans-97\"/>\r\n       <use x=\"889.460938\" xlink:href=\"#DejaVuSans-114\"/>\r\n       <use x=\"930.574219\" xlink:href=\"#DejaVuSans-67\"/>\r\n       <use x=\"1000.398438\" xlink:href=\"#DejaVuSans-111\"/>\r\n       <use x=\"1061.580078\" xlink:href=\"#DejaVuSans-101\"/>\r\n       <use x=\"1123.103516\" xlink:href=\"#DejaVuSans-102\"/>\r\n       <use x=\"1158.308594\" xlink:href=\"#DejaVuSans-102\"/>\r\n       <use x=\"1193.513672\" xlink:href=\"#DejaVuSans-40\"/>\r\n       <use x=\"1232.527344\" xlink:href=\"#DejaVuSans-41\"/>\r\n       <use x=\"1271.541016\" xlink:href=\"#DejaVuSans-49\"/>\r\n      </g>\r\n     </g>\r\n    </g>\r\n    <g id=\"ytick_10\">\r\n     <g id=\"line2d_16\">\r\n      <g>\r\n       <use style=\"stroke:#000000;stroke-width:0.8;\" x=\"182.303125\" xlink:href=\"#m50468946f4\" y=\"280.528125\"/>\r\n      </g>\r\n     </g>\r\n     <g id=\"text_16\">\r\n      <!-- tBodyAcc-correlation()-X,Y -->\r\n      <g transform=\"translate(44.165625 284.327344)scale(0.1 -0.1)\">\r\n       <use xlink:href=\"#DejaVuSans-116\"/>\r\n       <use x=\"39.208984\" xlink:href=\"#DejaVuSans-66\"/>\r\n       <use x=\"107.8125\" xlink:href=\"#DejaVuSans-111\"/>\r\n       <use x=\"168.994141\" xlink:href=\"#DejaVuSans-100\"/>\r\n       <use x=\"232.470703\" xlink:href=\"#DejaVuSans-121\"/>\r\n       <use x=\"291.650391\" xlink:href=\"#DejaVuSans-65\"/>\r\n       <use x=\"358.308594\" xlink:href=\"#DejaVuSans-99\"/>\r\n       <use x=\"413.289062\" xlink:href=\"#DejaVuSans-99\"/>\r\n       <use x=\"468.269531\" xlink:href=\"#DejaVuSans-45\"/>\r\n       <use x=\"504.353516\" xlink:href=\"#DejaVuSans-99\"/>\r\n       <use x=\"559.333984\" xlink:href=\"#DejaVuSans-111\"/>\r\n       <use x=\"620.515625\" xlink:href=\"#DejaVuSans-114\"/>\r\n       <use x=\"659.878906\" xlink:href=\"#DejaVuSans-114\"/>\r\n       <use x=\"698.742188\" xlink:href=\"#DejaVuSans-101\"/>\r\n       <use x=\"760.265625\" xlink:href=\"#DejaVuSans-108\"/>\r\n       <use x=\"788.048828\" xlink:href=\"#DejaVuSans-97\"/>\r\n       <use x=\"849.328125\" xlink:href=\"#DejaVuSans-116\"/>\r\n       <use x=\"888.537109\" xlink:href=\"#DejaVuSans-105\"/>\r\n       <use x=\"916.320312\" xlink:href=\"#DejaVuSans-111\"/>\r\n       <use x=\"977.501953\" xlink:href=\"#DejaVuSans-110\"/>\r\n       <use x=\"1040.880859\" xlink:href=\"#DejaVuSans-40\"/>\r\n       <use x=\"1079.894531\" xlink:href=\"#DejaVuSans-41\"/>\r\n       <use x=\"1118.908203\" xlink:href=\"#DejaVuSans-45\"/>\r\n       <use x=\"1149.992188\" xlink:href=\"#DejaVuSans-88\"/>\r\n       <use x=\"1218.498047\" xlink:href=\"#DejaVuSans-44\"/>\r\n       <use x=\"1250.285156\" xlink:href=\"#DejaVuSans-89\"/>\r\n      </g>\r\n     </g>\r\n    </g>\r\n    <g id=\"ytick_11\">\r\n     <g id=\"line2d_17\">\r\n      <g>\r\n       <use style=\"stroke:#000000;stroke-width:0.8;\" x=\"182.303125\" xlink:href=\"#m50468946f4\" y=\"307.708125\"/>\r\n      </g>\r\n     </g>\r\n     <g id=\"text_17\">\r\n      <!-- fBodyAcc-max()-Y -->\r\n      <g transform=\"translate(87.146875 311.507344)scale(0.1 -0.1)\">\r\n       <use xlink:href=\"#DejaVuSans-102\"/>\r\n       <use x=\"35.205078\" xlink:href=\"#DejaVuSans-66\"/>\r\n       <use x=\"103.808594\" xlink:href=\"#DejaVuSans-111\"/>\r\n       <use x=\"164.990234\" xlink:href=\"#DejaVuSans-100\"/>\r\n       <use x=\"228.466797\" xlink:href=\"#DejaVuSans-121\"/>\r\n       <use x=\"287.646484\" xlink:href=\"#DejaVuSans-65\"/>\r\n       <use x=\"354.304688\" xlink:href=\"#DejaVuSans-99\"/>\r\n       <use x=\"409.285156\" xlink:href=\"#DejaVuSans-99\"/>\r\n       <use x=\"464.265625\" xlink:href=\"#DejaVuSans-45\"/>\r\n       <use x=\"500.349609\" xlink:href=\"#DejaVuSans-109\"/>\r\n       <use x=\"597.761719\" xlink:href=\"#DejaVuSans-97\"/>\r\n       <use x=\"659.041016\" xlink:href=\"#DejaVuSans-120\"/>\r\n       <use x=\"718.220703\" xlink:href=\"#DejaVuSans-40\"/>\r\n       <use x=\"757.234375\" xlink:href=\"#DejaVuSans-41\"/>\r\n       <use x=\"796.248047\" xlink:href=\"#DejaVuSans-45\"/>\r\n       <use x=\"820.457031\" xlink:href=\"#DejaVuSans-89\"/>\r\n      </g>\r\n     </g>\r\n    </g>\r\n    <g id=\"ytick_12\">\r\n     <g id=\"line2d_18\">\r\n      <g>\r\n       <use style=\"stroke:#000000;stroke-width:0.8;\" x=\"182.303125\" xlink:href=\"#m50468946f4\" y=\"334.888125\"/>\r\n      </g>\r\n     </g>\r\n     <g id=\"text_18\">\r\n      <!-- tBodyGyro-max()-X -->\r\n      <g transform=\"translate(79.120313 338.687344)scale(0.1 -0.1)\">\r\n       <use xlink:href=\"#DejaVuSans-116\"/>\r\n       <use x=\"39.208984\" xlink:href=\"#DejaVuSans-66\"/>\r\n       <use x=\"107.8125\" xlink:href=\"#DejaVuSans-111\"/>\r\n       <use x=\"168.994141\" xlink:href=\"#DejaVuSans-100\"/>\r\n       <use x=\"232.470703\" xlink:href=\"#DejaVuSans-121\"/>\r\n       <use x=\"291.650391\" xlink:href=\"#DejaVuSans-71\"/>\r\n       <use x=\"369.140625\" xlink:href=\"#DejaVuSans-121\"/>\r\n       <use x=\"428.320312\" xlink:href=\"#DejaVuSans-114\"/>\r\n       <use x=\"467.183594\" xlink:href=\"#DejaVuSans-111\"/>\r\n       <use x=\"530.240234\" xlink:href=\"#DejaVuSans-45\"/>\r\n       <use x=\"566.324219\" xlink:href=\"#DejaVuSans-109\"/>\r\n       <use x=\"663.736328\" xlink:href=\"#DejaVuSans-97\"/>\r\n       <use x=\"725.015625\" xlink:href=\"#DejaVuSans-120\"/>\r\n       <use x=\"784.195312\" xlink:href=\"#DejaVuSans-40\"/>\r\n       <use x=\"823.208984\" xlink:href=\"#DejaVuSans-41\"/>\r\n       <use x=\"862.222656\" xlink:href=\"#DejaVuSans-45\"/>\r\n       <use x=\"893.306641\" xlink:href=\"#DejaVuSans-88\"/>\r\n      </g>\r\n     </g>\r\n    </g>\r\n    <g id=\"ytick_13\">\r\n     <g id=\"line2d_19\">\r\n      <g>\r\n       <use style=\"stroke:#000000;stroke-width:0.8;\" x=\"182.303125\" xlink:href=\"#m50468946f4\" y=\"362.068125\"/>\r\n      </g>\r\n     </g>\r\n     <g id=\"text_19\">\r\n      <!-- tGravityAcc-max()-Y -->\r\n      <g transform=\"translate(75.470313 365.867344)scale(0.1 -0.1)\">\r\n       <use xlink:href=\"#DejaVuSans-116\"/>\r\n       <use x=\"39.208984\" xlink:href=\"#DejaVuSans-71\"/>\r\n       <use x=\"116.699219\" xlink:href=\"#DejaVuSans-114\"/>\r\n       <use x=\"157.8125\" xlink:href=\"#DejaVuSans-97\"/>\r\n       <use x=\"219.091797\" xlink:href=\"#DejaVuSans-118\"/>\r\n       <use x=\"278.271484\" xlink:href=\"#DejaVuSans-105\"/>\r\n       <use x=\"306.054688\" xlink:href=\"#DejaVuSans-116\"/>\r\n       <use x=\"345.263672\" xlink:href=\"#DejaVuSans-121\"/>\r\n       <use x=\"404.443359\" xlink:href=\"#DejaVuSans-65\"/>\r\n       <use x=\"471.101562\" xlink:href=\"#DejaVuSans-99\"/>\r\n       <use x=\"526.082031\" xlink:href=\"#DejaVuSans-99\"/>\r\n       <use x=\"581.0625\" xlink:href=\"#DejaVuSans-45\"/>\r\n       <use x=\"617.146484\" xlink:href=\"#DejaVuSans-109\"/>\r\n       <use x=\"714.558594\" xlink:href=\"#DejaVuSans-97\"/>\r\n       <use x=\"775.837891\" xlink:href=\"#DejaVuSans-120\"/>\r\n       <use x=\"835.017578\" xlink:href=\"#DejaVuSans-40\"/>\r\n       <use x=\"874.03125\" xlink:href=\"#DejaVuSans-41\"/>\r\n       <use x=\"913.044922\" xlink:href=\"#DejaVuSans-45\"/>\r\n       <use x=\"937.253906\" xlink:href=\"#DejaVuSans-89\"/>\r\n      </g>\r\n     </g>\r\n    </g>\r\n    <g id=\"ytick_14\">\r\n     <g id=\"line2d_20\">\r\n      <g>\r\n       <use style=\"stroke:#000000;stroke-width:0.8;\" x=\"182.303125\" xlink:href=\"#m50468946f4\" y=\"389.248125\"/>\r\n      </g>\r\n     </g>\r\n     <g id=\"text_20\">\r\n      <!-- fBodyGyro-max()-X -->\r\n      <g transform=\"translate(79.520313 393.047344)scale(0.1 -0.1)\">\r\n       <use xlink:href=\"#DejaVuSans-102\"/>\r\n       <use x=\"35.205078\" xlink:href=\"#DejaVuSans-66\"/>\r\n       <use x=\"103.808594\" xlink:href=\"#DejaVuSans-111\"/>\r\n       <use x=\"164.990234\" xlink:href=\"#DejaVuSans-100\"/>\r\n       <use x=\"228.466797\" xlink:href=\"#DejaVuSans-121\"/>\r\n       <use x=\"287.646484\" xlink:href=\"#DejaVuSans-71\"/>\r\n       <use x=\"365.136719\" xlink:href=\"#DejaVuSans-121\"/>\r\n       <use x=\"424.316406\" xlink:href=\"#DejaVuSans-114\"/>\r\n       <use x=\"463.179688\" xlink:href=\"#DejaVuSans-111\"/>\r\n       <use x=\"526.236328\" xlink:href=\"#DejaVuSans-45\"/>\r\n       <use x=\"562.320312\" xlink:href=\"#DejaVuSans-109\"/>\r\n       <use x=\"659.732422\" xlink:href=\"#DejaVuSans-97\"/>\r\n       <use x=\"721.011719\" xlink:href=\"#DejaVuSans-120\"/>\r\n       <use x=\"780.191406\" xlink:href=\"#DejaVuSans-40\"/>\r\n       <use x=\"819.205078\" xlink:href=\"#DejaVuSans-41\"/>\r\n       <use x=\"858.21875\" xlink:href=\"#DejaVuSans-45\"/>\r\n       <use x=\"889.302734\" xlink:href=\"#DejaVuSans-88\"/>\r\n      </g>\r\n     </g>\r\n    </g>\r\n    <g id=\"ytick_15\">\r\n     <g id=\"line2d_21\">\r\n      <g>\r\n       <use style=\"stroke:#000000;stroke-width:0.8;\" x=\"182.303125\" xlink:href=\"#m50468946f4\" y=\"416.428125\"/>\r\n      </g>\r\n     </g>\r\n     <g id=\"text_21\">\r\n      <!-- tBodyGyro-min()-X -->\r\n      <g transform=\"translate(82.051563 420.227344)scale(0.1 -0.1)\">\r\n       <use xlink:href=\"#DejaVuSans-116\"/>\r\n       <use x=\"39.208984\" xlink:href=\"#DejaVuSans-66\"/>\r\n       <use x=\"107.8125\" xlink:href=\"#DejaVuSans-111\"/>\r\n       <use x=\"168.994141\" xlink:href=\"#DejaVuSans-100\"/>\r\n       <use x=\"232.470703\" xlink:href=\"#DejaVuSans-121\"/>\r\n       <use x=\"291.650391\" xlink:href=\"#DejaVuSans-71\"/>\r\n       <use x=\"369.140625\" xlink:href=\"#DejaVuSans-121\"/>\r\n       <use x=\"428.320312\" xlink:href=\"#DejaVuSans-114\"/>\r\n       <use x=\"467.183594\" xlink:href=\"#DejaVuSans-111\"/>\r\n       <use x=\"530.240234\" xlink:href=\"#DejaVuSans-45\"/>\r\n       <use x=\"566.324219\" xlink:href=\"#DejaVuSans-109\"/>\r\n       <use x=\"663.736328\" xlink:href=\"#DejaVuSans-105\"/>\r\n       <use x=\"691.519531\" xlink:href=\"#DejaVuSans-110\"/>\r\n       <use x=\"754.898438\" xlink:href=\"#DejaVuSans-40\"/>\r\n       <use x=\"793.912109\" xlink:href=\"#DejaVuSans-41\"/>\r\n       <use x=\"832.925781\" xlink:href=\"#DejaVuSans-45\"/>\r\n       <use x=\"864.009766\" xlink:href=\"#DejaVuSans-88\"/>\r\n      </g>\r\n     </g>\r\n    </g>\r\n    <g id=\"ytick_16\">\r\n     <g id=\"line2d_22\">\r\n      <g>\r\n       <use style=\"stroke:#000000;stroke-width:0.8;\" x=\"182.303125\" xlink:href=\"#m50468946f4\" y=\"443.608125\"/>\r\n      </g>\r\n     </g>\r\n     <g id=\"text_22\">\r\n      <!-- tBodyAccJerk-correlation()-X,Y -->\r\n      <g transform=\"translate(25.160938 447.407344)scale(0.1 -0.1)\">\r\n       <use xlink:href=\"#DejaVuSans-116\"/>\r\n       <use x=\"39.208984\" xlink:href=\"#DejaVuSans-66\"/>\r\n       <use x=\"107.8125\" xlink:href=\"#DejaVuSans-111\"/>\r\n       <use x=\"168.994141\" xlink:href=\"#DejaVuSans-100\"/>\r\n       <use x=\"232.470703\" xlink:href=\"#DejaVuSans-121\"/>\r\n       <use x=\"291.650391\" xlink:href=\"#DejaVuSans-65\"/>\r\n       <use x=\"358.308594\" xlink:href=\"#DejaVuSans-99\"/>\r\n       <use x=\"413.289062\" xlink:href=\"#DejaVuSans-99\"/>\r\n       <use x=\"468.269531\" xlink:href=\"#DejaVuSans-74\"/>\r\n       <use x=\"497.761719\" xlink:href=\"#DejaVuSans-101\"/>\r\n       <use x=\"559.285156\" xlink:href=\"#DejaVuSans-114\"/>\r\n       <use x=\"600.398438\" xlink:href=\"#DejaVuSans-107\"/>\r\n       <use x=\"658.308594\" xlink:href=\"#DejaVuSans-45\"/>\r\n       <use x=\"694.392578\" xlink:href=\"#DejaVuSans-99\"/>\r\n       <use x=\"749.373047\" xlink:href=\"#DejaVuSans-111\"/>\r\n       <use x=\"810.554688\" xlink:href=\"#DejaVuSans-114\"/>\r\n       <use x=\"849.917969\" xlink:href=\"#DejaVuSans-114\"/>\r\n       <use x=\"888.78125\" xlink:href=\"#DejaVuSans-101\"/>\r\n       <use x=\"950.304688\" xlink:href=\"#DejaVuSans-108\"/>\r\n       <use x=\"978.087891\" xlink:href=\"#DejaVuSans-97\"/>\r\n       <use x=\"1039.367188\" xlink:href=\"#DejaVuSans-116\"/>\r\n       <use x=\"1078.576172\" xlink:href=\"#DejaVuSans-105\"/>\r\n       <use x=\"1106.359375\" xlink:href=\"#DejaVuSans-111\"/>\r\n       <use x=\"1167.541016\" xlink:href=\"#DejaVuSans-110\"/>\r\n       <use x=\"1230.919922\" xlink:href=\"#DejaVuSans-40\"/>\r\n       <use x=\"1269.933594\" xlink:href=\"#DejaVuSans-41\"/>\r\n       <use x=\"1308.947266\" xlink:href=\"#DejaVuSans-45\"/>\r\n       <use x=\"1340.03125\" xlink:href=\"#DejaVuSans-88\"/>\r\n       <use x=\"1408.537109\" xlink:href=\"#DejaVuSans-44\"/>\r\n       <use x=\"1440.324219\" xlink:href=\"#DejaVuSans-89\"/>\r\n      </g>\r\n     </g>\r\n    </g>\r\n    <g id=\"ytick_17\">\r\n     <g id=\"line2d_23\">\r\n      <g>\r\n       <use style=\"stroke:#000000;stroke-width:0.8;\" x=\"182.303125\" xlink:href=\"#m50468946f4\" y=\"470.788125\"/>\r\n      </g>\r\n     </g>\r\n     <g id=\"text_23\">\r\n      <!-- tBodyGyroJerk-max()-X -->\r\n      <g transform=\"translate(60.303125 474.587344)scale(0.1 -0.1)\">\r\n       <use xlink:href=\"#DejaVuSans-116\"/>\r\n       <use x=\"39.208984\" xlink:href=\"#DejaVuSans-66\"/>\r\n       <use x=\"107.8125\" xlink:href=\"#DejaVuSans-111\"/>\r\n       <use x=\"168.994141\" xlink:href=\"#DejaVuSans-100\"/>\r\n       <use x=\"232.470703\" xlink:href=\"#DejaVuSans-121\"/>\r\n       <use x=\"291.650391\" xlink:href=\"#DejaVuSans-71\"/>\r\n       <use x=\"369.140625\" xlink:href=\"#DejaVuSans-121\"/>\r\n       <use x=\"428.320312\" xlink:href=\"#DejaVuSans-114\"/>\r\n       <use x=\"467.183594\" xlink:href=\"#DejaVuSans-111\"/>\r\n       <use x=\"528.365234\" xlink:href=\"#DejaVuSans-74\"/>\r\n       <use x=\"557.857422\" xlink:href=\"#DejaVuSans-101\"/>\r\n       <use x=\"619.380859\" xlink:href=\"#DejaVuSans-114\"/>\r\n       <use x=\"660.494141\" xlink:href=\"#DejaVuSans-107\"/>\r\n       <use x=\"718.404297\" xlink:href=\"#DejaVuSans-45\"/>\r\n       <use x=\"754.488281\" xlink:href=\"#DejaVuSans-109\"/>\r\n       <use x=\"851.900391\" xlink:href=\"#DejaVuSans-97\"/>\r\n       <use x=\"913.179688\" xlink:href=\"#DejaVuSans-120\"/>\r\n       <use x=\"972.359375\" xlink:href=\"#DejaVuSans-40\"/>\r\n       <use x=\"1011.373047\" xlink:href=\"#DejaVuSans-41\"/>\r\n       <use x=\"1050.386719\" xlink:href=\"#DejaVuSans-45\"/>\r\n       <use x=\"1081.470703\" xlink:href=\"#DejaVuSans-88\"/>\r\n      </g>\r\n     </g>\r\n    </g>\r\n    <g id=\"ytick_18\">\r\n     <g id=\"line2d_24\">\r\n      <g>\r\n       <use style=\"stroke:#000000;stroke-width:0.8;\" x=\"182.303125\" xlink:href=\"#m50468946f4\" y=\"497.968125\"/>\r\n      </g>\r\n     </g>\r\n     <g id=\"text_24\">\r\n      <!-- tGravityAcc-arCoeff()-Y,3 -->\r\n      <defs>\r\n       <path d=\"M 40.578125 39.3125 \r\nQ 47.65625 37.796875 51.625 33 \r\nQ 55.609375 28.21875 55.609375 21.1875 \r\nQ 55.609375 10.40625 48.1875 4.484375 \r\nQ 40.765625 -1.421875 27.09375 -1.421875 \r\nQ 22.515625 -1.421875 17.65625 -0.515625 \r\nQ 12.796875 0.390625 7.625 2.203125 \r\nL 7.625 11.71875 \r\nQ 11.71875 9.328125 16.59375 8.109375 \r\nQ 21.484375 6.890625 26.8125 6.890625 \r\nQ 36.078125 6.890625 40.9375 10.546875 \r\nQ 45.796875 14.203125 45.796875 21.1875 \r\nQ 45.796875 27.640625 41.28125 31.265625 \r\nQ 36.765625 34.90625 28.71875 34.90625 \r\nL 20.21875 34.90625 \r\nL 20.21875 43.015625 \r\nL 29.109375 43.015625 \r\nQ 36.375 43.015625 40.234375 45.921875 \r\nQ 44.09375 48.828125 44.09375 54.296875 \r\nQ 44.09375 59.90625 40.109375 62.90625 \r\nQ 36.140625 65.921875 28.71875 65.921875 \r\nQ 24.65625 65.921875 20.015625 65.03125 \r\nQ 15.375 64.15625 9.8125 62.3125 \r\nL 9.8125 71.09375 \r\nQ 15.4375 72.65625 20.34375 73.4375 \r\nQ 25.25 74.21875 29.59375 74.21875 \r\nQ 40.828125 74.21875 47.359375 69.109375 \r\nQ 53.90625 64.015625 53.90625 55.328125 \r\nQ 53.90625 49.265625 50.4375 45.09375 \r\nQ 46.96875 40.921875 40.578125 39.3125 \r\nz\r\n\" id=\"DejaVuSans-51\"/>\r\n      </defs>\r\n      <g transform=\"translate(51.182813 501.767344)scale(0.1 -0.1)\">\r\n       <use xlink:href=\"#DejaVuSans-116\"/>\r\n       <use x=\"39.208984\" xlink:href=\"#DejaVuSans-71\"/>\r\n       <use x=\"116.699219\" xlink:href=\"#DejaVuSans-114\"/>\r\n       <use x=\"157.8125\" xlink:href=\"#DejaVuSans-97\"/>\r\n       <use x=\"219.091797\" xlink:href=\"#DejaVuSans-118\"/>\r\n       <use x=\"278.271484\" xlink:href=\"#DejaVuSans-105\"/>\r\n       <use x=\"306.054688\" xlink:href=\"#DejaVuSans-116\"/>\r\n       <use x=\"345.263672\" xlink:href=\"#DejaVuSans-121\"/>\r\n       <use x=\"404.443359\" xlink:href=\"#DejaVuSans-65\"/>\r\n       <use x=\"471.101562\" xlink:href=\"#DejaVuSans-99\"/>\r\n       <use x=\"526.082031\" xlink:href=\"#DejaVuSans-99\"/>\r\n       <use x=\"581.0625\" xlink:href=\"#DejaVuSans-45\"/>\r\n       <use x=\"617.146484\" xlink:href=\"#DejaVuSans-97\"/>\r\n       <use x=\"678.425781\" xlink:href=\"#DejaVuSans-114\"/>\r\n       <use x=\"719.539062\" xlink:href=\"#DejaVuSans-67\"/>\r\n       <use x=\"789.363281\" xlink:href=\"#DejaVuSans-111\"/>\r\n       <use x=\"850.544922\" xlink:href=\"#DejaVuSans-101\"/>\r\n       <use x=\"912.068359\" xlink:href=\"#DejaVuSans-102\"/>\r\n       <use x=\"947.273438\" xlink:href=\"#DejaVuSans-102\"/>\r\n       <use x=\"982.478516\" xlink:href=\"#DejaVuSans-40\"/>\r\n       <use x=\"1021.492188\" xlink:href=\"#DejaVuSans-41\"/>\r\n       <use x=\"1060.505859\" xlink:href=\"#DejaVuSans-45\"/>\r\n       <use x=\"1084.714844\" xlink:href=\"#DejaVuSans-89\"/>\r\n       <use x=\"1145.798828\" xlink:href=\"#DejaVuSans-44\"/>\r\n       <use x=\"1177.585938\" xlink:href=\"#DejaVuSans-51\"/>\r\n      </g>\r\n     </g>\r\n    </g>\r\n    <g id=\"ytick_19\">\r\n     <g id=\"line2d_25\">\r\n      <g>\r\n       <use style=\"stroke:#000000;stroke-width:0.8;\" x=\"182.303125\" xlink:href=\"#m50468946f4\" y=\"525.148125\"/>\r\n      </g>\r\n     </g>\r\n     <g id=\"text_25\">\r\n      <!-- angle(Z,gravityMean) -->\r\n      <g transform=\"translate(67.35625 528.947344)scale(0.1 -0.1)\">\r\n       <use xlink:href=\"#DejaVuSans-97\"/>\r\n       <use x=\"61.279297\" xlink:href=\"#DejaVuSans-110\"/>\r\n       <use x=\"124.658203\" xlink:href=\"#DejaVuSans-103\"/>\r\n       <use x=\"188.134766\" xlink:href=\"#DejaVuSans-108\"/>\r\n       <use x=\"215.917969\" xlink:href=\"#DejaVuSans-101\"/>\r\n       <use x=\"277.441406\" xlink:href=\"#DejaVuSans-40\"/>\r\n       <use x=\"316.455078\" xlink:href=\"#DejaVuSans-90\"/>\r\n       <use x=\"384.960938\" xlink:href=\"#DejaVuSans-44\"/>\r\n       <use x=\"416.748047\" xlink:href=\"#DejaVuSans-103\"/>\r\n       <use x=\"480.224609\" xlink:href=\"#DejaVuSans-114\"/>\r\n       <use x=\"521.337891\" xlink:href=\"#DejaVuSans-97\"/>\r\n       <use x=\"582.617188\" xlink:href=\"#DejaVuSans-118\"/>\r\n       <use x=\"641.796875\" xlink:href=\"#DejaVuSans-105\"/>\r\n       <use x=\"669.580078\" xlink:href=\"#DejaVuSans-116\"/>\r\n       <use x=\"708.789062\" xlink:href=\"#DejaVuSans-121\"/>\r\n       <use x=\"767.96875\" xlink:href=\"#DejaVuSans-77\"/>\r\n       <use x=\"854.248047\" xlink:href=\"#DejaVuSans-101\"/>\r\n       <use x=\"915.771484\" xlink:href=\"#DejaVuSans-97\"/>\r\n       <use x=\"977.050781\" xlink:href=\"#DejaVuSans-110\"/>\r\n       <use x=\"1040.429688\" xlink:href=\"#DejaVuSans-41\"/>\r\n      </g>\r\n     </g>\r\n    </g>\r\n    <g id=\"ytick_20\">\r\n     <g id=\"line2d_26\">\r\n      <g>\r\n       <use style=\"stroke:#000000;stroke-width:0.8;\" x=\"182.303125\" xlink:href=\"#m50468946f4\" y=\"552.328125\"/>\r\n      </g>\r\n     </g>\r\n     <g id=\"text_26\">\r\n      <!-- tGravityAcc-min()-Z -->\r\n      <g transform=\"translate(76.471875 556.127344)scale(0.1 -0.1)\">\r\n       <use xlink:href=\"#DejaVuSans-116\"/>\r\n       <use x=\"39.208984\" xlink:href=\"#DejaVuSans-71\"/>\r\n       <use x=\"116.699219\" xlink:href=\"#DejaVuSans-114\"/>\r\n       <use x=\"157.8125\" xlink:href=\"#DejaVuSans-97\"/>\r\n       <use x=\"219.091797\" xlink:href=\"#DejaVuSans-118\"/>\r\n       <use x=\"278.271484\" xlink:href=\"#DejaVuSans-105\"/>\r\n       <use x=\"306.054688\" xlink:href=\"#DejaVuSans-116\"/>\r\n       <use x=\"345.263672\" xlink:href=\"#DejaVuSans-121\"/>\r\n       <use x=\"404.443359\" xlink:href=\"#DejaVuSans-65\"/>\r\n       <use x=\"471.101562\" xlink:href=\"#DejaVuSans-99\"/>\r\n       <use x=\"526.082031\" xlink:href=\"#DejaVuSans-99\"/>\r\n       <use x=\"581.0625\" xlink:href=\"#DejaVuSans-45\"/>\r\n       <use x=\"617.146484\" xlink:href=\"#DejaVuSans-109\"/>\r\n       <use x=\"714.558594\" xlink:href=\"#DejaVuSans-105\"/>\r\n       <use x=\"742.341797\" xlink:href=\"#DejaVuSans-110\"/>\r\n       <use x=\"805.720703\" xlink:href=\"#DejaVuSans-40\"/>\r\n       <use x=\"844.734375\" xlink:href=\"#DejaVuSans-41\"/>\r\n       <use x=\"883.748047\" xlink:href=\"#DejaVuSans-45\"/>\r\n       <use x=\"919.832031\" xlink:href=\"#DejaVuSans-90\"/>\r\n      </g>\r\n     </g>\r\n    </g>\r\n   </g>\r\n   <g id=\"line2d_27\">\r\n    <path clip-path=\"url(#p56644a9e37)\" style=\"fill:none;stroke:#424242;stroke-linecap:square;stroke-width:2.7;\"/>\r\n   </g>\r\n   <g id=\"line2d_28\">\r\n    <path clip-path=\"url(#p56644a9e37)\" style=\"fill:none;stroke:#424242;stroke-linecap:square;stroke-width:2.7;\"/>\r\n   </g>\r\n   <g id=\"line2d_29\">\r\n    <path clip-path=\"url(#p56644a9e37)\" style=\"fill:none;stroke:#424242;stroke-linecap:square;stroke-width:2.7;\"/>\r\n   </g>\r\n   <g id=\"line2d_30\">\r\n    <path clip-path=\"url(#p56644a9e37)\" style=\"fill:none;stroke:#424242;stroke-linecap:square;stroke-width:2.7;\"/>\r\n   </g>\r\n   <g id=\"line2d_31\">\r\n    <path clip-path=\"url(#p56644a9e37)\" style=\"fill:none;stroke:#424242;stroke-linecap:square;stroke-width:2.7;\"/>\r\n   </g>\r\n   <g id=\"line2d_32\">\r\n    <path clip-path=\"url(#p56644a9e37)\" style=\"fill:none;stroke:#424242;stroke-linecap:square;stroke-width:2.7;\"/>\r\n   </g>\r\n   <g id=\"line2d_33\">\r\n    <path clip-path=\"url(#p56644a9e37)\" style=\"fill:none;stroke:#424242;stroke-linecap:square;stroke-width:2.7;\"/>\r\n   </g>\r\n   <g id=\"line2d_34\">\r\n    <path clip-path=\"url(#p56644a9e37)\" style=\"fill:none;stroke:#424242;stroke-linecap:square;stroke-width:2.7;\"/>\r\n   </g>\r\n   <g id=\"line2d_35\">\r\n    <path clip-path=\"url(#p56644a9e37)\" style=\"fill:none;stroke:#424242;stroke-linecap:square;stroke-width:2.7;\"/>\r\n   </g>\r\n   <g id=\"line2d_36\">\r\n    <path clip-path=\"url(#p56644a9e37)\" style=\"fill:none;stroke:#424242;stroke-linecap:square;stroke-width:2.7;\"/>\r\n   </g>\r\n   <g id=\"line2d_37\">\r\n    <path clip-path=\"url(#p56644a9e37)\" style=\"fill:none;stroke:#424242;stroke-linecap:square;stroke-width:2.7;\"/>\r\n   </g>\r\n   <g id=\"line2d_38\">\r\n    <path clip-path=\"url(#p56644a9e37)\" style=\"fill:none;stroke:#424242;stroke-linecap:square;stroke-width:2.7;\"/>\r\n   </g>\r\n   <g id=\"line2d_39\">\r\n    <path clip-path=\"url(#p56644a9e37)\" style=\"fill:none;stroke:#424242;stroke-linecap:square;stroke-width:2.7;\"/>\r\n   </g>\r\n   <g id=\"line2d_40\">\r\n    <path clip-path=\"url(#p56644a9e37)\" style=\"fill:none;stroke:#424242;stroke-linecap:square;stroke-width:2.7;\"/>\r\n   </g>\r\n   <g id=\"line2d_41\">\r\n    <path clip-path=\"url(#p56644a9e37)\" style=\"fill:none;stroke:#424242;stroke-linecap:square;stroke-width:2.7;\"/>\r\n   </g>\r\n   <g id=\"line2d_42\">\r\n    <path clip-path=\"url(#p56644a9e37)\" style=\"fill:none;stroke:#424242;stroke-linecap:square;stroke-width:2.7;\"/>\r\n   </g>\r\n   <g id=\"line2d_43\">\r\n    <path clip-path=\"url(#p56644a9e37)\" style=\"fill:none;stroke:#424242;stroke-linecap:square;stroke-width:2.7;\"/>\r\n   </g>\r\n   <g id=\"line2d_44\">\r\n    <path clip-path=\"url(#p56644a9e37)\" style=\"fill:none;stroke:#424242;stroke-linecap:square;stroke-width:2.7;\"/>\r\n   </g>\r\n   <g id=\"line2d_45\">\r\n    <path clip-path=\"url(#p56644a9e37)\" style=\"fill:none;stroke:#424242;stroke-linecap:square;stroke-width:2.7;\"/>\r\n   </g>\r\n   <g id=\"line2d_46\">\r\n    <path clip-path=\"url(#p56644a9e37)\" style=\"fill:none;stroke:#424242;stroke-linecap:square;stroke-width:2.7;\"/>\r\n   </g>\r\n   <g id=\"patch_23\">\r\n    <path d=\"M 182.303125 565.918125 \r\nL 182.303125 22.318125 \r\n\" style=\"fill:none;stroke:#000000;stroke-linecap:square;stroke-linejoin:miter;stroke-width:0.8;\"/>\r\n   </g>\r\n   <g id=\"patch_24\">\r\n    <path d=\"M 851.903125 565.918125 \r\nL 851.903125 22.318125 \r\n\" style=\"fill:none;stroke:#000000;stroke-linecap:square;stroke-linejoin:miter;stroke-width:0.8;\"/>\r\n   </g>\r\n   <g id=\"patch_25\">\r\n    <path d=\"M 182.303125 565.918125 \r\nL 851.903125 565.918125 \r\n\" style=\"fill:none;stroke:#000000;stroke-linecap:square;stroke-linejoin:miter;stroke-width:0.8;\"/>\r\n   </g>\r\n   <g id=\"patch_26\">\r\n    <path d=\"M 182.303125 22.318125 \r\nL 851.903125 22.318125 \r\n\" style=\"fill:none;stroke:#000000;stroke-linecap:square;stroke-linejoin:miter;stroke-width:0.8;\"/>\r\n   </g>\r\n   <g id=\"text_27\">\r\n    <!-- Feature importances Top 20 -->\r\n    <defs>\r\n     <path d=\"M 9.8125 72.90625 \r\nL 51.703125 72.90625 \r\nL 51.703125 64.59375 \r\nL 19.671875 64.59375 \r\nL 19.671875 43.109375 \r\nL 48.578125 43.109375 \r\nL 48.578125 34.8125 \r\nL 19.671875 34.8125 \r\nL 19.671875 0 \r\nL 9.8125 0 \r\nz\r\n\" id=\"DejaVuSans-70\"/>\r\n     <path d=\"M 8.5 21.578125 \r\nL 8.5 54.6875 \r\nL 17.484375 54.6875 \r\nL 17.484375 21.921875 \r\nQ 17.484375 14.15625 20.5 10.265625 \r\nQ 23.53125 6.390625 29.59375 6.390625 \r\nQ 36.859375 6.390625 41.078125 11.03125 \r\nQ 45.3125 15.671875 45.3125 23.6875 \r\nL 45.3125 54.6875 \r\nL 54.296875 54.6875 \r\nL 54.296875 0 \r\nL 45.3125 0 \r\nL 45.3125 8.40625 \r\nQ 42.046875 3.421875 37.71875 1 \r\nQ 33.40625 -1.421875 27.6875 -1.421875 \r\nQ 18.265625 -1.421875 13.375 4.4375 \r\nQ 8.5 10.296875 8.5 21.578125 \r\nz\r\nM 31.109375 56 \r\nz\r\n\" id=\"DejaVuSans-117\"/>\r\n     <path id=\"DejaVuSans-32\"/>\r\n     <path d=\"M 18.109375 8.203125 \r\nL 18.109375 -20.796875 \r\nL 9.078125 -20.796875 \r\nL 9.078125 54.6875 \r\nL 18.109375 54.6875 \r\nL 18.109375 46.390625 \r\nQ 20.953125 51.265625 25.265625 53.625 \r\nQ 29.59375 56 35.59375 56 \r\nQ 45.5625 56 51.78125 48.09375 \r\nQ 58.015625 40.1875 58.015625 27.296875 \r\nQ 58.015625 14.40625 51.78125 6.484375 \r\nQ 45.5625 -1.421875 35.59375 -1.421875 \r\nQ 29.59375 -1.421875 25.265625 0.953125 \r\nQ 20.953125 3.328125 18.109375 8.203125 \r\nz\r\nM 48.6875 27.296875 \r\nQ 48.6875 37.203125 44.609375 42.84375 \r\nQ 40.53125 48.484375 33.40625 48.484375 \r\nQ 26.265625 48.484375 22.1875 42.84375 \r\nQ 18.109375 37.203125 18.109375 27.296875 \r\nQ 18.109375 17.390625 22.1875 11.75 \r\nQ 26.265625 6.109375 33.40625 6.109375 \r\nQ 40.53125 6.109375 44.609375 11.75 \r\nQ 48.6875 17.390625 48.6875 27.296875 \r\nz\r\n\" id=\"DejaVuSans-112\"/>\r\n     <path d=\"M -0.296875 72.90625 \r\nL 61.375 72.90625 \r\nL 61.375 64.59375 \r\nL 35.5 64.59375 \r\nL 35.5 0 \r\nL 25.59375 0 \r\nL 25.59375 64.59375 \r\nL -0.296875 64.59375 \r\nz\r\n\" id=\"DejaVuSans-84\"/>\r\n    </defs>\r\n    <g transform=\"translate(433.548438 16.318125)scale(0.12 -0.12)\">\r\n     <use xlink:href=\"#DejaVuSans-70\"/>\r\n     <use x=\"52.019531\" xlink:href=\"#DejaVuSans-101\"/>\r\n     <use x=\"113.542969\" xlink:href=\"#DejaVuSans-97\"/>\r\n     <use x=\"174.822266\" xlink:href=\"#DejaVuSans-116\"/>\r\n     <use x=\"214.03125\" xlink:href=\"#DejaVuSans-117\"/>\r\n     <use x=\"277.410156\" xlink:href=\"#DejaVuSans-114\"/>\r\n     <use x=\"316.273438\" xlink:href=\"#DejaVuSans-101\"/>\r\n     <use x=\"377.796875\" xlink:href=\"#DejaVuSans-32\"/>\r\n     <use x=\"409.583984\" xlink:href=\"#DejaVuSans-105\"/>\r\n     <use x=\"437.367188\" xlink:href=\"#DejaVuSans-109\"/>\r\n     <use x=\"534.779297\" xlink:href=\"#DejaVuSans-112\"/>\r\n     <use x=\"598.255859\" xlink:href=\"#DejaVuSans-111\"/>\r\n     <use x=\"659.4375\" xlink:href=\"#DejaVuSans-114\"/>\r\n     <use x=\"700.550781\" xlink:href=\"#DejaVuSans-116\"/>\r\n     <use x=\"739.759766\" xlink:href=\"#DejaVuSans-97\"/>\r\n     <use x=\"801.039062\" xlink:href=\"#DejaVuSans-110\"/>\r\n     <use x=\"864.417969\" xlink:href=\"#DejaVuSans-99\"/>\r\n     <use x=\"919.398438\" xlink:href=\"#DejaVuSans-101\"/>\r\n     <use x=\"980.921875\" xlink:href=\"#DejaVuSans-115\"/>\r\n     <use x=\"1033.021484\" xlink:href=\"#DejaVuSans-32\"/>\r\n     <use x=\"1064.808594\" xlink:href=\"#DejaVuSans-84\"/>\r\n     <use x=\"1108.892578\" xlink:href=\"#DejaVuSans-111\"/>\r\n     <use x=\"1170.074219\" xlink:href=\"#DejaVuSans-112\"/>\r\n     <use x=\"1233.550781\" xlink:href=\"#DejaVuSans-32\"/>\r\n     <use x=\"1265.337891\" xlink:href=\"#DejaVuSans-50\"/>\r\n     <use x=\"1328.960938\" xlink:href=\"#DejaVuSans-48\"/>\r\n    </g>\r\n   </g>\r\n  </g>\r\n </g>\r\n <defs>\r\n  <clipPath id=\"p56644a9e37\">\r\n   <rect height=\"543.6\" width=\"669.6\" x=\"182.303125\" y=\"22.318125\"/>\r\n  </clipPath>\r\n </defs>\r\n</svg>\r\n",
      "image/png": "[encoded data removed]"
     },
     "metadata": {
      "needs_background": "light"
     }
    }
   ],
   "source": [
    "import seaborn as sns\n",
    "\n",
    "feature_importances = pd.Series(best_dt_clf.feature_importances_, index=feature_list)\n",
    "top20_feature = feature_importances.sort_values(ascending=False)[:20]\n",
    "plt.figure(figsize=(12,10))\n",
    "plt.title('Feature importances Top 20')\n",
    "sns.barplot(x=top20_feature, y=top20_feature.index)\n",
    "plt.show()"
   ]
  },
  {
   "source": [
    "Graphviz 시각화"
   ],
   "cell_type": "markdown",
   "metadata": {}
  },
  {
   "source": [
    "target_names = ['WALKING', 'WALKING_UPSTAIRS', 'WALKING_DOWNSTAIRS', \n",
    "                'SITTING', 'STANDING', 'LAYING']"
   ],
   "cell_type": "code",
   "metadata": {},
   "execution_count": 30,
   "outputs": []
  },
  {
   "cell_type": "code",
   "execution_count": 31,
   "metadata": {},
   "outputs": [],
   "source": [
    "from sklearn.tree import export_graphviz\n",
    "\n",
    "# export_graphviz()의 호출 결과로 out_file로 지정된 tree.dot 파일을 생성함. \n",
    "export_graphviz(best_dt_clf, out_file=\"tree.dot\", class_names=target_names,\n",
    "                feature_names=feature_list, impurity=True, filled=True)"
   ]
  },
  {
   "cell_type": "code",
   "execution_count": 32,
   "metadata": {},
   "outputs": [
    {
     "output_type": "execute_result",
     "data": {
      "text/plain": [
       "' import graphviz\\n\\n# 위에서 생성된 tree.dot 파일을 Graphviz 읽어서 Jupyter Notebook상에서 시각화 \\nwith open(\"tree.dot\") as f:\\n    dot_graph = f.read()\\ngraphviz.Source(dot_graph) '"
      ]
     },
     "metadata": {},
     "execution_count": 32
    }
   ],
   "source": [
    "\"\"\" import graphviz\n",
    "\n",
    "# 위에서 생성된 tree.dot 파일을 Graphviz 읽어서 Jupyter Notebook상에서 시각화 \n",
    "with open(\"tree.dot\") as f:\n",
    "    dot_graph = f.read()\n",
    "graphviz.Source(dot_graph) \"\"\""
   ]
  },
  {
   "cell_type": "code",
   "execution_count": null,
   "metadata": {},
   "outputs": [],
   "source": []
  }
 ]
}