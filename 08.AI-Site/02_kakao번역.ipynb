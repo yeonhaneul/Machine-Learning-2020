{
 "metadata": {
  "language_info": {
   "codemirror_mode": {
    "name": "ipython",
    "version": 3
   },
   "file_extension": ".py",
   "mimetype": "text/x-python",
   "name": "python",
   "nbconvert_exporter": "python",
   "pygments_lexer": "ipython3",
   "version": "3.8.3-final"
  },
  "orig_nbformat": 2,
  "kernelspec": {
   "name": "python3",
   "display_name": "Python 3",
   "language": "python"
  }
 },
 "nbformat": 4,
 "nbformat_minor": 2,
 "cells": [
  {
   "source": [
    "# 카카오 번역기"
   ],
   "cell_type": "markdown",
   "metadata": {}
  },
  {
   "cell_type": "code",
   "execution_count": 1,
   "metadata": {},
   "outputs": [],
   "source": [
    "from urllib.parse import quote\n",
    "import requests"
   ]
  },
  {
   "cell_type": "code",
   "execution_count": 2,
   "metadata": {},
   "outputs": [],
   "source": [
    "with open('keys/kakaoaikey.txt') as kfile:\n",
    "    kai_key = kfile.read(100)"
   ]
  },
  {
   "cell_type": "code",
   "execution_count": 3,
   "metadata": {},
   "outputs": [],
   "source": [
    "text = '이 문서는 카카오 번역 API 사용 방법을 설명합니다.'"
   ]
  },
  {
   "cell_type": "code",
   "execution_count": 5,
   "metadata": {},
   "outputs": [],
   "source": [
    "url = 'https://dapi.kakao.com/v2/translation/translate?query='+quote(text)+'&src_lang=kr&target_lang=en'"
   ]
  },
  {
   "cell_type": "code",
   "execution_count": 6,
   "metadata": {},
   "outputs": [
    {
     "output_type": "execute_result",
     "data": {
      "text/plain": [
       "{'translated_text': [['This document describes how to use the Kakao translation API.']]}"
      ]
     },
     "metadata": {},
     "execution_count": 6
    }
   ],
   "source": [
    "result = requests.get(url, headers={\"Authorization\": \"KakaoAK \"+kai_key}).json()\n",
    "result"
   ]
  },
  {
   "cell_type": "code",
   "execution_count": 7,
   "metadata": {},
   "outputs": [
    {
     "output_type": "execute_result",
     "data": {
      "text/plain": [
       "'This document describes how to use the Kakao translation API.'"
      ]
     },
     "metadata": {},
     "execution_count": 7
    }
   ],
   "source": [
    "eng_text = result['translated_text'][0][0]\n",
    "eng_text"
   ]
  },
  {
   "cell_type": "code",
   "execution_count": 12,
   "metadata": {},
   "outputs": [],
   "source": [
    "def generate_url(text, src, dst):\n",
    "    return f'https://dapi.kakao.com/v2/translation/translate?query={quote(text)}&src_lang={src}&target_lang={dst}'"
   ]
  },
  {
   "source": [
    "### 영어 -> 한글"
   ],
   "cell_type": "markdown",
   "metadata": {}
  },
  {
   "cell_type": "code",
   "execution_count": 13,
   "metadata": {},
   "outputs": [
    {
     "output_type": "execute_result",
     "data": {
      "text/plain": [
       "{'translated_text': [['이 문서는 카카오 번역 API 사용 방법에 대해 설명합니다.']]}"
      ]
     },
     "metadata": {},
     "execution_count": 13
    }
   ],
   "source": [
    "result = requests.get(generate_url(eng_text, 'en', 'kr'), headers={\"Authorization\": \"KakaoAK \"+kai_key}).json()\n",
    "result"
   ]
  },
  {
   "cell_type": "code",
   "execution_count": 14,
   "metadata": {},
   "outputs": [
    {
     "output_type": "execute_result",
     "data": {
      "text/plain": [
       "'이 문서는 카카오 번역 API 사용 방법에 대해 설명합니다.'"
      ]
     },
     "metadata": {},
     "execution_count": 14
    }
   ],
   "source": [
    "kor_text = result['translated_text'][0][0]\n",
    "kor_text"
   ]
  },
  {
   "source": [
    "### 한글 -> 일본어"
   ],
   "cell_type": "markdown",
   "metadata": {}
  },
  {
   "cell_type": "code",
   "execution_count": 15,
   "metadata": {},
   "outputs": [
    {
     "output_type": "execute_result",
     "data": {
      "text/plain": [
       "{'translated_text': [['本稿では,カカオ翻訳APIの使用方法について述べた。']]}"
      ]
     },
     "metadata": {},
     "execution_count": 15
    }
   ],
   "source": [
    "result = requests.get(generate_url(kor_text, 'kr', 'jp'), headers={\"Authorization\": \"KakaoAK \"+kai_key}).json()\n",
    "result"
   ]
  },
  {
   "cell_type": "code",
   "execution_count": 16,
   "metadata": {},
   "outputs": [
    {
     "output_type": "execute_result",
     "data": {
      "text/plain": [
       "'本稿では,カカオ翻訳APIの使用方法について述べた。'"
      ]
     },
     "metadata": {},
     "execution_count": 16
    }
   ],
   "source": [
    "jp_text = result['translated_text'][0][0]\n",
    "jp_text"
   ]
  },
  {
   "source": [
    "### 한글 -> 중국어"
   ],
   "cell_type": "markdown",
   "metadata": {}
  },
  {
   "cell_type": "code",
   "execution_count": 21,
   "metadata": {},
   "outputs": [
    {
     "output_type": "execute_result",
     "data": {
      "text/plain": [
       "'本文件描述了如何使用可可翻译API。'"
      ]
     },
     "metadata": {},
     "execution_count": 21
    }
   ],
   "source": [
    "result = requests.get(generate_url(text, 'kr', 'cn'), headers={\"Authorization\": \"KakaoAK \"+kai_key}).json()\n",
    "cn_text = result['translated_text'][0][0]\n",
    "cn_text"
   ]
  },
  {
   "source": [
    "### 한글 여러문장 --> 영어"
   ],
   "cell_type": "markdown",
   "metadata": {}
  },
  {
   "cell_type": "code",
   "execution_count": 23,
   "metadata": {},
   "outputs": [
    {
     "output_type": "execute_result",
     "data": {
      "text/plain": [
       "[['Naver Cloud Platform provides various artificial intelligence services such as Clova and papago in API form.'],\n",
       " [\"Customers use Naver's AI service,\"],\n",
       " ['Build and operate the latest technology-based AI services stably.']]"
      ]
     },
     "metadata": {},
     "execution_count": 23
    }
   ],
   "source": [
    "text = \"\"\"네이버 클라우드 플랫폼에서는 Clova, papago 등 네이버의 다양한 인공지능 서비스를 API 형태로 제공합니다. \n",
    "고객은 네이버의 인공지능 서비스를 활용하여,\n",
    "최신 기술 기반의 AI 서비스를 구축하고 안정적으로 운영할 수 있습니다.\"\"\"\n",
    "\n",
    "result = requests.get(generate_url(text, 'kr', 'en'), headers={\"Authorization\": \"KakaoAK \"+kai_key}).json()\n",
    "eng_text = result['translated_text']\n",
    "eng_text"
   ]
  },
  {
   "cell_type": "code",
   "execution_count": 24,
   "metadata": {},
   "outputs": [
    {
     "output_type": "stream",
     "name": "stdout",
     "text": [
      "Naver Cloud Platform provides various artificial intelligence services such as Clova and papago in API form.\nCustomers use Naver's AI service,\nBuild and operate the latest technology-based AI services stably.\n"
     ]
    }
   ],
   "source": [
    "for nested_element in eng_text:\n",
    "    print(nested_element[0])"
   ]
  },
  {
   "cell_type": "code",
   "execution_count": null,
   "metadata": {},
   "outputs": [],
   "source": []
  }
 ]
}