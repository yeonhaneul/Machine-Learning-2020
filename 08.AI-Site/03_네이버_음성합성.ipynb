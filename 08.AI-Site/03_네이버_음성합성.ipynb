{
 "metadata": {
  "language_info": {
   "codemirror_mode": {
    "name": "ipython",
    "version": 3
   },
   "file_extension": ".py",
   "mimetype": "text/x-python",
   "name": "python",
   "nbconvert_exporter": "python",
   "pygments_lexer": "ipython3",
   "version": "3.8.3-final"
  },
  "orig_nbformat": 2,
  "kernelspec": {
   "name": "python3",
   "display_name": "Python 3",
   "language": "python"
  }
 },
 "nbformat": 4,
 "nbformat_minor": 2,
 "cells": [
  {
   "source": [
    "# 네이버 음성 합성"
   ],
   "cell_type": "markdown",
   "metadata": {}
  },
  {
   "cell_type": "code",
   "execution_count": 1,
   "metadata": {},
   "outputs": [],
   "source": [
    "import requests\n",
    "import json"
   ]
  },
  {
   "cell_type": "code",
   "execution_count": 2,
   "metadata": {},
   "outputs": [],
   "source": [
    "with open('keys/clova_key.json') as nkey:\n",
    "    json_str = nkey.read(100)\n",
    "json_obj = json.loads(json_str) # 오브젝트(딕셔너리) 출력\n",
    "client_id = list(json_obj.keys())[0] # 딕셔너리의 key(ID)출력\n",
    "client_secret = json_obj[client_id] # 딕셔너리의 value(secret_key)출력"
   ]
  },
  {
   "cell_type": "code",
   "execution_count": 3,
   "metadata": {},
   "outputs": [],
   "source": [
    "text = \"네이버 클라우드 플랫폼은 다양한 AI 서비스를 API를 통해 제공 하고 있습니다.\"\n",
    "\n",
    "speaker = \"nara\"\n",
    "speed = \"0\"\n",
    "pitch = \"0\"\n",
    "emotion = \"0\"\n",
    "format = \"mp3\""
   ]
  },
  {
   "cell_type": "code",
   "execution_count": 4,
   "metadata": {},
   "outputs": [],
   "source": [
    "url = \"https://naveropenapi.apigw.ntruss.com/tts-premium/v1/tts\"\n",
    "\n",
    "headers = {\n",
    "    \"X-NCP-APIGW-API-KEY-ID\": client_id,\n",
    "    \"X-NCP-APIGW-API-KEY\": client_secret,\n",
    "    \"Content-Type\": \"application/x-www-form-urlencoded\"\n",
    "}"
   ]
  },
  {
   "cell_type": "code",
   "execution_count": 5,
   "metadata": {},
   "outputs": [],
   "source": [
    "val = {\n",
    "    \"speaker\": speaker,\n",
    "    \"speed\": speed,\n",
    "    \"text\": text\n",
    "}"
   ]
  },
  {
   "cell_type": "code",
   "execution_count": 6,
   "metadata": {},
   "outputs": [
    {
     "output_type": "execute_result",
     "data": {
      "text/plain": [
       "200"
      ]
     },
     "metadata": {},
     "execution_count": 6
    }
   ],
   "source": [
    "response = requests.post(url, data=val, headers=headers)\n",
    "rescode = response.status_code\n",
    "rescode"
   ]
  },
  {
   "cell_type": "code",
   "execution_count": 7,
   "metadata": {},
   "outputs": [
    {
     "output_type": "stream",
     "name": "stdout",
     "text": [
      "200\n"
     ]
    }
   ],
   "source": [
    "if(rescode == 200):\n",
    "    print(rescode)\n",
    "    with open('voice/cpv_sample.mp3', 'wb') as f:\n",
    "        f.write(response.content)\n",
    "else:\n",
    "    print(\"Error : \" + response.text)"
   ]
  },
  {
   "source": [
    "### Option"
   ],
   "cell_type": "markdown",
   "metadata": {}
  },
  {
   "source": [
    "- speed : 5(느리게)"
   ],
   "cell_type": "markdown",
   "metadata": {}
  },
  {
   "cell_type": "code",
   "execution_count": 8,
   "metadata": {},
   "outputs": [],
   "source": [
    "speed = \"5\" # 양수이면 속도가 느려진다.\n",
    "pitch = \"0\"\n",
    "emotion = \"0\"\n",
    "\n",
    "val = {\n",
    "    \"speaker\": speaker,\n",
    "    \"speed\": speed,\n",
    "    \"text\": text\n",
    "}"
   ]
  },
  {
   "cell_type": "code",
   "execution_count": 9,
   "metadata": {},
   "outputs": [
    {
     "output_type": "execute_result",
     "data": {
      "text/plain": [
       "200"
      ]
     },
     "metadata": {},
     "execution_count": 9
    }
   ],
   "source": [
    "response = requests.post(url, data=val, headers=headers)\n",
    "rescode = response.status_code\n",
    "rescode"
   ]
  },
  {
   "cell_type": "code",
   "execution_count": 10,
   "metadata": {},
   "outputs": [
    {
     "output_type": "stream",
     "name": "stdout",
     "text": [
      "200\n"
     ]
    }
   ],
   "source": [
    "if(rescode == 200):\n",
    "    print(rescode)\n",
    "    with open('voice/cpv_sample_s5.mp3', 'wb') as f:\n",
    "        f.write(response.content)\n",
    "else:\n",
    "    print(\"Error : \" + response.text)"
   ]
  },
  {
   "cell_type": "code",
   "execution_count": null,
   "metadata": {},
   "outputs": [],
   "source": [
    "- speed : -5(빠르게)"
   ]
  },
  {
   "cell_type": "code",
   "execution_count": 12,
   "metadata": {},
   "outputs": [],
   "source": [
    "speed = \"-5\"\n",
    "pitch = \"0\"\n",
    "emotion = \"0\"\n",
    "\n",
    "val = {\n",
    "    \"speaker\": speaker,\n",
    "    \"speed\": speed,\n",
    "    \"text\": text\n",
    "}\n",
    "\n",
    "response = requests.post(url, data=val, headers=headers)\n",
    "rescode = response.status_code"
   ]
  },
  {
   "cell_type": "code",
   "execution_count": 13,
   "metadata": {},
   "outputs": [
    {
     "output_type": "stream",
     "name": "stdout",
     "text": [
      "200\n"
     ]
    }
   ],
   "source": [
    "if(rescode == 200):\n",
    "    print(rescode)\n",
    "    with open('voice/cpv_sample_s-5.mp3', 'wb') as f:\n",
    "        f.write(response.content)\n",
    "else:\n",
    "    print(\"Error : \" + response.text)"
   ]
  },
  {
   "source": [
    "- emotion = 1(어두운 감정)"
   ],
   "cell_type": "markdown",
   "metadata": {}
  },
  {
   "cell_type": "code",
   "execution_count": 14,
   "metadata": {},
   "outputs": [],
   "source": [
    "speed = \"0\"\n",
    "pitch = \"0\"\n",
    "emotion = \"1\"\n",
    "\n",
    "val = {\n",
    "    \"speaker\": speaker,\n",
    "    \"speed\": speed,\n",
    "    \"text\": text,\n",
    "    \"emotion\": emotion\n",
    "}"
   ]
  },
  {
   "cell_type": "code",
   "execution_count": 15,
   "metadata": {},
   "outputs": [
    {
     "output_type": "stream",
     "name": "stdout",
     "text": [
      "200\n"
     ]
    }
   ],
   "source": [
    "response = requests.post(url, data=val, headers=headers)\n",
    "rescode = response.status_code\n",
    "if(rescode == 200):\n",
    "    print(rescode)\n",
    "    with open('voice/cpv_sample_e1.mp3', 'wb') as f:\n",
    "        f.write(response.content)\n",
    "else:\n",
    "    print(\"Error : \" + response.text)"
   ]
  },
  {
   "source": [
    "- emotion = 2(밝은 감정)"
   ],
   "cell_type": "markdown",
   "metadata": {}
  },
  {
   "cell_type": "code",
   "execution_count": 16,
   "metadata": {},
   "outputs": [],
   "source": [
    "speed = \"0\"\n",
    "pitch = \"0\"\n",
    "emotion = \"2\"\n",
    "\n",
    "val = {\n",
    "    \"speaker\": speaker,\n",
    "    \"speed\": speed,\n",
    "    \"text\": text,\n",
    "    \"emotion\": emotion\n",
    "}"
   ]
  },
  {
   "cell_type": "code",
   "execution_count": 17,
   "metadata": {},
   "outputs": [
    {
     "output_type": "stream",
     "name": "stdout",
     "text": [
      "200\n"
     ]
    }
   ],
   "source": [
    "response = requests.post(url, data=val, headers=headers)\n",
    "rescode = response.status_code\n",
    "if(rescode == 200):\n",
    "    print(rescode)\n",
    "    with open('voice/cpv_sample_e2.mp3', 'wb') as f:\n",
    "        f.write(response.content)\n",
    "else:\n",
    "    print(\"Error : \" + response.text)"
   ]
  },
  {
   "source": [
    "- pitch = 5(0.8배 낮은 피치)"
   ],
   "cell_type": "markdown",
   "metadata": {}
  },
  {
   "cell_type": "code",
   "execution_count": 18,
   "metadata": {},
   "outputs": [],
   "source": [
    "speed = \"0\"\n",
    "pitch = \"5\"\n",
    "emotion = \"0\"\n",
    "\n",
    "val = {\n",
    "    \"speaker\": speaker,\n",
    "    \"speed\": speed,\n",
    "    \"text\": text,\n",
    "    \"pitch\": pitch\n",
    "}"
   ]
  },
  {
   "cell_type": "code",
   "execution_count": 19,
   "metadata": {},
   "outputs": [
    {
     "output_type": "stream",
     "name": "stdout",
     "text": [
      "200\n"
     ]
    }
   ],
   "source": [
    "response = requests.post(url, data=val, headers=headers)\n",
    "rescode = response.status_code\n",
    "if(rescode == 200):\n",
    "    print(rescode)\n",
    "    with open('voice/cpv_sample_p5.mp3', 'wb') as f:\n",
    "        f.write(response.content)\n",
    "else:\n",
    "    print(\"Error : \" + response.text)"
   ]
  },
  {
   "source": [
    "- pitch = -5(1.2배 높은 피치)"
   ],
   "cell_type": "markdown",
   "metadata": {}
  },
  {
   "cell_type": "code",
   "execution_count": 20,
   "metadata": {},
   "outputs": [],
   "source": [
    "speed = \"0\"\n",
    "pitch = \"-5\"\n",
    "emotion = \"0\"\n",
    "\n",
    "val = {\n",
    "    \"speaker\": speaker,\n",
    "    \"speed\": speed,\n",
    "    \"text\": text,\n",
    "    \"pitch\": pitch\n",
    "}"
   ]
  },
  {
   "cell_type": "code",
   "execution_count": 21,
   "metadata": {},
   "outputs": [
    {
     "output_type": "stream",
     "name": "stdout",
     "text": [
      "200\n"
     ]
    }
   ],
   "source": [
    "response = requests.post(url, data=val, headers=headers)\n",
    "rescode = response.status_code\n",
    "if(rescode == 200):\n",
    "    print(rescode)\n",
    "    with open('voice/cpv_sample_p-5.mp3', 'wb') as f:\n",
    "        f.write(response.content)\n",
    "else:\n",
    "    print(\"Error : \" + response.text)"
   ]
  },
  {
   "source": [
    "### 기본 목소리 - 남자"
   ],
   "cell_type": "markdown",
   "metadata": {}
  },
  {
   "cell_type": "code",
   "execution_count": 24,
   "metadata": {},
   "outputs": [],
   "source": [
    "text = \"네이버 클라우드 플랫폼은 다양한 AI 서비스를 API를 통해 제공 하고 있습니다.\"\n",
    "\n",
    "speaker = \"jinho\"\n",
    "speed = \"0\"\n",
    "\n",
    "val = {\n",
    "    \"speaker\": speaker,\n",
    "    \"speed\": speed,\n",
    "    \"text\": text\n",
    "}"
   ]
  },
  {
   "cell_type": "code",
   "execution_count": 25,
   "metadata": {},
   "outputs": [
    {
     "output_type": "stream",
     "name": "stdout",
     "text": [
      "200\n"
     ]
    }
   ],
   "source": [
    "response = requests.post(url, data=val, headers=headers)\n",
    "rescode = response.status_code\n",
    "if(rescode == 200):\n",
    "    print(rescode)\n",
    "    with open('voice/cpv_sample_jinho.mp3', 'wb') as f:\n",
    "        f.write(response.content)\n",
    "else:\n",
    "    print(\"Error : \" + response.text)"
   ]
  },
  {
   "cell_type": "code",
   "execution_count": 26,
   "metadata": {},
   "outputs": [],
   "source": [
    "text = \"네이버 클라우드 플랫폼은 다양한 AI 서비스를 API를 통해 제공 하고 있습니다.\"\n",
    "\n",
    "speaker = \"mijin\"\n",
    "speed = \"0\"\n",
    "\n",
    "val = {\n",
    "    \"speaker\": speaker,\n",
    "    \"speed\": speed,\n",
    "    \"text\": text\n",
    "}"
   ]
  },
  {
   "cell_type": "code",
   "execution_count": 27,
   "metadata": {},
   "outputs": [
    {
     "output_type": "stream",
     "name": "stdout",
     "text": [
      "200\n"
     ]
    }
   ],
   "source": [
    "response = requests.post(url, data=val, headers=headers)\n",
    "rescode = response.status_code\n",
    "if(rescode == 200):\n",
    "    print(rescode)\n",
    "    with open('voice/cpv_sample_mijin.mp3', 'wb') as f:\n",
    "        f.write(response.content)\n",
    "else:\n",
    "    print(\"Error : \" + response.text)"
   ]
  },
  {
   "cell_type": "code",
   "execution_count": null,
   "metadata": {},
   "outputs": [],
   "source": []
  }
 ]
}