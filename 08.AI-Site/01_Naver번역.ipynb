{
 "metadata": {
  "language_info": {
   "codemirror_mode": {
    "name": "ipython",
    "version": 3
   },
   "file_extension": ".py",
   "mimetype": "text/x-python",
   "name": "python",
   "nbconvert_exporter": "python",
   "pygments_lexer": "ipython3",
   "version": "3.8.3-final"
  },
  "orig_nbformat": 2,
  "kernelspec": {
   "name": "python3",
   "display_name": "Python 3",
   "language": "python"
  }
 },
 "nbformat": 4,
 "nbformat_minor": 2,
 "cells": [
  {
   "source": [
    "# 네이버 파파고 번역기"
   ],
   "cell_type": "markdown",
   "metadata": {}
  },
  {
   "source": [
    "- https://github.com/NaverCloudPlatform/ai-python-sample"
   ],
   "cell_type": "markdown",
   "metadata": {}
  },
  {
   "cell_type": "code",
   "execution_count": 1,
   "metadata": {},
   "outputs": [],
   "source": [
    "import json\n",
    "with open('keys/papago_key.json') as nkey:\n",
    "    json_str = nkey.read(100)\n",
    "json_obj = json.loads(json_str) # 오브젝트(딕셔너리) 출력\n",
    "client_id = list(json_obj.keys())[0] # 딕셔너리의 key(ID)출력\n",
    "client_secret = json_obj[client_id] # 딕셔너리의 value(secret_key)출력"
   ]
  },
  {
   "cell_type": "code",
   "execution_count": 2,
   "metadata": {},
   "outputs": [
    {
     "output_type": "stream",
     "name": "stdout",
     "text": [
      "id / secret\n"
     ]
    }
   ],
   "source": [
    "# 참고용 / id 와 secret 끌어내기\n",
    "a = {'id': 'secret'}\n",
    "# a.keys() -> dict_keys 에러발생\n",
    "id = list(a.keys())[0]\n",
    "print(id,'/', a[id])"
   ]
  },
  {
   "cell_type": "code",
   "execution_count": 3,
   "metadata": {},
   "outputs": [],
   "source": [
    "url = \"https://naveropenapi.apigw.ntruss.com/nmt/v1/translation\"\n",
    "\n",
    "text = \"\"\"네이버 클라우드 플랫폼에서는 Clova, papago 등 네이버의 다양한 인공지능 서비스를 API 형태로 제공합니다. 고객은 네이버의 인공지능 서비스를 활용하여, 최신 기술 기반의 AI 서비스를 구축하고 안정적으로 운영할 수 있습니다.\"\"\""
   ]
  },
  {
   "source": [
    "- ko : 한국어\n",
    "- en : 영어\n",
    "- zh-CN : 중국어 간체\n",
    "- zh-TW : 중국어 번체\n",
    "- es: 스페인어\n",
    "- fr: 프랑스어\n",
    "- vi: 베트남어\n",
    "- th: 태국어\n",
    "- id: 인도네시아어"
   ],
   "cell_type": "markdown",
   "metadata": {}
  },
  {
   "cell_type": "code",
   "execution_count": 4,
   "metadata": {},
   "outputs": [],
   "source": [
    "val = {\n",
    "    \"source\": 'ko',\n",
    "    \"target\": 'en',\n",
    "    \"text\": text\n",
    "}"
   ]
  },
  {
   "cell_type": "code",
   "execution_count": 5,
   "metadata": {},
   "outputs": [],
   "source": [
    "headers = {\n",
    "    \"X-NCP-APIGW-API-KEY-ID\": client_id,\n",
    "    \"X-NCP-APIGW-API-KEY\": client_secret\n",
    "}"
   ]
  },
  {
   "cell_type": "code",
   "execution_count": 6,
   "metadata": {},
   "outputs": [
    {
     "output_type": "execute_result",
     "data": {
      "text/plain": [
       "200"
      ]
     },
     "metadata": {},
     "execution_count": 6
    }
   ],
   "source": [
    "import requests\n",
    "response = requests.post(url, data=val, headers=headers)\n",
    "rescode = response.status_code\n",
    "rescode"
   ]
  },
  {
   "cell_type": "code",
   "execution_count": 7,
   "metadata": {},
   "outputs": [
    {
     "output_type": "stream",
     "name": "stdout",
     "text": [
      "{\"message\":{\"@type\":\"response\",\"@service\":\"naverservice.nmt.proxy\",\"@version\":\"1.0.0\",\"result\":{\"srcLangType\":\"ko\",\"tarLangType\":\"en\",\"translatedText\":\"Naver's cloud platform provides various artificial intelligence services such as Clova and papago in API form. By utilizing Naver's artificial intelligence service, customers can build and operate AI services based on the latest technology in a stable manner.\"}}}\n"
     ]
    }
   ],
   "source": [
    "if rescode == 200:\n",
    "    print(response.text)\n",
    "else:\n",
    "    print(\"Error : \" + response.text)"
   ]
  },
  {
   "cell_type": "code",
   "execution_count": 8,
   "metadata": {},
   "outputs": [
    {
     "output_type": "execute_result",
     "data": {
      "text/plain": [
       "{'message': {'@type': 'response',\n",
       "  '@service': 'naverservice.nmt.proxy',\n",
       "  '@version': '1.0.0',\n",
       "  'result': {'srcLangType': 'ko',\n",
       "   'tarLangType': 'en',\n",
       "   'translatedText': \"Naver's cloud platform provides various artificial intelligence services such as Clova and papago in API form. By utilizing Naver's artificial intelligence service, customers can build and operate AI services based on the latest technology in a stable manner.\"}}}"
      ]
     },
     "metadata": {},
     "execution_count": 8
    }
   ],
   "source": [
    "result = json.loads(response.text)\n",
    "result"
   ]
  },
  {
   "cell_type": "code",
   "execution_count": 9,
   "metadata": {},
   "outputs": [
    {
     "output_type": "execute_result",
     "data": {
      "text/plain": [
       "\"Naver's cloud platform provides various artificial intelligence services such as Clova and papago in API form. By utilizing Naver's artificial intelligence service, customers can build and operate AI services based on the latest technology in a stable manner.\""
      ]
     },
     "metadata": {},
     "execution_count": 9
    }
   ],
   "source": [
    "result['message']['result']['translatedText']"
   ]
  },
  {
   "source": [
    "- 네이버 클라우드 플랫폼에서는 Clova, papago 등 네이버의 다양한 인공지능 서비스를 API 형태로 제공합니다. 고객은 네이버의 인공지능 서비스를 활용하여, 최신 기술 기반의 AI 서비스를 구축하고 안정적으로 운영할 수 있습니다."
   ],
   "cell_type": "markdown",
   "metadata": {}
  },
  {
   "source": [
    "- Naver's cloud platform provides various artificial intelligence services such as Clova and papago in API form. By utilizing Naver's artificial intelligence service, customers can establish and operate AI services based on the latest technology in a stable manner."
   ],
   "cell_type": "markdown",
   "metadata": {}
  },
  {
   "source": [
    "### 영어 -> 한글"
   ],
   "cell_type": "markdown",
   "metadata": {}
  },
  {
   "cell_type": "code",
   "execution_count": 10,
   "metadata": {},
   "outputs": [],
   "source": [
    "eng_text = \"\"\"Naver's cloud platform provides various artificial intelligence services such as Clova and papago in API form. By utilizing Naver's artificial intelligence service, customers can establish and operate AI services based on the latest technology in a stable manner.\"\"\""
   ]
  },
  {
   "cell_type": "code",
   "execution_count": 11,
   "metadata": {},
   "outputs": [],
   "source": [
    "val = {\n",
    "    \"source\": 'en',\n",
    "    \"target\": 'ko',\n",
    "    \"text\": eng_text\n",
    "}"
   ]
  },
  {
   "cell_type": "code",
   "execution_count": 12,
   "metadata": {},
   "outputs": [
    {
     "output_type": "execute_result",
     "data": {
      "text/plain": [
       "200"
      ]
     },
     "metadata": {},
     "execution_count": 12
    }
   ],
   "source": [
    "response = requests.post(url, data=val, headers=headers)\n",
    "rescode = response.status_code\n",
    "rescode"
   ]
  },
  {
   "cell_type": "code",
   "execution_count": 13,
   "metadata": {},
   "outputs": [
    {
     "output_type": "execute_result",
     "data": {
      "text/plain": [
       "{'message': {'@type': 'response',\n",
       "  '@service': 'naverservice.nmt.proxy',\n",
       "  '@version': '1.0.0',\n",
       "  'result': {'srcLangType': 'en',\n",
       "   'tarLangType': 'ko',\n",
       "   'translatedText': '네이버의 클라우드 플랫폼은 클로바, 파파고 등 다양한 인공지능 서비스를 API 형태로 제공하고 있다. 네이버의 인공지능 서비스를 활용하면 최신 기술을 기반으로 한 AI 서비스를 안정적으로 구축, 운영할 수 있다.'}}}"
      ]
     },
     "metadata": {},
     "execution_count": 13
    }
   ],
   "source": [
    "result = response.json()\n",
    "result"
   ]
  },
  {
   "cell_type": "code",
   "execution_count": 14,
   "metadata": {},
   "outputs": [
    {
     "output_type": "execute_result",
     "data": {
      "text/plain": [
       "'네이버의 클라우드 플랫폼은 클로바, 파파고 등 다양한 인공지능 서비스를 API 형태로 제공하고 있다. 네이버의 인공지능 서비스를 활용하면 최신 기술을 기반으로 한 AI 서비스를 안정적으로 구축, 운영할 수 있다.'"
      ]
     },
     "metadata": {},
     "execution_count": 14
    }
   ],
   "source": [
    "result = json.loads(response.text)\n",
    "kor_text = result['message']['result']['translatedText']\n",
    "kor_text"
   ]
  },
  {
   "source": [
    "### 한글 -> 중국어 간체"
   ],
   "cell_type": "markdown",
   "metadata": {}
  },
  {
   "cell_type": "code",
   "execution_count": 15,
   "metadata": {},
   "outputs": [],
   "source": [
    "val = {\n",
    "    \"source\": 'ko',\n",
    "    \"target\": 'zh-CN',\n",
    "    \"text\": text\n",
    "}"
   ]
  },
  {
   "cell_type": "code",
   "execution_count": 16,
   "metadata": {},
   "outputs": [
    {
     "output_type": "execute_result",
     "data": {
      "text/plain": [
       "200"
      ]
     },
     "metadata": {},
     "execution_count": 16
    }
   ],
   "source": [
    "response = requests.post(url, data=val, headers=headers)\n",
    "rescode = response.status_code\n",
    "rescode"
   ]
  },
  {
   "cell_type": "code",
   "execution_count": 17,
   "metadata": {},
   "outputs": [
    {
     "output_type": "execute_result",
     "data": {
      "text/plain": [
       "'Naver云平台以API形式提供Clova、papago等Naver多种人工智能服务。 顾客可以利用Naver的人工智能服务，构建以最新技术为基础的AI服务，并稳定运营。'"
      ]
     },
     "metadata": {},
     "execution_count": 17
    }
   ],
   "source": [
    "result = response.json()\n",
    "cn_text = result['message']['result']['translatedText']\n",
    "cn_text"
   ]
  }
 ]
}