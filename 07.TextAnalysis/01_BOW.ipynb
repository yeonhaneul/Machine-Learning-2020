{
 "metadata": {
  "language_info": {
   "codemirror_mode": {
    "name": "ipython",
    "version": 3
   },
   "file_extension": ".py",
   "mimetype": "text/x-python",
   "name": "python",
   "nbconvert_exporter": "python",
   "pygments_lexer": "ipython3",
   "version": "3.8.3-final"
  },
  "orig_nbformat": 2,
  "kernelspec": {
   "name": "python3",
   "display_name": "Python 3",
   "language": "python"
  }
 },
 "nbformat": 4,
 "nbformat_minor": 2,
 "cells": [
  {
   "source": [
    "# 텍스트 분석 - BOW(Bag of Words)\n",
    "## 1. Count Vectorizer"
   ],
   "cell_type": "markdown",
   "metadata": {}
  },
  {
   "cell_type": "code",
   "execution_count": 1,
   "metadata": {},
   "outputs": [],
   "source": [
    "from sklearn.feature_extraction.text import CountVectorizer\n",
    "corpus = ['you know I want your love. because I love you.']"
   ]
  },
  {
   "cell_type": "code",
   "execution_count": 3,
   "metadata": {},
   "outputs": [
    {
     "output_type": "execute_result",
     "data": {
      "text/plain": [
       "array([[1, 1, 2, 1, 2, 1]], dtype=int64)"
      ]
     },
     "metadata": {},
     "execution_count": 3
    }
   ],
   "source": [
    "# fit_transform으로 한번에 쓸 수도 있다.\n",
    "count_vect = CountVectorizer()\n",
    "count_vect.fit(corpus)\n",
    "output = count_vect.transform(corpus)\n",
    "output.toarray()"
   ]
  },
  {
   "cell_type": "code",
   "execution_count": 4,
   "metadata": {},
   "outputs": [
    {
     "output_type": "execute_result",
     "data": {
      "text/plain": [
       "{'you': 4, 'know': 1, 'want': 3, 'your': 5, 'love': 2, 'because': 0}"
      ]
     },
     "metadata": {},
     "execution_count": 4
    }
   ],
   "source": [
    "# I는 stopwords로 자동적으로 빠진듯\n",
    "count_vect.vocabulary_"
   ]
  },
  {
   "source": [
    "### 불용어를 제거한 BoW"
   ],
   "cell_type": "markdown",
   "metadata": {}
  },
  {
   "cell_type": "code",
   "execution_count": 8,
   "metadata": {},
   "outputs": [
    {
     "output_type": "stream",
     "name": "stdout",
     "text": [
      "[[1 1 1 1 1]]\n{'family': 1, 'important': 2, 'thing': 4, 'it': 3, 'everything': 0}\n"
     ]
    }
   ],
   "source": [
    "# 자체제거\n",
    "text=[\"Family is not an important thing. It's everything.\"]\n",
    "cvect = CountVectorizer(stop_words=[\"the\", \"a\", \"an\", \"is\", \"not\"])\n",
    "print(cvect.fit_transform(text).toarray())\n",
    "print(cvect.vocabulary_)"
   ]
  },
  {
   "cell_type": "code",
   "execution_count": 9,
   "metadata": {},
   "outputs": [
    {
     "output_type": "stream",
     "name": "stdout",
     "text": [
      "[[1 1 1]]\n{'family': 0, 'important': 1, 'thing': 2}\n"
     ]
    }
   ],
   "source": [
    "# Scikit-learn에서 제공하는 불용어 사용\n",
    "text=[\"Family is not an important thing. It's everything.\"]\n",
    "cvect = CountVectorizer(stop_words='english')\n",
    "print(cvect.fit_transform(text).toarray())\n",
    "print(cvect.vocabulary_)"
   ]
  },
  {
   "cell_type": "code",
   "execution_count": 10,
   "metadata": {},
   "outputs": [
    {
     "output_type": "execute_result",
     "data": {
      "text/plain": [
       "179"
      ]
     },
     "metadata": {},
     "execution_count": 10
    }
   ],
   "source": [
    "# NLTK에서 제공하는 불용어 사용\n",
    "from nltk.corpus import stopwords\n",
    "sw = stopwords.words('english')\n",
    "len(sw)"
   ]
  },
  {
   "cell_type": "code",
   "execution_count": 11,
   "metadata": {},
   "outputs": [
    {
     "output_type": "stream",
     "name": "stdout",
     "text": [
      "[[1 1 1 1]]\n{'family': 1, 'important': 2, 'thing': 3, 'everything': 0}\n"
     ]
    }
   ],
   "source": [
    "text=[\"Family is not an important thing. It's everything.\"]\n",
    "cvect = CountVectorizer(stop_words=sw)\n",
    "print(cvect.fit_transform(text).toarray())\n",
    "print(cvect.vocabulary_)"
   ]
  },
  {
   "cell_type": "code",
   "execution_count": 12,
   "metadata": {},
   "outputs": [],
   "source": [
    "def get_word(index, voca):\n",
    "    for key, value in voca.items():\n",
    "        if value == index:\n",
    "            return key"
   ]
  },
  {
   "cell_type": "code",
   "execution_count": 13,
   "metadata": {},
   "outputs": [
    {
     "output_type": "execute_result",
     "data": {
      "text/plain": [
       "'thing'"
      ]
     },
     "metadata": {},
     "execution_count": 13
    }
   ],
   "source": [
    "get_word(3, cvect.vocabulary_)"
   ]
  },
  {
   "source": [
    "### N-gram"
   ],
   "cell_type": "markdown",
   "metadata": {}
  },
  {
   "cell_type": "code",
   "execution_count": 14,
   "metadata": {},
   "outputs": [
    {
     "output_type": "stream",
     "name": "stdout",
     "text": [
      "[[1 1 1 2 1 1 1]]\n{'machine': 5, 'learning': 4, 'is': 3, 'fun': 2, 'and': 0, 'not': 6, 'boring': 1}\n"
     ]
    }
   ],
   "source": [
    "text=[\"Machine learning is fun and is not boring\"]\n",
    "cvect = CountVectorizer()\n",
    "print(cvect.fit_transform(text).toarray())\n",
    "print(cvect.vocabulary_)"
   ]
  },
  {
   "cell_type": "code",
   "execution_count": 15,
   "metadata": {},
   "outputs": [
    {
     "output_type": "stream",
     "name": "stdout",
     "text": [
      "[[1 1 1 1 1 2 1 1 1 1 1 1 1 1]]\n{'machine': 10, 'learning': 8, 'is': 5, 'fun': 3, 'and': 0, 'not': 12, 'boring': 2, 'machine learning': 11, 'learning is': 9, 'is fun': 6, 'fun and': 4, 'and is': 1, 'is not': 7, 'not boring': 13}\n"
     ]
    }
   ],
   "source": [
    "# ngram_range 2-> 2개의 단어까지 나온다.\n",
    "cvect = CountVectorizer(ngram_range=(1,2))\n",
    "print(cvect.fit_transform(text).toarray())\n",
    "print(cvect.vocabulary_)"
   ]
  },
  {
   "cell_type": "code",
   "execution_count": 16,
   "metadata": {},
   "outputs": [
    {
     "output_type": "stream",
     "name": "stdout",
     "text": [
      "[[1 1 1 1 1 1 1 2 1 1 1 1 1 1 1 1 1 1 1 1]]\n{'machine': 15, 'learning': 12, 'is': 7, 'fun': 4, 'and': 0, 'not': 18, 'boring': 3, 'machine learning': 16, 'learning is': 13, 'is fun': 8, 'fun and': 5, 'and is': 1, 'is not': 10, 'not boring': 19, 'machine learning is': 17, 'learning is fun': 14, 'is fun and': 9, 'fun and is': 6, 'and is not': 2, 'is not boring': 11}\n"
     ]
    }
   ],
   "source": [
    "# ngram_range 2-> 문장 내 3개 단어의 조합까지 나온다.\n",
    "# ngram을 올릴수록 정확도는 올라가지만, 학습속도가 떨어지게된다.\n",
    "cvect = CountVectorizer(ngram_range=(1,3))\n",
    "print(cvect.fit_transform(text).toarray())\n",
    "print(cvect.vocabulary_)"
   ]
  },
  {
   "cell_type": "code",
   "execution_count": 18,
   "metadata": {},
   "outputs": [
    {
     "output_type": "stream",
     "name": "stdout",
     "text": [
      "[[1 1 1 1 1 1 1]]\n{'machine': 5, 'learning': 3, 'fun': 1, 'boring': 0, 'machine learning': 6, 'learning fun': 4, 'fun boring': 2}\n"
     ]
    }
   ],
   "source": [
    "cvect = CountVectorizer(ngram_range=(1,2), stop_words='english')\n",
    "print(cvect.fit_transform(text).toarray())\n",
    "print(cvect.vocabulary_)"
   ]
  },
  {
   "source": [
    "### CountVectorizer의 파라미터"
   ],
   "cell_type": "markdown",
   "metadata": {}
  },
  {
   "cell_type": "code",
   "execution_count": 19,
   "metadata": {},
   "outputs": [
    {
     "output_type": "execute_result",
     "data": {
      "text/plain": [
       "{'analyzer': 'word',\n",
       " 'binary': False,\n",
       " 'decode_error': 'strict',\n",
       " 'dtype': numpy.int64,\n",
       " 'encoding': 'utf-8',\n",
       " 'input': 'content',\n",
       " 'lowercase': True,\n",
       " 'max_df': 1.0,\n",
       " 'max_features': None,\n",
       " 'min_df': 1,\n",
       " 'ngram_range': (1, 2),\n",
       " 'preprocessor': None,\n",
       " 'stop_words': 'english',\n",
       " 'strip_accents': None,\n",
       " 'token_pattern': '(?u)\\\\b\\\\w\\\\w+\\\\b',\n",
       " 'tokenizer': None,\n",
       " 'vocabulary': None}"
      ]
     },
     "metadata": {},
     "execution_count": 19
    }
   ],
   "source": [
    "cvect.get_params()"
   ]
  },
  {
   "source": [
    "## 2. TF-IDF Vectorizer"
   ],
   "cell_type": "markdown",
   "metadata": {}
  },
  {
   "cell_type": "code",
   "execution_count": 20,
   "metadata": {},
   "outputs": [
    {
     "output_type": "stream",
     "name": "stdout",
     "text": [
      "[[0 1 0 1 0 1 0 1 1]\n [0 0 1 0 0 0 0 1 0]\n [1 0 0 0 1 0 1 0 0]]\n{'you': 7, 'know': 1, 'want': 5, 'your': 8, 'love': 3, 'like': 2, 'what': 6, 'should': 4, 'do': 0}\n"
     ]
    }
   ],
   "source": [
    "from sklearn.feature_extraction.text import TfidfVectorizer\n",
    "corpus = [\n",
    "    'you know I want your love',\n",
    "    'I like you',\n",
    "    'what should I do'\n",
    "]\n",
    "count_vect = CountVectorizer()\n",
    "print(count_vect.fit_transform(corpus).toarray())\n",
    "print(count_vect.vocabulary_)"
   ]
  },
  {
   "cell_type": "code",
   "execution_count": 21,
   "metadata": {},
   "outputs": [
    {
     "output_type": "stream",
     "name": "stdout",
     "text": [
      "[[0.         0.46735098 0.         0.46735098 0.         0.46735098\n  0.         0.35543247 0.46735098]\n [0.         0.         0.79596054 0.         0.         0.\n  0.         0.60534851 0.        ]\n [0.57735027 0.         0.         0.         0.57735027 0.\n  0.57735027 0.         0.        ]]\n{'you': 7, 'know': 1, 'want': 5, 'your': 8, 'love': 3, 'like': 2, 'what': 6, 'should': 4, 'do': 0}\n"
     ]
    }
   ],
   "source": [
    "tfidf_vect = TfidfVectorizer()\n",
    "print(tfidf_vect.fit_transform(corpus).toarray())\n",
    "print(tfidf_vect.vocabulary_)"
   ]
  },
  {
   "cell_type": "code",
   "execution_count": 22,
   "metadata": {},
   "outputs": [
    {
     "output_type": "execute_result",
     "data": {
      "text/plain": [
       "{'analyzer': 'word',\n",
       " 'binary': False,\n",
       " 'decode_error': 'strict',\n",
       " 'dtype': numpy.float64,\n",
       " 'encoding': 'utf-8',\n",
       " 'input': 'content',\n",
       " 'lowercase': True,\n",
       " 'max_df': 1.0,\n",
       " 'max_features': None,\n",
       " 'min_df': 1,\n",
       " 'ngram_range': (1, 1),\n",
       " 'norm': 'l2',\n",
       " 'preprocessor': None,\n",
       " 'smooth_idf': True,\n",
       " 'stop_words': None,\n",
       " 'strip_accents': None,\n",
       " 'sublinear_tf': False,\n",
       " 'token_pattern': '(?u)\\\\b\\\\w\\\\w+\\\\b',\n",
       " 'tokenizer': None,\n",
       " 'use_idf': True,\n",
       " 'vocabulary': None}"
      ]
     },
     "metadata": {},
     "execution_count": 22
    }
   ],
   "source": [
    "tfidf_vect.get_params()"
   ]
  },
  {
   "cell_type": "code",
   "execution_count": null,
   "metadata": {},
   "outputs": [],
   "source": []
  }
 ]
}